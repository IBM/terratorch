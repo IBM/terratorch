{
 "cells": [
  {
   "cell_type": "code",
   "execution_count": null,
   "id": "2430341f",
   "metadata": {},
   "outputs": [],
   "source": [
    "from terratorch import BACKBONE_REGISTRY\n",
    "import torch"
   ]
  },
  {
   "cell_type": "code",
   "execution_count": null,
   "id": "39d974f3",
   "metadata": {},
   "outputs": [],
   "source": [
    "model = BACKBONE_REGISTRY.build(\n",
    "    'terramind_v1_large', \n",
    "    pretrained=True, \n",
    "    modalities=['S2L2A']    \n",
    ")"
   ]
  },
  {
   "cell_type": "code",
   "execution_count": null,
   "id": "7832f515",
   "metadata": {},
   "outputs": [],
   "source": [
    "model.eval()"
   ]
  },
  {
   "cell_type": "code",
   "execution_count": null,
   "id": "52f8c036",
   "metadata": {},
   "outputs": [],
   "source": [
    "example_input = torch.randn(1, 12, 224, 224)\n",
    "torch.onnx.export(\n",
    "    model,\n",
    "    example_input,\n",
    "    \"model.onnx\",\n",
    "    input_names=[\"input\"],\n",
    "    output_names=[\"output\"],\n",
    "    dynamic_axes={\"input\": {0: \"batch_size\"}, \"output\": {0: \"batch_size\"}},\n",
    "    opset_version=11\n",
    ")"
   ]
  },
  {
   "cell_type": "code",
   "execution_count": null,
   "id": "68aee9bf",
   "metadata": {},
   "outputs": [],
   "source": []
  }
 ],
 "metadata": {
  "kernelspec": {
   "display_name": ".venv",
   "language": "python",
   "name": "python3"
  },
  "language_info": {
   "codemirror_mode": {
    "name": "ipython",
    "version": 3
   },
   "file_extension": ".py",
   "mimetype": "text/x-python",
   "name": "python",
   "nbconvert_exporter": "python",
   "pygments_lexer": "ipython3",
   "version": "3.13.5"
  }
 },
 "nbformat": 4,
 "nbformat_minor": 5
}
