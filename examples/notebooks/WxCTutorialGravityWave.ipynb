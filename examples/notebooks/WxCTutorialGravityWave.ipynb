{
 "cells": [
  {
   "cell_type": "markdown",
   "metadata": {},
   "source": [
    "# Prithvi WxC Gravity Wave: Model Fine Tuning and Inference using TerraTorch"
   ]
  },
  {
   "cell_type": "code",
   "metadata": {},
   "source": "!pip install -U -e ../../\n",
   "outputs": [],
   "execution_count": null
  },
  {
   "cell_type": "code",
   "metadata": {},
   "source": "!pip install -U albumentations # fix until https://github.com/IBM/terratorch/issues/164 is solved",
   "outputs": [],
   "execution_count": null
  },
  {
   "cell_type": "code",
   "metadata": {},
   "source": [
    "!pip install -U git+https://github.com/romeokienzler/gravity-wave-finetuning.git\n"
   ],
   "outputs": [],
   "execution_count": null
  },
  {
   "cell_type": "code",
   "metadata": {},
   "source": [
    "!pip install huggingface_hub"
   ],
   "outputs": [],
   "execution_count": null
  },
  {
   "cell_type": "code",
   "metadata": {
    "ExecuteTime": {
     "end_time": "2024-11-29T08:14:17.633710Z",
     "start_time": "2024-11-29T08:14:03.625634Z"
    }
   },
   "source": [
    "import terratorch # this import is needed to initialize TT's factories\n",
    "from lightning.pytorch import Trainer\n",
    "import os\n",
    "import torch\n",
    "from huggingface_hub import hf_hub_download, snapshot_download\n",
    "from terratorch.models.wxc_model_factory import WxCModelFactory\n",
    "import torch.distributed as dist"
   ],
   "outputs": [
    {
     "name": "stderr",
     "output_type": "stream",
     "text": [
      "/home/romeokienzler/gitco/terratorch.romeokienzler.210/.venv/lib64/python3.12/site-packages/tqdm/auto.py:21: TqdmWarning: IProgress not found. Please update jupyter and ipywidgets. See https://ipywidgets.readthedocs.io/en/stable/user_install.html\n",
      "  from .autonotebook import tqdm as notebook_tqdm\n",
      "INFO:albumentations.check_version:A new version of Albumentations is available: 1.4.21 (you have 1.4.10). Upgrade using: pip install --upgrade albumentations\n",
      "/home/romeokienzler/gitco/terratorch.romeokienzler.210/.venv/lib64/python3.12/site-packages/kornia/feature/lightglue.py:44: FutureWarning: `torch.cuda.amp.custom_fwd(args...)` is deprecated. Please use `torch.amp.custom_fwd(args..., device_type='cuda')` instead.\n",
      "  @torch.cuda.amp.custom_fwd(cast_inputs=torch.float32)\n"
     ]
    }
   ],
   "execution_count": 1
  },
  {
   "cell_type": "code",
   "metadata": {
    "ExecuteTime": {
     "end_time": "2024-11-29T08:14:17.659890Z",
     "start_time": "2024-11-29T08:14:17.644319Z"
    }
   },
   "source": [
    "os.environ['MASTER_ADDR'] = 'localhost'\n",
    "os.environ['MASTER_PORT'] = '12355' \n",
    "\n",
    "if dist.is_initialized():\n",
    "    dist.destroy_process_group()\n",
    "\n",
    "dist.init_process_group(\n",
    "    backend='gloo',\n",
    "    init_method='env://', \n",
    "    rank=0,\n",
    "    world_size=1\n",
    ")"
   ],
   "outputs": [],
   "execution_count": 2
  },
  {
   "cell_type": "code",
   "metadata": {
    "ExecuteTime": {
     "end_time": "2024-11-29T08:14:18.357440Z",
     "start_time": "2024-11-29T08:14:17.896849Z"
    }
   },
   "source": [
    "hf_hub_download(\n",
    "    repo_id=\"Prithvi-WxC/Gravity_wave_Parameterization\",\n",
    "    filename=f\"magnet-flux-uvtp122-epoch-99-loss-0.1022.pt\",\n",
    "    local_dir=\".\",\n",
    ")\n",
    "\n",
    "hf_hub_download(\n",
    "    repo_id=\"Prithvi-WxC/Gravity_wave_Parameterization\",\n",
    "    filename=f\"config.yaml\",\n",
    "    local_dir=\".\",\n",
    ")"
   ],
   "outputs": [
    {
     "data": {
      "text/plain": [
       "'config.yaml'"
      ]
     },
     "execution_count": 3,
     "metadata": {},
     "output_type": "execute_result"
    }
   ],
   "execution_count": 3
  },
  {
   "cell_type": "code",
   "metadata": {
    "ExecuteTime": {
     "end_time": "2024-11-29T08:14:18.619614Z",
     "start_time": "2024-11-29T08:14:18.386602Z"
    }
   },
   "source": [
    "hf_hub_download(\n",
    "    repo_id=\"Prithvi-WxC/Gravity_wave_Parameterization\",\n",
    "    repo_type='dataset',\n",
    "    filename=f\"wxc_input_u_v_t_p_output_theta_uw_vw_era5_training_data_hourly_2015_constant_mu_sigma_scaling05.nc\",\n",
    "    local_dir=\".\",\n",
    ")"
   ],
   "outputs": [
    {
     "data": {
      "text/plain": [
       "'wxc_input_u_v_t_p_output_theta_uw_vw_era5_training_data_hourly_2015_constant_mu_sigma_scaling05.nc'"
      ]
     },
     "execution_count": 4,
     "metadata": {},
     "output_type": "execute_result"
    }
   ],
   "execution_count": 4
  },
  {
   "cell_type": "code",
<<<<<<< HEAD
   "metadata": {
    "ExecuteTime": {
     "end_time": "2024-11-29T08:14:19.348442Z",
     "start_time": "2024-11-29T08:14:18.647501Z"
    }
   },
=======
   "metadata": {},
>>>>>>> origin/201
   "source": [
    "from prithviwxc.gravitywave.datamodule import ERA5DataModule\n",
    "from terratorch.tasks.wxc_gravity_wave_task import WxCGravityWaveTask\n",
    "\n",
    "model_args = {\n",
    "    \"in_channels\": 1280,\n",
    "    \"input_size_time\": 1,\n",
    "    \"n_lats_px\": 64,\n",
    "    \"n_lons_px\": 128,\n",
    "    \"patch_size_px\": [2, 2],\n",
    "    \"mask_unit_size_px\": [8, 16],\n",
    "    \"mask_ratio_inputs\": 0.5,\n",
    "    \"embed_dim\": 2560,\n",
    "    \"n_blocks_encoder\": 12,\n",
    "    \"n_blocks_decoder\": 2,\n",
    "    \"mlp_multiplier\": 4,\n",
    "    \"n_heads\": 16,\n",
    "    \"dropout\": 0.0,\n",
    "    \"drop_path\": 0.05,\n",
    "    \"parameter_dropout\": 0.0,\n",
    "    \"residual\": \"none\",\n",
    "    \"masking_mode\": \"both\",\n",
    "    \"decoder_shifting\": False,\n",
    "    \"positional_encoding\": \"absolute\",\n",
    "    \"checkpoint_encoder\": [3, 6, 9, 12, 15, 18, 21, 24],\n",
    "    \"checkpoint_decoder\": [1, 3],\n",
    "    \"in_channels_static\": 3,\n",
    "    \"input_scalers_mu\": torch.tensor([0] * 1280),\n",
    "    \"input_scalers_sigma\": torch.tensor([1] * 1280),\n",
    "    \"input_scalers_epsilon\": 0,\n",
    "    \"static_input_scalers_mu\": torch.tensor([0] * 3),\n",
    "    \"static_input_scalers_sigma\": torch.tensor([1] * 3),\n",
    "    \"static_input_scalers_epsilon\": 0,\n",
    "    \"output_scalers\": torch.tensor([0] * 1280),\n",
<<<<<<< HEAD
    "    \"encoder_hidden_channels_multiplier\" : [1, 2, 4, 8],\n",
    "    \"encoder_num_encoder_blocks\" : 4,\n",
    "    \"decoder_hidden_channels_multiplier\" : [(16, 8), (12, 4), (6, 2), (3, 1)],\n",
    "    \"decoder_num_decoder_blocks\" : 4,\n",
=======
>>>>>>> origin/201
    "}\n",
    "task = WxCGravityWaveTask(WxCModelFactory(), model_args=model_args, mode='eval')"
   ],
   "outputs": [
    {
     "ename": "TypeError",
     "evalue": "PrithviWxC.__init__() got an unexpected keyword argument 'encoder_hidden_channels_multiplier'",
     "output_type": "error",
     "traceback": [
      "\u001B[0;31m---------------------------------------------------------------------------\u001B[0m",
      "\u001B[0;31mTypeError\u001B[0m                                 Traceback (most recent call last)",
      "Cell \u001B[0;32mIn[5], line 39\u001B[0m\n\u001B[1;32m      2\u001B[0m \u001B[38;5;28;01mfrom\u001B[39;00m \u001B[38;5;21;01mterratorch\u001B[39;00m\u001B[38;5;21;01m.\u001B[39;00m\u001B[38;5;21;01mtasks\u001B[39;00m\u001B[38;5;21;01m.\u001B[39;00m\u001B[38;5;21;01mwxc_gravity_wave_task\u001B[39;00m \u001B[38;5;28;01mimport\u001B[39;00m WxCGravityWaveTask\n\u001B[1;32m      4\u001B[0m model_args \u001B[38;5;241m=\u001B[39m {\n\u001B[1;32m      5\u001B[0m     \u001B[38;5;124m\"\u001B[39m\u001B[38;5;124min_channels\u001B[39m\u001B[38;5;124m\"\u001B[39m: \u001B[38;5;241m1280\u001B[39m,\n\u001B[1;32m      6\u001B[0m     \u001B[38;5;124m\"\u001B[39m\u001B[38;5;124minput_size_time\u001B[39m\u001B[38;5;124m\"\u001B[39m: \u001B[38;5;241m1\u001B[39m,\n\u001B[0;32m   (...)\u001B[0m\n\u001B[1;32m     37\u001B[0m     \u001B[38;5;124m\"\u001B[39m\u001B[38;5;124mdecoder_num_decoder_blocks\u001B[39m\u001B[38;5;124m\"\u001B[39m : \u001B[38;5;241m4\u001B[39m,\n\u001B[1;32m     38\u001B[0m }\n\u001B[0;32m---> 39\u001B[0m task \u001B[38;5;241m=\u001B[39m \u001B[43mWxCGravityWaveTask\u001B[49m\u001B[43m(\u001B[49m\u001B[43mWxCModelFactory\u001B[49m\u001B[43m(\u001B[49m\u001B[43m)\u001B[49m\u001B[43m,\u001B[49m\u001B[43m \u001B[49m\u001B[43mmodel_args\u001B[49m\u001B[38;5;241;43m=\u001B[39;49m\u001B[43mmodel_args\u001B[49m\u001B[43m,\u001B[49m\u001B[43m \u001B[49m\u001B[43mmode\u001B[49m\u001B[38;5;241;43m=\u001B[39;49m\u001B[38;5;124;43m'\u001B[39;49m\u001B[38;5;124;43meval\u001B[39;49m\u001B[38;5;124;43m'\u001B[39;49m\u001B[43m)\u001B[49m\n",
      "File \u001B[0;32m~/gitco/terratorch.romeokienzler.210/terratorch/tasks/wxc_gravity_wave_task.py:14\u001B[0m, in \u001B[0;36mWxCGravityWaveTask.__init__\u001B[0;34m(self, model_factory, model_args, mode, learning_rate)\u001B[0m\n\u001B[1;32m     12\u001B[0m \u001B[38;5;28mself\u001B[39m\u001B[38;5;241m.\u001B[39mmodel_factory \u001B[38;5;241m=\u001B[39m model_factory\n\u001B[1;32m     13\u001B[0m \u001B[38;5;28mself\u001B[39m\u001B[38;5;241m.\u001B[39mlearning_rate \u001B[38;5;241m=\u001B[39m learning_rate\n\u001B[0;32m---> 14\u001B[0m \u001B[38;5;28;43msuper\u001B[39;49m\u001B[43m(\u001B[49m\u001B[43m)\u001B[49m\u001B[38;5;241;43m.\u001B[39;49m\u001B[38;5;21;43m__init__\u001B[39;49m\u001B[43m(\u001B[49m\u001B[43m)\u001B[49m\n",
      "File \u001B[0;32m~/gitco/terratorch.romeokienzler.210/.venv/lib64/python3.12/site-packages/torchgeo/trainers/base.py:39\u001B[0m, in \u001B[0;36mBaseTask.__init__\u001B[0;34m(self, ignore)\u001B[0m\n\u001B[1;32m     37\u001B[0m \u001B[38;5;28msuper\u001B[39m()\u001B[38;5;241m.\u001B[39m\u001B[38;5;21m__init__\u001B[39m()\n\u001B[1;32m     38\u001B[0m \u001B[38;5;28mself\u001B[39m\u001B[38;5;241m.\u001B[39msave_hyperparameters(ignore\u001B[38;5;241m=\u001B[39mignore)\n\u001B[0;32m---> 39\u001B[0m \u001B[38;5;28;43mself\u001B[39;49m\u001B[38;5;241;43m.\u001B[39;49m\u001B[43mconfigure_models\u001B[49m\u001B[43m(\u001B[49m\u001B[43m)\u001B[49m\n\u001B[1;32m     40\u001B[0m \u001B[38;5;28mself\u001B[39m\u001B[38;5;241m.\u001B[39mconfigure_losses()\n\u001B[1;32m     41\u001B[0m \u001B[38;5;28mself\u001B[39m\u001B[38;5;241m.\u001B[39mconfigure_metrics()\n",
      "File \u001B[0;32m~/gitco/terratorch.romeokienzler.210/terratorch/tasks/wxc_gravity_wave_task.py:22\u001B[0m, in \u001B[0;36mWxCGravityWaveTask.configure_models\u001B[0;34m(self)\u001B[0m\n\u001B[1;32m     20\u001B[0m device \u001B[38;5;241m=\u001B[39m torch\u001B[38;5;241m.\u001B[39mdevice(\u001B[38;5;124m\"\u001B[39m\u001B[38;5;124mcuda\u001B[39m\u001B[38;5;124m\"\u001B[39m \u001B[38;5;28;01mif\u001B[39;00m torch\u001B[38;5;241m.\u001B[39mcuda\u001B[38;5;241m.\u001B[39mis_available() \u001B[38;5;28;01melse\u001B[39;00m \u001B[38;5;124m\"\u001B[39m\u001B[38;5;124mcpu\u001B[39m\u001B[38;5;124m\"\u001B[39m)\n\u001B[1;32m     21\u001B[0m \u001B[38;5;66;03m#self.model = self.model_factory.build_model(backbone='prithviwxc', aux_decoders=None, **self.hparams[\"model_args\"])\u001B[39;00m\n\u001B[0;32m---> 22\u001B[0m \u001B[38;5;28mself\u001B[39m\u001B[38;5;241m.\u001B[39mmodel \u001B[38;5;241m=\u001B[39m \u001B[38;5;28;43mself\u001B[39;49m\u001B[38;5;241;43m.\u001B[39;49m\u001B[43mmodel_factory\u001B[49m\u001B[38;5;241;43m.\u001B[39;49m\u001B[43mbuild_model\u001B[49m\u001B[43m(\u001B[49m\u001B[43mbackbone\u001B[49m\u001B[38;5;241;43m=\u001B[39;49m\u001B[38;5;124;43m'\u001B[39;49m\u001B[38;5;124;43mprithviwxc\u001B[39;49m\u001B[38;5;124;43m'\u001B[39;49m\u001B[43m,\u001B[49m\u001B[43m \u001B[49m\u001B[43maux_decoders\u001B[49m\u001B[38;5;241;43m=\u001B[39;49m\u001B[38;5;28;43;01mNone\u001B[39;49;00m\u001B[43m,\u001B[49m\u001B[43m \u001B[49m\u001B[38;5;241;43m*\u001B[39;49m\u001B[38;5;241;43m*\u001B[39;49m\u001B[38;5;28;43mself\u001B[39;49m\u001B[38;5;241;43m.\u001B[39;49m\u001B[43mmodel_args\u001B[49m\u001B[43m)\u001B[49m\n\u001B[1;32m     23\u001B[0m \u001B[38;5;28mself\u001B[39m\u001B[38;5;241m.\u001B[39mmodel \u001B[38;5;241m=\u001B[39m \u001B[38;5;28mself\u001B[39m\u001B[38;5;241m.\u001B[39mmodel\u001B[38;5;241m.\u001B[39mto(device)\n\u001B[1;32m     24\u001B[0m layer_devices \u001B[38;5;241m=\u001B[39m []\n",
      "File \u001B[0;32m~/gitco/terratorch.romeokienzler.210/terratorch/models/wxc_model_factory.py:64\u001B[0m, in \u001B[0;36mWxCModelFactory.build_model\u001B[0;34m(self, backbone, aux_decoders, backbone_weights, **kwargs)\u001B[0m\n\u001B[1;32m     61\u001B[0m     \u001B[38;5;28mprint\u001B[39m(\u001B[38;5;124mf\u001B[39m\u001B[38;5;124m\"\u001B[39m\u001B[38;5;124mModule not found: \u001B[39m\u001B[38;5;132;01m{\u001B[39;00me\u001B[38;5;241m.\u001B[39mname\u001B[38;5;132;01m}\u001B[39;00m\u001B[38;5;124m. Please install PrithviWxC using pip install PrithviWxC\u001B[39m\u001B[38;5;124m\"\u001B[39m)\n\u001B[1;32m     62\u001B[0m     \u001B[38;5;28;01mraise\u001B[39;00m\n\u001B[0;32m---> 64\u001B[0m backbone \u001B[38;5;241m=\u001B[39m \u001B[43mprithviwxc\u001B[49m\u001B[38;5;241;43m.\u001B[39;49m\u001B[43mPrithviWxC\u001B[49m\u001B[43m(\u001B[49m\u001B[38;5;241;43m*\u001B[39;49m\u001B[38;5;241;43m*\u001B[39;49m\u001B[43mkwargs\u001B[49m\u001B[43m)\u001B[49m\n\u001B[1;32m     66\u001B[0m \u001B[38;5;66;03m# Freeze PrithviWxC model parameters\u001B[39;00m\n\u001B[1;32m     67\u001B[0m \u001B[38;5;28;01mfor\u001B[39;00m param \u001B[38;5;129;01min\u001B[39;00m backbone\u001B[38;5;241m.\u001B[39mparameters():\n",
      "\u001B[0;31mTypeError\u001B[0m: PrithviWxC.__init__() got an unexpected keyword argument 'encoder_hidden_channels_multiplier'"
     ]
    }
   ],
   "execution_count": 5
  },
  {
   "cell_type": "code",
   "metadata": {},
   "source": [
    "trainer = Trainer(\n",
    "    max_epochs=1,\n",
    ")\n",
    "dm = ERA5DataModule(train_data_path='.', valid_data_path='.')\n",
    "type(dm)"
   ],
   "outputs": [],
   "execution_count": null
  },
  {
   "cell_type": "code",
   "metadata": {},
   "source": "results = trainer.predict(model=task, datamodule=dm, return_predictions=True)",
   "outputs": [],
   "execution_count": null
  },
  {
   "metadata": {},
   "cell_type": "code",
   "source": "task = WxCGravityWaveTask(WxCModelFactory(),mode='train')",
   "outputs": [],
   "execution_count": null
  },
  {
   "metadata": {},
   "cell_type": "code",
   "source": "results = trainer.fit(model=task, datamodule=dm)",
   "outputs": [],
   "execution_count": null
  },
  {
   "cell_type": "code",
   "metadata": {},
   "source": [
    "dist.destroy_process_group()"
   ],
   "outputs": [],
   "execution_count": null
  }
 ],
 "metadata": {
  "kernelspec": {
   "display_name": ".venv",
   "language": "python",
   "name": "python3"
  },
  "language_info": {
   "codemirror_mode": {
    "name": "ipython",
    "version": 3
   },
   "file_extension": ".py",
   "mimetype": "text/x-python",
   "name": "python",
   "nbconvert_exporter": "python",
   "pygments_lexer": "ipython3",
   "version": "3.12.7"
  }
 },
 "nbformat": 4,
 "nbformat_minor": 4
}
