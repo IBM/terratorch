{
 "cells": [
  {
   "cell_type": "markdown",
   "metadata": {},
   "source": [
    "# Prithvi WxC Downscaling: Model Inference using TerraTorch\n",
    "This notebook is a walk through to use a finetuned downscaling model to generate inferences using TerraTorch. We show how to initalize the model, load weights, and use the model for inference using TerraTorch.\n",
    "\n",
    "Note to set up your environment by running the following cells. (We recommend to run this notebook in an empty pyton 3.11 environment)  \n",
    "(e.g.,   \n",
    "python3.11 -m venv .venv  \n",
    "source .venv/bin/activate  \n",
    ")  \n",
    "\n",
    "We assume that you've cloned terratorch with:  \n",
    "git clone https://github.com/IBM/terratorch.git  \n",
    "And you run this notebook from terratorch/examples/notebooks  "
   ]
  },
  {
   "cell_type": "code",
   "execution_count": null,
   "metadata": {},
   "outputs": [],
   "source": [
    "!pip install -U ../../."
   ]
  },
  {
   "cell_type": "code",
   "execution_count": null,
   "metadata": {},
   "outputs": [],
   "source": [
    "!pip install -U albumentations # fix until https://github.com/IBM/terratorch/issues/164 is solved"
   ]
  },
  {
   "cell_type": "code",
   "execution_count": null,
   "metadata": {},
   "outputs": [],
   "source": [
    "!pip install git+https://github.com/NASA-IMPACT/Prithvi-WxC.git"
   ]
  },
  {
   "cell_type": "code",
   "execution_count": null,
   "metadata": {},
   "outputs": [],
   "source": [
    "!pip install git+https://github.com/IBM/granite-wxc.git"
   ]
  },
  {
   "cell_type": "code",
   "execution_count": null,
   "metadata": {},
   "outputs": [],
   "source": [
    "!pip install huggingface_hub"
   ]
  },
  {
   "cell_type": "code",
   "execution_count": null,
   "metadata": {},
   "outputs": [],
   "source": [
    "import terratorch # this import is needed to initialize TT's factories\n",
    "from lightning.pytorch import Trainer\n",
    "import os\n",
    "from granitewxc.utils.config import get_config\n",
    "import torch\n",
    "from terratorch.tasks.wxc_downscaling_task import WxCDownscalingTask\n",
    "from terratorch.datamodules.merra2_downscale import Merra2DownscaleNonGeoDataModule\n",
    "from granitewxc.utils.data import _get_transforms\n",
    "from huggingface_hub import hf_hub_download, snapshot_download"
   ]
  },
  {
   "cell_type": "markdown",
   "metadata": {},
   "source": [
    "\n",
    "## Load Config\n",
    "\n",
    "We provide a configuration file that is used to configure data variables and model parameters. For inference most of these configurations are used as is. This includes the variables that the model is trained on, the variables that we downscale, the number of input timesteps, the amount of downscaling, the embedding dimensions for the model. When necessary, we will show which configurations need to be specified or changed outside of what is set in this file already.\n"
   ]
  },
  {
   "cell_type": "code",
   "execution_count": null,
   "metadata": {},
   "outputs": [],
   "source": [
    "config = get_config('../confs/granite-wxc-merra2-downscale-config.yaml')\n",
    "config.download_path = './'\n",
    "\n",
    "config.data.data_path_surface = os.path.join(config.download_path,'merra-2')\n",
    "config.data.data_path_vertical = os.path.join(config.download_path, 'merra-2')\n",
    "config.data.climatology_path_surface = os.path.join(config.download_path,'climatology')\n",
    "config.data.climatology_path_vertical = os.path.join(config.download_path,'climatology')\n",
    "\n",
    "config.model.input_scalers_surface_path = os.path.join(config.download_path,'climatology/musigma_surface.nc')\n",
    "config.model.input_scalers_vertical_path = os.path.join(config.download_path,'climatology/musigma_vertical.nc')\n",
    "config.model.output_scalers_surface_path = os.path.join(config.download_path,'climatology/anomaly_variance_surface.nc')\n",
    "config.model.output_scalers_vertical_path = os.path.join(config.download_path,'climatology/anomaly_variance_vertical.nc')\n"
   ]
  },
  {
   "cell_type": "markdown",
   "metadata": {},
   "source": [
    "\n",
    "## Download Model and Sample Data\n",
    "\n",
    "We provide sample data from MERRA-2 dataset for a single day (2020 January 01), and weights for a finetuned downscaling model that we use in this notebook. These will be downloaded when you run the cell/s below\n",
    "\n",
    "Before running the download set config.download_path to the directory where you want the model and sample data to be downloaded\n",
    "\n",
    "Note: With config.download_path = './' the files are downloaded in the current working directory\n"
   ]
  },
  {
   "cell_type": "code",
   "execution_count": null,
   "metadata": {},
   "outputs": [],
   "source": [
    "snapshot_download(\n",
    "    repo_id=\"Prithvi-WxC/prithvi.wxc.2300m.v1\",\n",
    "    allow_patterns=\"merra-2/MERRA2_sfc_2020010[1].nc\",\n",
    "    local_dir=\".\",\n",
    ")\n",
    "\n",
    "snapshot_download(\n",
    "    repo_id=\"Prithvi-WxC/prithvi.wxc.2300m.v1\",\n",
    "    allow_patterns=\"merra-2/MERRA_pres_2020010[1].nc\",\n",
    "    local_dir=\".\",\n",
    ")"
   ]
  },
  {
   "cell_type": "markdown",
   "metadata": {},
   "source": [
    "\n",
    "## Climatology\n",
    "\n",
    "The PrithviWxC model was trained to calculate the output by producing a perturbation to the climatology at the target time. This mode of operation is set via the residual=climate option. This was chosen as climatology is typically a strong prior for long-range prediction. When using the residual=climate option, we have to provide the dataloader with the path of the climatology data.\n"
   ]
  },
  {
   "cell_type": "code",
   "execution_count": null,
   "metadata": {},
   "outputs": [],
   "source": [
    "snapshot_download(\n",
    "    repo_id=\"Prithvi-WxC/prithvi.wxc.2300m.v1\",\n",
    "    allow_patterns=\"climatology/climate_surface_doy00[1]*.nc\",\n",
    "    local_dir=\".\",\n",
    ")\n",
    "\n",
    "snapshot_download(\n",
    "    repo_id=\"Prithvi-WxC/prithvi.wxc.2300m.v1\",\n",
    "    allow_patterns=\"climatology/climate_vertical_doy00[1]*.nc\",\n",
    "    local_dir=\".\",\n",
    ")\n",
    "\n",
    "hf_hub_download(\n",
    "    repo_id=\"Prithvi-WxC/prithvi.wxc.2300m.v1\",\n",
    "    filename=f\"climatology/anomaly_variance_surface.nc\",\n",
    "    local_dir=\".\",\n",
    ")\n",
    "\n",
    "hf_hub_download(\n",
    "    repo_id=\"Prithvi-WxC/prithvi.wxc.2300m.v1\",\n",
    "    filename=f\"climatology/anomaly_variance_vertical.nc\",\n",
    "    local_dir=\".\",\n",
    ")\n",
    "\n",
    "hf_hub_download(\n",
    "    repo_id=\"Prithvi-WxC/prithvi.wxc.2300m.v1\",\n",
    "    filename=f\"climatology/musigma_surface.nc\",\n",
    "    local_dir=\".\",\n",
    ")\n",
    "\n",
    "hf_hub_download(\n",
    "    repo_id=\"Prithvi-WxC/prithvi.wxc.2300m.v1\",\n",
    "    filename=f\"climatology/musigma_vertical.nc\",\n",
    "    local_dir=\".\",\n",
    ")"
   ]
  },
  {
   "cell_type": "code",
   "execution_count": null,
   "metadata": {},
   "outputs": [],
   "source": [
    "task = WxCDownscalingTask(model_args = {}, model_factory = 'WxCModelFactory', model_config=config, optimizer='AdamW', optimizer_hparams={'weight_decay': 0.05})"
   ]
  },
  {
   "cell_type": "code",
   "execution_count": null,
   "metadata": {},
   "outputs": [],
   "source": [
    "if torch.cuda.is_available():\n",
    "    accelerator = 'cuda'\n",
    "else:\n",
    "    accelerator = 'cpu'\n",
    "accelerator"
   ]
  },
  {
   "cell_type": "code",
   "execution_count": null,
   "metadata": {},
   "outputs": [],
   "source": [
    "hf_hub_download(\n",
    "    repo_id=\"ibm-granite/granite-geospatial-wxc-downscaling\",\n",
    "    filename=f\"pytorch_model.bin\",\n",
    "    local_dir=\".\",\n",
    ")"
   ]
  },
  {
   "cell_type": "code",
   "execution_count": null,
   "metadata": {},
   "outputs": [],
   "source": [
    "task.model.load_state_dict(torch.load('./pytorch_model.bin', weights_only=True, map_location=torch.device(accelerator)))"
   ]
  },
  {
   "cell_type": "code",
   "execution_count": null,
   "metadata": {},
   "outputs": [],
   "source": [
    "datamodule = Merra2DownscaleNonGeoDataModule(\n",
    "            data_path_surface = config.data.data_path_surface,\n",
    "            data_path_vertical = config.data.data_path_vertical,\n",
    "            climatology_path_surface = config.data.climatology_path_surface,\n",
    "            climatology_path_vertical = config.data.climatology_path_vertical,\n",
    "            input_surface_vars = config.data.input_surface_vars,\n",
    "            input_static_surface_vars = config.data.input_static_surface_vars,\n",
    "            input_vertical_vars = config.data.input_vertical_vars,\n",
    "            input_levels = config.data.input_levels,\n",
    "            n_input_timestamps = config.data.n_input_timestamps,\n",
    "            output_vars=config.data.output_vars,\n",
    "            time_range=('2020-01-01', '2020-01-02'),\n",
    "            transforms=_get_transforms(config),)\n",
    "datamodule.setup('predict')"
   ]
  },
  {
   "cell_type": "code",
   "execution_count": null,
   "metadata": {},
   "outputs": [],
   "source": [
    "trainer = Trainer(\n",
    "    accelerator=accelerator,\n",
    "    max_epochs=1,\n",
    ")\n",
    "\n",
    "results = trainer.predict(model=task, datamodule=datamodule, return_predictions=True)"
   ]
  },
  {
   "cell_type": "code",
   "execution_count": null,
   "metadata": {},
   "outputs": [],
   "source": [
    "import matplotlib.pyplot as plt\n",
    "import numpy as np\n",
    "\n",
    "slice = results[0][0][0][0]\n",
    "slice = torch.flip(slice, dims=[0])\n",
    "\n",
    "plt.imshow(slice.numpy())\n",
    "plt.title(f\"2M air temperature\")\n",
    "plt.show()"
   ]
  },
  {
   "cell_type": "code",
   "execution_count": null,
   "metadata": {},
   "outputs": [],
   "source": []
  }
 ],
 "metadata": {
  "kernelspec": {
   "display_name": "Python 3 (ipykernel)",
   "language": "python",
   "name": "python3"
  },
  "language_info": {
   "codemirror_mode": {
    "name": "ipython",
    "version": 3
   },
   "file_extension": ".py",
   "mimetype": "text/x-python",
   "name": "python",
   "nbconvert_exporter": "python",
   "pygments_lexer": "ipython3",
   "version": "3.11.9"
  }
 },
 "nbformat": 4,
 "nbformat_minor": 4
}
