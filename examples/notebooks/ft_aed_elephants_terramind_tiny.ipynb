{
 "cells": [
  {
   "cell_type": "code",
   "execution_count": 1,
   "id": "f15dec03",
   "metadata": {},
   "outputs": [
    {
     "name": "stderr",
     "output_type": "stream",
     "text": [
      "/home/romeokienzler/gitco/terratorch.add.tm-tiny.aed-elephant/.venv/lib64/python3.13/site-packages/tqdm/auto.py:21: TqdmWarning: IProgress not found. Please update jupyter and ipywidgets. See https://ipywidgets.readthedocs.io/en/stable/user_install.html\n",
      "  from .autonotebook import tqdm as notebook_tqdm\n"
     ]
    }
   ],
   "source": [
    "from terratorch.datasets.od_aed_elephant import ElephantCocoDataset"
   ]
  },
  {
   "cell_type": "code",
   "execution_count": 2,
   "id": "5003e466",
   "metadata": {},
   "outputs": [
    {
     "name": "stdout",
     "output_type": "stream",
     "text": [
      "loading annotations into memory...\n",
      "Done (t=0.03s)\n",
      "creating index...\n",
      "index created!\n"
     ]
    }
   ],
   "source": [
    "ds = ElephantCocoDataset(\n",
    "    img_folder='/home/romeokienzler/Downloads/AED/training_images',\n",
    "    ann_file='/home/romeokienzler/Downloads/AED/annotations_elephants_training.json',\n",
    ")"
   ]
  },
  {
   "cell_type": "code",
   "execution_count": 3,
   "id": "22d7fc18",
   "metadata": {},
   "outputs": [
    {
     "data": {
      "text/plain": [
       "1634"
      ]
     },
     "execution_count": 3,
     "metadata": {},
     "output_type": "execute_result"
    }
   ],
   "source": [
    "len(ds)"
   ]
  },
  {
   "cell_type": "code",
   "execution_count": 4,
   "id": "9db6c6b8",
   "metadata": {},
   "outputs": [],
   "source": [
    "e = ds[0]"
   ]
  },
  {
   "cell_type": "code",
   "execution_count": 8,
   "id": "66254ead",
   "metadata": {},
   "outputs": [],
   "source": [
    "h, w = e['image'].shape[-2:]"
   ]
  },
  {
   "cell_type": "code",
   "execution_count": 10,
   "id": "ce9a180e",
   "metadata": {},
   "outputs": [
    {
     "data": {
      "text/plain": [
       "5472"
      ]
     },
     "execution_count": 10,
     "metadata": {},
     "output_type": "execute_result"
    }
   ],
   "source": [
    "w"
   ]
  },
  {
   "cell_type": "code",
   "execution_count": null,
   "id": "ce87622f",
   "metadata": {},
   "outputs": [],
   "source": [
    "from terratorch.datamodules.od_aed_elephant import ElephantDataModule\n",
    "dm = ElephantDataModule(img_folder='/home/romeokienzler/Downloads/AED/training_images', ann_file='/home/romeokienzler/Downloads/AED/annotations_elep\\\n",
    "hants_training.json', min_size=(3648, 5472), tile_size=(512,512), overlap=128, batch_size=8, num_workers=8)\n"
   ]
  },
  {
   "cell_type": "code",
   "execution_count": null,
   "id": "8eef8376",
   "metadata": {},
   "outputs": [],
   "source": [
    "dm.setup()"
   ]
  },
  {
   "cell_type": "code",
   "execution_count": null,
   "id": "9da16e44",
   "metadata": {},
   "outputs": [],
   "source": [
    "tdl = dm.train_dataloader()"
   ]
  },
  {
   "cell_type": "code",
   "execution_count": null,
   "id": "4fbce25b",
   "metadata": {},
   "outputs": [],
   "source": []
  }
 ],
 "metadata": {
  "kernelspec": {
   "display_name": ".venv",
   "language": "python",
   "name": "python3"
  },
  "language_info": {
   "codemirror_mode": {
    "name": "ipython",
    "version": 3
   },
   "file_extension": ".py",
   "mimetype": "text/x-python",
   "name": "python",
   "nbconvert_exporter": "python",
   "pygments_lexer": "ipython3",
   "version": "3.13.7"
  }
 },
 "nbformat": 4,
 "nbformat_minor": 5
}
