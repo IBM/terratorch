{
 "cells": [
  {
   "cell_type": "code",
   "execution_count": null,
   "id": "05e196a0",
   "metadata": {},
   "outputs": [],
   "source": [
    "!pip install -e ../../\n"
   ]
  },
  {
   "cell_type": "code",
   "execution_count": null,
   "id": "1b6ded29",
   "metadata": {},
   "outputs": [],
   "source": [
    "!wget https://raw.githubusercontent.com/akihironitta/xView-PyTorch/refs/heads/master/datasets.py\n",
    "!mv datasets.py ../../terratorch/datasets/xview.py\n"
   ]
  },
  {
   "cell_type": "code",
   "execution_count": null,
   "id": "fe3d1fb1",
   "metadata": {},
   "outputs": [],
   "source": [
    "from terratorch.datamodules.xview import XviewDataModule\n",
    "dm = XviewDataModule()"
   ]
  },
  {
   "cell_type": "code",
   "execution_count": null,
   "id": "6d1802f0",
   "metadata": {},
   "outputs": [],
   "source": []
  }
 ],
 "metadata": {
  "kernelspec": {
   "display_name": ".venv",
   "language": "python",
   "name": "python3"
  },
  "language_info": {
   "codemirror_mode": {
    "name": "ipython",
    "version": 3
   },
   "file_extension": ".py",
   "mimetype": "text/x-python",
   "name": "python",
   "nbconvert_exporter": "python",
   "pygments_lexer": "ipython3",
   "version": "3.13.2"
  }
 },
 "nbformat": 4,
 "nbformat_minor": 5
}
