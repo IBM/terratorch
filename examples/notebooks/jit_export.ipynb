{
 "cells": [
  {
   "cell_type": "code",
   "execution_count": null,
   "id": "2430341f",
   "metadata": {},
   "outputs": [],
   "source": [
    "from terratorch import BACKBONE_REGISTRY\n",
    "import torch"
   ]
  },
  {
   "cell_type": "code",
   "execution_count": null,
   "id": "39d974f3",
   "metadata": {},
   "outputs": [],
   "source": [
    "model = BACKBONE_REGISTRY.build(\n",
    "    'terramind_v1_large', \n",
    "    pretrained=True, \n",
    "    modalities=['S2L2A']    \n",
    ")"
   ]
  },
  {
   "cell_type": "code",
   "execution_count": null,
   "id": "7832f515",
   "metadata": {},
   "outputs": [],
   "source": [
    "model.eval()"
   ]
  },
  {
   "cell_type": "code",
   "execution_count": null,
   "id": "05007ca1",
   "metadata": {},
   "outputs": [],
   "source": [
    "example_input = torch.randn(1, 12, 224, 224)\n",
    "traced_model = torch.jit.trace(model, example_input)\n",
    "traced_model.save(\"model_traced.pt\")"
   ]
  },
  {
   "cell_type": "code",
   "execution_count": null,
   "id": "b4bb83ef",
   "metadata": {},
   "outputs": [],
   "source": [
    "jit_model = torch.jit.load(\"model_traced.pt\")\n",
    "jit_model.eval()  "
   ]
  },
  {
   "cell_type": "code",
   "execution_count": null,
   "id": "93fc7087",
   "metadata": {},
   "outputs": [],
   "source": [
    "x = torch.randn(1, 12, 224, 224)\n",
    "output = jit_model(x)"
   ]
  },
  {
   "cell_type": "code",
   "execution_count": null,
   "id": "75810ea7",
   "metadata": {},
   "outputs": [],
   "source": [
    "output_stacked = torch.stack(output)"
   ]
  },
  {
   "cell_type": "code",
   "execution_count": null,
   "id": "2aa22050",
   "metadata": {},
   "outputs": [],
   "source": [
    "output[-1][0].flatten().shape\n"
   ]
  },
  {
   "cell_type": "code",
   "execution_count": null,
   "id": "1ee0eed8",
   "metadata": {},
   "outputs": [],
   "source": [
    "last_output = output[-1]\n",
    "\n",
    "sliced_tensor = last_output[1:]  \n",
    "flattened_tensor = sliced_tensor[-2:]   \n",
    "\n",
    "print(flattened_tensor.shape) \n"
   ]
  }
 ],
 "metadata": {
  "kernelspec": {
   "display_name": ".venv",
   "language": "python",
   "name": "python3"
  },
  "language_info": {
   "codemirror_mode": {
    "name": "ipython",
    "version": 3
   },
   "file_extension": ".py",
   "mimetype": "text/x-python",
   "name": "python",
   "nbconvert_exporter": "python",
   "pygments_lexer": "ipython3",
   "version": "3.13.3"
  }
 },
 "nbformat": 4,
 "nbformat_minor": 5
}
