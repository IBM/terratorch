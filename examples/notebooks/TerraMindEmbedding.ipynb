{
 "cells": [
  {
   "metadata": {},
   "cell_type": "markdown",
   "source": [
    "# Embedding Generation\n",
    "This example performs generation of a single embedding vector from a 16x16 Sentinel-2 RGB image patch with TerraMind."
   ],
   "id": "7b6872e1a26474b6"
  },
  {
   "metadata": {
    "ExecuteTime": {
     "end_time": "2025-09-03T14:06:14.479739Z",
     "start_time": "2025-09-03T14:06:10.449506Z"
    }
   },
   "cell_type": "code",
   "source": [
    "from pathlib import Path\n",
    "\n",
    "import torch\n",
    "import rioxarray as rxr\n",
    "from huggingface_hub import hf_hub_download\n",
    "from terratorch.registry import BACKBONE_REGISTRY\n",
    "import numpy as np\n",
    "\n",
    "# Select device\n",
    "if torch.cuda.is_available():\n",
    "    device = 'cuda'\n",
    "elif torch.backends.mps.is_available():\n",
    "    device = 'mps'\n",
    "else:\n",
    "    device = 'cpu'"
   ],
   "id": "6f31289e8bb79bc8",
   "outputs": [
    {
     "name": "stderr",
     "output_type": "stream",
     "text": [
      "/Users/jonathangiezendanner/terratorch/lib/python3.12/site-packages/tqdm/auto.py:21: TqdmWarning: IProgress not found. Please update jupyter and ipywidgets. See https://ipywidgets.readthedocs.io/en/stable/user_install.html\n",
      "  from .autonotebook import tqdm as notebook_tqdm\n",
      "INFO:albumentations.check_version:A new version of Albumentations is available: 2.0.8 (you have 1.4.10). Upgrade using: pip install --upgrade albumentations\n"
     ]
    }
   ],
   "execution_count": 1
  },
  {
   "metadata": {
    "ExecuteTime": {
     "end_time": "2025-09-03T14:06:15.701171Z",
     "start_time": "2025-09-03T14:06:14.482743Z"
    }
   },
   "cell_type": "code",
   "source": [
    "# build model\n",
    "model = BACKBONE_REGISTRY.build(\n",
    "    \"terramind_v1_base\",\n",
    "    # modalities=[\"S2L2A\"], # all S2 bands\n",
    "    modalities=[\"S2RGB\"], # S2 RGB bands\n",
    "    pretrained=True,\n",
    ")\n",
    "\n",
    "model = model.to(device)"
   ],
   "id": "f539a8e5118a9f8c",
   "outputs": [],
   "execution_count": 2
  },
  {
   "metadata": {
    "ExecuteTime": {
     "end_time": "2025-09-03T14:06:15.736147Z",
     "start_time": "2025-09-03T14:06:15.732416Z"
    }
   },
   "cell_type": "code",
   "source": "model.eval()",
   "id": "5b4a3e0c6719a23",
   "outputs": [
    {
     "data": {
      "text/plain": [
       "TerraMindViT(\n",
       "  (encoder_embeddings): ModuleDict(\n",
       "    (untok_sen2rgb@224): ImageEncoderEmbedding(\n",
       "      (proj): Linear(in_features=768, out_features=768, bias=False)\n",
       "    )\n",
       "  )\n",
       "  (encoder): ModuleList(\n",
       "    (0-11): 12 x Block(\n",
       "      (norm1): LayerNorm()\n",
       "      (attn): Attention(\n",
       "        (qkv): Linear(in_features=768, out_features=2304, bias=False)\n",
       "        (attn_drop): Dropout(p=0.0, inplace=False)\n",
       "        (proj): Linear(in_features=768, out_features=768, bias=False)\n",
       "        (proj_drop): Dropout(p=0.0, inplace=False)\n",
       "      )\n",
       "      (drop_path): Identity()\n",
       "      (norm2): LayerNorm()\n",
       "      (mlp): GatedMlp(\n",
       "        (fc1): Linear(in_features=768, out_features=2048, bias=False)\n",
       "        (act): SiLU()\n",
       "        (fc2): Linear(in_features=2048, out_features=768, bias=False)\n",
       "        (fc3): Linear(in_features=768, out_features=2048, bias=False)\n",
       "      )\n",
       "    )\n",
       "  )\n",
       "  (encoder_norm): LayerNorm()\n",
       "  (tokenizer): ModuleDict()\n",
       ")"
      ]
     },
     "execution_count": 3,
     "metadata": {},
     "output_type": "execute_result"
    }
   ],
   "execution_count": 3
  },
  {
   "metadata": {
    "ExecuteTime": {
     "end_time": "2025-09-03T14:06:17.662695Z",
     "start_time": "2025-09-03T14:06:15.741811Z"
    }
   },
   "cell_type": "code",
   "source": [
    "# Download image if necessary\n",
    "image_path = Path('examples/S2L2A/Santiago.tif')\n",
    "if not image_path.exists():\n",
    "    hf_hub_download(repo_id='ibm-esa-geospatial/Examples', filename='S2L2A/Santiago.tif', repo_type='dataset', local_dir='examples/')"
   ],
   "id": "e553c977d92bccf0",
   "outputs": [],
   "execution_count": 4
  },
  {
   "metadata": {
    "ExecuteTime": {
     "end_time": "2025-09-03T14:06:17.676341Z",
     "start_time": "2025-09-03T14:06:17.674692Z"
    }
   },
   "cell_type": "code",
   "source": [
    "means={\n",
    "  \"S2L2A\": [1390.458, 1503.317, 1718.197, 1853.910, 2199.100, 2779.975, 2987.011, 3083.234, 3132.220, 3162.988, 2424.884, 1857.648],\n",
    "}\n",
    "stds={\n",
    "  \"S2L2A\": [2106.761, 2141.107, 2038.973, 2134.138, 2085.321, 1889.926, 1820.257, 1871.918, 1753.829, 1797.379, 1434.261, 1334.311],\n",
    "}"
   ],
   "id": "179c25ceca558745",
   "outputs": [],
   "execution_count": 5
  },
  {
   "metadata": {
    "ExecuteTime": {
     "end_time": "2025-09-03T14:06:17.767392Z",
     "start_time": "2025-09-03T14:06:17.681036Z"
    }
   },
   "cell_type": "code",
   "source": [
    "# Open image\n",
    "data = rxr.open_rasterio(image_path).values\n",
    "# Select RGB image of dimension 16x16,, and normalisee with pre-computed values\n",
    "data = ((data[[3,2,1], 0:16, 0:16]\n",
    "        - np.array(means['S2L2A'])[[3,2,1]][:, None, None])/\n",
    "          np.array(stds['S2L2A'])[[3,2,1]][:, None, None])\n",
    "data.shape"
   ],
   "id": "c8762da1f9c249dc",
   "outputs": [
    {
     "data": {
      "text/plain": [
       "(3, 16, 16)"
      ]
     },
     "execution_count": 6,
     "metadata": {},
     "output_type": "execute_result"
    }
   ],
   "execution_count": 6
  },
  {
   "metadata": {
    "ExecuteTime": {
     "end_time": "2025-09-03T14:06:17.782975Z",
     "start_time": "2025-09-03T14:06:17.776847Z"
    }
   },
   "cell_type": "code",
   "source": [
    "#create torch input\n",
    "input = torch.tensor(data, dtype=torch.float, device=device).unsqueeze(0)\n",
    "input.shape"
   ],
   "id": "a1c59e0fa1068b11",
   "outputs": [
    {
     "data": {
      "text/plain": [
       "torch.Size([1, 3, 16, 16])"
      ]
     },
     "execution_count": 7,
     "metadata": {},
     "output_type": "execute_result"
    }
   ],
   "execution_count": 7
  },
  {
   "metadata": {},
   "cell_type": "markdown",
   "source": "## Retrieve Embedding",
   "id": "2d082befe0f70d5"
  },
  {
   "metadata": {
    "ExecuteTime": {
     "end_time": "2025-09-03T14:06:18.792767Z",
     "start_time": "2025-09-03T14:06:17.787072Z"
    }
   },
   "cell_type": "code",
   "source": [
    "# we evaluate the pretrained model on the embedding and retrieve the last layer\n",
    "with torch.no_grad():\n",
    "    embedding = model(input)[-1]\n",
    "embedding = embedding.cpu().squeeze().numpy()"
   ],
   "id": "d30e42abb5255efd",
   "outputs": [],
   "execution_count": 8
  },
  {
   "metadata": {
    "ExecuteTime": {
     "end_time": "2025-09-03T14:06:19.023246Z",
     "start_time": "2025-09-03T14:06:19.021502Z"
    }
   },
   "cell_type": "code",
   "source": [
    "# print output embedding\n",
    "embedding.shape"
   ],
   "id": "b014a6c72e6f442f",
   "outputs": [
    {
     "data": {
      "text/plain": [
       "(768,)"
      ]
     },
     "execution_count": 9,
     "metadata": {},
     "output_type": "execute_result"
    }
   ],
   "execution_count": 9
  },
  {
   "metadata": {
    "ExecuteTime": {
     "end_time": "2025-09-03T14:06:19.034640Z",
     "start_time": "2025-09-03T14:06:19.031132Z"
    }
   },
   "cell_type": "code",
   "source": "embedding",
   "id": "4f4ea2ee352a6a23",
   "outputs": [
    {
     "data": {
      "text/plain": [
       "array([-1.05185461e+00, -2.96659052e-01, -4.40784097e-01, -1.09374428e+00,\n",
       "       -1.83860093e-01, -6.45335197e-01,  2.95654297e-01,  5.62499523e-01,\n",
       "       -9.57847178e-01, -3.17983890e+00,  4.16670024e-01,  3.98576781e-02,\n",
       "       -8.69262964e-02,  2.10801557e-01,  4.03485149e-01,  1.21850669e+00,\n",
       "        4.07431036e-01,  1.40248418e-01,  3.20111960e-01,  3.56350422e-01,\n",
       "       -5.40736318e-01,  4.95276093e-01, -9.75980759e-02,  6.01038992e-01,\n",
       "       -2.10025817e-01,  7.08338201e-01, -9.81072366e-01, -2.55511165e-01,\n",
       "       -2.47449920e-01,  6.22350387e-02,  1.43448949e-01,  6.90883398e-01,\n",
       "        1.05935261e-01, -1.09017551e+00,  3.03466380e-01, -3.42815965e-02,\n",
       "       -4.50023621e-01,  7.75412098e-02, -9.94802177e-01,  6.56497657e-01,\n",
       "        4.07347381e-01,  6.63134530e-02, -4.30926442e-01, -1.77112728e-01,\n",
       "        4.36142683e-01,  5.32098293e-01,  4.04113084e-02,  8.86695921e-01,\n",
       "       -2.32016034e-02, -6.63361490e-01, -5.71947470e-02,  5.12252808e-01,\n",
       "        2.26341531e-01,  1.96955696e-01, -6.37049973e-01, -1.78438067e-01,\n",
       "        8.46431494e-01, -3.41895163e-01, -4.79836203e-02, -3.89416933e-01,\n",
       "       -2.92538386e-03,  6.72763705e-01,  5.55975884e-02,  5.14942110e-01,\n",
       "       -1.90241292e-01, -3.69580775e-01,  1.34638786e-01, -6.25644505e-01,\n",
       "        6.43627703e-01,  2.00069584e-02,  5.13825938e-03,  2.14114085e-01,\n",
       "        7.52417207e-01, -3.95916671e-01, -1.61633730e-01,  7.23535299e-01,\n",
       "        1.13434267e+00,  1.39561248e+00,  2.63576686e-01, -1.03295696e+00,\n",
       "        5.09401083e-01,  3.63304019e-01, -1.48838997e-01, -1.21637650e-01,\n",
       "        5.92618704e-01, -3.90008688e-01, -1.44020170e-01, -1.47766471e-01,\n",
       "        3.37640435e-01, -1.56906933e-01, -2.96297252e-01, -5.73804677e-01,\n",
       "       -5.68703175e-01, -3.98843706e-01, -7.41002917e-01,  8.61755833e-02,\n",
       "       -4.42442447e-02, -6.57681882e-01,  1.59326017e-01,  2.82898992e-01,\n",
       "        9.63033020e-01, -1.16527581e+00,  6.12963974e-01,  7.40450695e-02,\n",
       "        8.38030398e-01,  4.82805759e-01, -2.64877230e-01, -8.92122328e-01,\n",
       "        2.31975168e-01, -1.53538740e+00, -1.71894774e-01,  2.74158418e-02,\n",
       "        9.09421384e-01, -8.82548153e-01, -2.96448827e-01,  5.05632937e-01,\n",
       "       -1.16530108e+00, -3.95819902e-01,  1.04982233e+00, -5.97320832e-02,\n",
       "        2.89398700e-01, -3.59384157e-02,  1.02656096e-01,  3.17980915e-01,\n",
       "       -7.61013627e-01,  2.98549592e-01, -8.30504704e+00, -1.16748023e+00,\n",
       "        1.08867276e+00,  6.01329267e-01, -2.48270124e-01,  1.12489074e-01,\n",
       "       -8.81483436e-01, -7.38461852e-01, -1.95616388e+00, -8.89427960e-01,\n",
       "       -1.80922508e-01,  4.24126685e-01,  1.65734693e-01,  3.88288856e-01,\n",
       "        1.82296723e-01,  3.32516670e-01, -1.17162332e-01, -2.75099128e-01,\n",
       "       -3.40452522e-01,  6.08889818e-01, -9.14828300e-01, -2.79165745e-01,\n",
       "        2.19865724e-01, -4.19421196e-01, -5.31120300e-01, -8.80792558e-01,\n",
       "        4.06860411e-01,  8.04115295e-01,  2.57701516e-01, -7.03490674e-01,\n",
       "       -3.01201135e-01, -9.84457731e-01,  4.24023628e-01, -9.79029119e-01,\n",
       "       -2.37880439e-01,  4.90713567e-01, -2.92326242e-01, -2.19372716e-02,\n",
       "       -2.75859088e-01, -2.05240294e-01, -6.15550697e-01, -4.86022353e-01,\n",
       "       -4.03966159e-01,  1.83214489e-02,  9.39397991e-01, -2.66588122e-01,\n",
       "        3.95151734e-01, -1.01827455e+00,  2.42693961e-01, -3.08357656e-01,\n",
       "       -3.07895392e-01,  1.22740400e+00,  9.96717453e-01,  1.06000774e-01,\n",
       "       -1.63465247e-01, -1.19817369e-01,  6.30207658e-02, -3.09828758e-01,\n",
       "        2.20163360e-01,  5.46393692e-01, -1.41823792e+00, -5.34812629e-01,\n",
       "       -1.45538294e+00,  8.57344925e-01,  2.46081799e-01,  6.25613809e-01,\n",
       "        4.23032224e-01,  6.00283407e-02,  2.59260982e-01, -1.89512134e-01,\n",
       "        4.76289719e-01, -7.36376122e-02,  2.66703516e-01, -4.97907907e-01,\n",
       "       -1.70022517e-01, -5.04224122e-01, -1.71379000e-01, -9.72862244e-01,\n",
       "        2.48642206e-01, -6.14291489e-01, -1.07992435e+00,  6.98705971e-01,\n",
       "       -1.21068764e+00, -1.14775455e+00, -2.96820939e-01, -5.45798123e-01,\n",
       "        1.29962862e+00, -6.05053723e-01, -2.32991859e-01,  9.64030981e-01,\n",
       "        7.78190911e-01, -8.18405449e-02,  4.77964342e-01, -1.65125877e-01,\n",
       "        5.11831939e-02, -3.41033518e-01,  7.14364275e-02,  1.75608218e-01,\n",
       "        3.17466855e-01, -2.63060480e-01,  8.21379960e-01, -5.32093644e-01,\n",
       "        5.31675756e-01, -1.02091146e+00,  1.57461882e-01, -2.18927622e-01,\n",
       "       -3.45355868e-01, -4.10266630e-02, -2.02825025e-01, -6.97497070e-01,\n",
       "        4.70618308e-01,  3.08432788e-01, -1.50650457e-01, -3.83791663e-02,\n",
       "       -3.62411626e-02, -8.82664919e-01,  1.18294024e+00, -2.07396284e-01,\n",
       "       -2.15259925e-01,  1.16421020e+00,  1.30344376e-01, -2.46026322e-01,\n",
       "       -4.70128059e-01, -1.59048811e-01,  6.42035246e-01,  8.59254479e-01,\n",
       "        9.41188812e-01, -8.99492919e-01,  4.42099959e-01,  5.41715860e-01,\n",
       "       -1.23222042e-02, -7.54699558e-02,  7.22471774e-01, -8.66480619e-02,\n",
       "       -5.67423701e-01,  5.51736057e-01, -4.91092801e-02, -2.38452816e+00,\n",
       "        3.25824201e-01,  2.92955190e-02,  1.93528578e-01, -4.19426262e-01,\n",
       "        5.86018562e-01, -1.82528690e-01,  3.35732937e-01,  8.04646194e-01,\n",
       "        2.08540633e-01,  8.05692792e-01,  1.99274406e-01,  7.43179768e-02,\n",
       "        1.79355353e-01, -1.64779603e-01,  7.89998993e-02, -6.85403883e-01,\n",
       "        8.55936289e-01,  4.88105208e-01, -1.05783880e+00,  4.66744080e-02,\n",
       "        2.64820363e-02,  9.40916955e-01, -8.45949650e-01, -8.89209688e-01,\n",
       "        5.32067239e-01,  2.03686029e-01, -4.57977742e-01,  9.07177627e-01,\n",
       "        2.61347026e-01,  5.08178294e-01, -6.85204268e-01,  1.40129054e+00,\n",
       "       -1.10214293e+00,  9.27665234e-01, -1.06959820e+00, -1.78223059e-01,\n",
       "        3.59072387e-01, -5.11236310e-01, -1.12671563e-02,  1.21365376e-01,\n",
       "       -4.40801829e-02,  5.66375852e-01, -3.94973040e-01, -4.16764766e-01,\n",
       "        4.76148129e-01,  7.66051829e-01, -3.75527769e-01,  4.53636497e-01,\n",
       "        2.25270391e-01, -5.70444763e-01,  5.96496642e-01, -1.28131777e-01,\n",
       "       -6.97366744e-02,  4.81623739e-01, -1.61096767e-01, -1.85230345e-01,\n",
       "        7.41820812e-01, -2.80097127e-01,  1.45402765e+00,  4.32979465e-01,\n",
       "        3.20210576e-01, -8.19746733e-01, -2.12404966e-01, -1.84027538e-01,\n",
       "        7.29321241e-01,  1.14505768e+00, -5.22548020e-01,  1.84323475e-01,\n",
       "        1.37638760e+00,  3.30321014e-01,  9.35983360e-02, -3.23120475e-01,\n",
       "        2.46522993e-01,  8.88020635e-01,  8.93709064e-01,  5.60248783e-03,\n",
       "       -4.24016297e-01, -8.07522357e-01,  4.40981448e-01, -6.64868951e-01,\n",
       "       -5.95377803e-01,  2.21906155e-01,  6.55304044e-02,  4.55458999e-01,\n",
       "        8.90838634e-03,  3.05436254e-01, -4.97588336e-01,  1.53460249e-01,\n",
       "        3.67716432e-01, -3.96976382e-01,  7.92045772e-01,  2.80522048e-01,\n",
       "       -8.60753655e-02, -2.77177781e-01,  4.73809749e-01,  1.14234788e-02,\n",
       "       -1.38719273e+00,  2.18374401e-01, -1.02364244e-02,  3.96105230e-01,\n",
       "        9.80991423e-01, -1.81866929e-01,  1.10279906e+00, -9.45941210e-02,\n",
       "       -1.27710402e-01,  5.12284450e-02, -6.09353304e-01,  4.00567710e-01,\n",
       "        3.82321537e-01, -1.89098859e+00, -7.58558989e-01, -7.92948008e-01,\n",
       "        1.06528163e-01,  8.41196954e-01,  4.00796056e-01,  1.58807486e-01,\n",
       "        3.87965180e-02, -8.31827343e-01,  3.18342984e-01, -4.34313089e-01,\n",
       "        5.65404780e-02,  5.60840189e-01,  4.54496503e-01,  6.51613176e-01,\n",
       "       -2.13363200e-01, -5.36640942e-01, -1.18643105e-01, -1.88238823e+00,\n",
       "       -2.57068098e-01, -8.61130655e-02, -3.33268195e-01, -9.73104060e-01,\n",
       "       -1.21871591e-01,  8.51164281e-01,  2.94473588e-01,  5.05639054e-02,\n",
       "        2.43099526e-01, -9.56377625e-01,  5.76513231e-01,  1.97918728e-01,\n",
       "        1.57723081e+00,  2.70872116e+00,  9.19322610e-01,  8.15394104e-01,\n",
       "       -4.38180655e-01, -1.13750836e-02, -3.27539891e-02,  5.19878864e-01,\n",
       "        4.28605407e-01, -1.83540463e-01,  1.84915468e-01,  2.20167711e-01,\n",
       "       -8.08282495e-01, -7.22978234e-01, -1.49688646e-01, -4.96001720e-01,\n",
       "       -2.47377567e-02, -2.30164692e-01,  1.25473046e+00,  5.60001731e-02,\n",
       "       -4.44653034e-01,  4.69423592e-01, -2.85081595e-01,  4.67868567e-01,\n",
       "        1.14775729e+00, -5.95045924e-01,  3.97736937e-01,  4.32716429e-01,\n",
       "       -4.93114829e-01,  2.79724002e-01,  2.97022283e-01, -2.06189179e+00,\n",
       "        4.11511779e-01,  7.56883681e-01,  6.37178719e-01,  4.16419357e-01,\n",
       "       -9.83174443e-02,  3.30177754e-01, -3.42953444e-01, -4.68691111e-01,\n",
       "       -8.36047888e-01, -1.94856673e-01, -1.03113306e+00,  1.04927853e-01,\n",
       "       -4.09466207e-01, -2.83087313e-01,  9.59365740e-02,  1.76040739e-01,\n",
       "       -1.75923660e-01, -2.94348389e-01,  1.55432731e-01,  1.44742399e-01,\n",
       "        1.00466982e-01,  1.34779835e+00, -3.20608079e-01,  1.05560578e-01,\n",
       "        2.06222683e-01,  9.31465268e-01,  8.40698183e-01, -1.93084195e-01,\n",
       "        3.41136694e-01, -8.19352448e-01,  5.27355075e-01, -3.58499599e+00,\n",
       "       -1.92831352e-01,  9.53285515e-01,  9.68681514e-01,  7.03587115e-01,\n",
       "        5.53759634e-01,  1.15318143e+00, -6.19980335e-01, -6.55945688e-02,\n",
       "       -1.00707568e-01,  4.19588745e-01, -3.29048753e-01,  2.73063406e-03,\n",
       "       -2.64560789e-01,  2.48546183e-01, -1.19432640e+00, -8.56721342e-01,\n",
       "        3.91116261e-01,  4.46106434e-01,  1.42524707e+00, -3.74771535e-01,\n",
       "        1.14491932e-01,  7.88902700e-01,  2.87265509e-01, -6.82116270e-01,\n",
       "        3.28218788e-01,  2.80256838e-01, -8.92652333e-01, -8.88664126e-02,\n",
       "       -3.33506614e-01, -3.48218642e-02,  7.57849157e-01, -3.59885126e-01,\n",
       "       -3.22148532e-01, -9.73315418e-01, -1.88755408e-01,  5.66991687e-01,\n",
       "        1.06253338e+00, -2.93139279e-01, -1.67691931e-01, -2.70805240e-01,\n",
       "       -7.05467939e-01,  4.95998532e-01, -4.69216526e-01, -3.16275984e-01,\n",
       "        6.80929720e-02,  1.43594885e+00,  8.10485065e-01, -4.66938913e-01,\n",
       "        2.21112713e-01, -6.53025389e-01,  2.82709956e-01,  9.56055105e-01,\n",
       "       -5.31951845e-01, -2.53809571e-01, -1.01269953e-01, -1.17749549e-01,\n",
       "        2.65111595e-01, -2.06881594e-02,  2.06158802e-01, -6.58396304e-01,\n",
       "       -1.49292827e-01,  1.93539232e-01,  1.34309876e+00,  2.33228102e-01,\n",
       "       -6.36921525e-01, -2.88240276e-02,  4.25407290e-02,  9.11376476e-01,\n",
       "        4.51379009e-02, -1.80051899e+00,  1.68390468e-01, -4.95309234e-01,\n",
       "        9.16382074e-01,  1.72647345e+00, -6.83577061e-01, -5.76157868e-01,\n",
       "       -5.81349850e-01,  7.43336082e-01,  2.51748741e-01, -5.58752418e-01,\n",
       "        5.71758926e-01, -2.02108309e-01, -3.22497994e-01,  1.24046162e-01,\n",
       "       -3.71730812e-02, -2.63228148e-01,  9.95336711e-01,  7.14545310e-01,\n",
       "        7.26597309e-01, -2.40313247e-01,  1.30465120e-01, -1.29070923e-01,\n",
       "       -4.37432438e-01,  1.12526977e+00, -1.56782344e-01, -7.50348747e-01,\n",
       "       -3.18775475e-01, -4.16015834e-02,  3.56474727e-01,  4.80582595e-01,\n",
       "        2.21759319e-01, -9.32916701e-01, -7.87956342e-02,  9.10226703e-02,\n",
       "        4.64157388e-02,  1.05144238e+00, -1.00079656e-01,  7.80864120e-01,\n",
       "       -9.89863098e-01,  5.02021372e-01, -3.57399195e-01, -1.25984281e-01,\n",
       "        6.44995511e-01,  4.02621721e-04,  1.20733166e+00, -3.63292694e-01,\n",
       "       -1.44104376e-01, -1.29297817e+00, -1.12374075e-01, -7.68448532e-01,\n",
       "        7.54462555e-02,  3.11782390e-01, -4.56092417e-01, -6.47320807e-01,\n",
       "        1.32375643e-01, -2.88464457e-01, -6.86609566e-01, -1.08972955e+00,\n",
       "       -9.80390549e-01, -5.12492239e-01,  8.03302974e-02, -7.96581864e-01,\n",
       "       -7.65166402e-01, -3.42377961e-01, -5.91332912e-01, -8.60553324e-01,\n",
       "        3.54907326e-02, -1.05998981e+00, -5.31381547e-01,  1.65939486e+00,\n",
       "        4.37369347e-01, -9.75021064e-01, -5.12723505e-01,  5.88256240e-01,\n",
       "        3.58574152e-01,  1.20048642e+00, -1.93220347e-01,  4.08371240e-01,\n",
       "        4.01645780e-01,  8.25768173e-01, -1.16349757e+00,  1.72742236e+00,\n",
       "       -1.74662530e-01, -2.15803099e+00,  1.09307027e+00, -1.25052929e-01,\n",
       "        1.37256944e+00, -2.69939482e-01,  1.66336857e-02, -9.44064498e-01,\n",
       "       -6.03791654e-01,  8.65792972e-05,  1.29549608e-01, -1.05587435e+00,\n",
       "        1.20318222e+00, -2.62066156e-01,  3.01478535e-01,  1.43350855e-01,\n",
       "        6.81227744e-01,  1.11310494e+00, -2.46848479e-01, -6.19806707e-01,\n",
       "        9.26345587e-01,  1.75572670e+00,  7.23039269e-01,  2.58837461e-01,\n",
       "       -4.73834991e-01, -4.36495841e-02,  1.87699631e-01,  8.09054434e-01,\n",
       "        1.61554724e-01,  2.04776376e-01, -1.76027551e-01, -7.59059250e-01,\n",
       "        1.82237521e-01,  9.82223094e-01,  1.33416131e-01, -3.47681552e-01,\n",
       "        2.22631380e-01,  3.06083947e-01,  5.46238124e-01,  1.09002560e-01,\n",
       "        9.13368881e-01,  9.64329183e-01, -3.28610659e-01,  3.55169833e-01,\n",
       "       -1.79029673e-01, -2.24041075e-01,  3.21201026e-01, -2.80091614e-01,\n",
       "       -3.95177454e-01,  1.92663833e-01,  2.58041352e-01,  6.07138574e-01,\n",
       "        6.89518377e-02,  1.99831069e-01,  5.98526187e-03,  5.89479983e-01,\n",
       "       -4.43568617e-01, -5.16865142e-02, -4.34021354e-01,  4.35181260e-01,\n",
       "       -3.98428082e-01, -3.46721172e-01, -2.30799764e-01, -1.59604847e-01,\n",
       "       -9.93177533e-01,  2.06708182e-02,  2.93402374e-01, -5.10188162e-01,\n",
       "       -7.88833559e-01, -1.37241676e-01, -9.73993003e-01,  4.46297109e-01,\n",
       "       -6.68761015e-01, -1.29544926e+00, -2.06295088e-01,  1.16728544e+00,\n",
       "        2.09009677e-01, -8.67804229e-01,  3.98871034e-01,  8.66958857e-01,\n",
       "        2.08731264e-01,  3.85923207e-01, -7.85503745e-01, -2.28244090e+00,\n",
       "       -1.16350725e-01,  8.89246985e-02,  4.53530967e-01, -4.34574038e-02,\n",
       "        4.85335648e-01, -1.17952945e-02, -1.23297364e-01, -7.13036358e-01,\n",
       "       -4.72609662e-02,  4.66303974e-01, -4.42585140e-01,  3.60939175e-01,\n",
       "        6.11109026e-02, -9.37437356e-01, -4.42606509e-01, -1.01511121e+00,\n",
       "       -1.84125707e-01, -5.22945583e-01,  7.84996450e-01, -7.51692355e-01,\n",
       "       -4.49159861e-01,  7.04745874e-02, -2.50507355e-01,  5.98788559e-01,\n",
       "        3.27789515e-01, -1.86177511e-02, -6.91002756e-02,  1.70295954e-01,\n",
       "       -1.30998090e-01, -6.22369349e-01,  1.39542446e-01,  5.17458975e-01,\n",
       "       -3.51700395e-01,  1.15360335e-01, -3.62809390e-01, -7.43998168e-03,\n",
       "       -3.45134944e-01, -1.99783355e-01,  4.67574120e-01,  5.34161806e-01,\n",
       "       -1.00652993e-01,  6.55571640e-01, -7.08117336e-03, -1.40322581e-01,\n",
       "       -6.18138969e-01,  9.95418429e-01, -1.12996399e-01,  8.85538664e-03,\n",
       "       -5.61828971e-01, -4.32754725e-01,  5.17782688e-01,  5.43597102e-01,\n",
       "       -4.30590689e-01, -1.05534628e-01, -1.63971707e-01,  2.44905084e-01,\n",
       "        2.35546038e-01,  5.12778223e-01,  1.21965516e+00, -1.46811128e+00,\n",
       "       -5.34751266e-02,  4.53446805e-01,  5.49940526e-01,  8.80867541e-01],\n",
       "      dtype=float32)"
      ]
     },
     "execution_count": 10,
     "metadata": {},
     "output_type": "execute_result"
    }
   ],
   "execution_count": 10
  },
  {
   "metadata": {
    "ExecuteTime": {
     "end_time": "2025-09-03T14:06:19.039877Z",
     "start_time": "2025-09-03T14:06:19.037640Z"
    }
   },
   "cell_type": "code",
   "source": "import matplotlib.pylab as plt",
   "id": "99ab5493acf65259",
   "outputs": [],
   "execution_count": 11
  },
  {
   "metadata": {
    "ExecuteTime": {
     "end_time": "2025-09-03T14:06:19.117541Z",
     "start_time": "2025-09-03T14:06:19.045313Z"
    }
   },
   "cell_type": "code",
   "source": [
    "plt.plot(embedding)\n",
    "plt.xlabel('Embedding Dimension Index')\n",
    "plt.ylabel('Embedding Dimension Value')\n",
    "plt.xlim([0, len(embedding)])"
   ],
   "id": "7be2ebdf81871ac2",
   "outputs": [
    {
     "data": {
      "text/plain": [
       "(0.0, 768.0)"
      ]
     },
     "execution_count": 12,
     "metadata": {},
     "output_type": "execute_result"
    },
    {
     "data": {
      "text/plain": [
       "<Figure size 640x480 with 1 Axes>"
      ],
      "image/png": "[encoded data removed]"
     },
     "metadata": {},
     "output_type": "display_data"
    }
   ],
   "execution_count": 12
  }
 ],
 "metadata": {
  "kernelspec": {
   "display_name": "Python 3",
   "language": "python",
   "name": "python3"
  },
  "language_info": {
   "codemirror_mode": {
    "name": "ipython",
    "version": 2
   },
   "file_extension": ".py",
   "mimetype": "text/x-python",
   "name": "python",
   "nbconvert_exporter": "python",
   "pygments_lexer": "ipython2",
   "version": "2.7.6"
  }
 },
 "nbformat": 4,
 "nbformat_minor": 5
}
