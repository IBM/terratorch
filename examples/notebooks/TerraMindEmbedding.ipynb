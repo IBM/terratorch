{
 "cells": [
  {
   "metadata": {},
   "cell_type": "markdown",
   "source": [
    "# Embedding Generation\n",
    "This example performs generation of a single embedding vector from a 16x16 Sentinel-2 RGB image patch with TerraMind."
   ],
   "id": "7b6872e1a26474b6"
  },
  {
   "metadata": {
    "ExecuteTime": {
     "end_time": "2025-09-03T14:44:13.572509Z",
     "start_time": "2025-09-03T14:44:13.566768Z"
    }
   },
   "cell_type": "code",
   "source": [
    "from pathlib import Path\n",
    "\n",
    "import torch\n",
    "import rioxarray as rxr\n",
    "from huggingface_hub import hf_hub_download\n",
    "from terratorch.registry import BACKBONE_REGISTRY\n",
    "import numpy as np\n",
    "\n",
    "# Select device\n",
    "if torch.cuda.is_available():\n",
    "    device = 'cuda'\n",
    "elif torch.backends.mps.is_available():\n",
    "    device = 'mps'\n",
    "else:\n",
    "    device = 'cpu'"
   ],
   "id": "6f31289e8bb79bc8",
   "outputs": [],
   "execution_count": 13
  },
  {
   "metadata": {
    "ExecuteTime": {
     "end_time": "2025-09-03T14:44:15.463278Z",
     "start_time": "2025-09-03T14:44:14.055749Z"
    }
   },
   "cell_type": "code",
   "source": [
    "# build model\n",
    "model = BACKBONE_REGISTRY.build(\n",
    "    \"terramind_v1_base\",\n",
    "    # modalities=[\"S2L2A\"], # all S2 bands\n",
    "    modalities=[\"S2RGB\"], # S2 RGB bands\n",
    "    pretrained=True,\n",
    ")\n",
    "\n",
    "model = model.to(device)"
   ],
   "id": "f539a8e5118a9f8c",
   "outputs": [],
   "execution_count": 14
  },
  {
   "metadata": {
    "ExecuteTime": {
     "end_time": "2025-09-03T14:44:15.607897Z",
     "start_time": "2025-09-03T14:44:15.605146Z"
    }
   },
   "cell_type": "code",
   "source": "model.eval()",
   "id": "5b4a3e0c6719a23",
   "outputs": [
    {
     "data": {
      "text/plain": [
       "TerraMindViT(\n",
       "  (encoder_embeddings): ModuleDict(\n",
       "    (untok_sen2rgb@224): ImageEncoderEmbedding(\n",
       "      (proj): Linear(in_features=768, out_features=768, bias=False)\n",
       "    )\n",
       "  )\n",
       "  (encoder): ModuleList(\n",
       "    (0-11): 12 x Block(\n",
       "      (norm1): LayerNorm()\n",
       "      (attn): Attention(\n",
       "        (qkv): Linear(in_features=768, out_features=2304, bias=False)\n",
       "        (attn_drop): Dropout(p=0.0, inplace=False)\n",
       "        (proj): Linear(in_features=768, out_features=768, bias=False)\n",
       "        (proj_drop): Dropout(p=0.0, inplace=False)\n",
       "      )\n",
       "      (drop_path): Identity()\n",
       "      (norm2): LayerNorm()\n",
       "      (mlp): GatedMlp(\n",
       "        (fc1): Linear(in_features=768, out_features=2048, bias=False)\n",
       "        (act): SiLU()\n",
       "        (fc2): Linear(in_features=2048, out_features=768, bias=False)\n",
       "        (fc3): Linear(in_features=768, out_features=2048, bias=False)\n",
       "      )\n",
       "    )\n",
       "  )\n",
       "  (encoder_norm): LayerNorm()\n",
       "  (tokenizer): ModuleDict()\n",
       ")"
      ]
     },
     "execution_count": 15,
     "metadata": {},
     "output_type": "execute_result"
    }
   ],
   "execution_count": 15
  },
  {
   "metadata": {
    "ExecuteTime": {
     "end_time": "2025-09-03T14:44:15.638683Z",
     "start_time": "2025-09-03T14:44:15.636876Z"
    }
   },
   "cell_type": "code",
   "source": [
    "# Download image if necessary\n",
    "image_path = Path('examples/S2L2A/Santiago.tif')\n",
    "if not image_path.exists():\n",
    "    hf_hub_download(repo_id='ibm-esa-geospatial/Examples', filename='S2L2A/Santiago.tif', repo_type='dataset', local_dir='examples/')"
   ],
   "id": "e553c977d92bccf0",
   "outputs": [],
   "execution_count": 16
  },
  {
   "metadata": {
    "ExecuteTime": {
     "end_time": "2025-09-03T14:48:02.592975Z",
     "start_time": "2025-09-03T14:48:02.590297Z"
    }
   },
   "cell_type": "code",
   "source": [
    "means={\n",
    "  \"S2L2A\": [1390.458, 1503.317, 1718.197, 1853.910, 2199.100, 2779.975, 2987.011, 3083.234, 3132.220, 3162.988, 2424.884, 1857.648],\n",
    "  \"RGB\": [87.271, 80.931, 66.667]\n",
    "}\n",
    "stds={\n",
    "  \"S2L2A\": [2106.761, 2141.107, 2038.973, 2134.138, 2085.321, 1889.926, 1820.257, 1871.918, 1753.829, 1797.379, 1434.261, 1334.311],\n",
    "  \"RGB\": [58.767, 47.663, 42.631],\n",
    "}"
   ],
   "id": "179c25ceca558745",
   "outputs": [],
   "execution_count": 23
  },
  {
   "metadata": {
    "ExecuteTime": {
     "end_time": "2025-09-03T14:48:02.891955Z",
     "start_time": "2025-09-03T14:48:02.887950Z"
    }
   },
   "cell_type": "code",
   "source": [
    "def rgb_smooth_quantiles(array, tolerance=0.02, scaling=0.5, default=2000):\n",
    "    \"\"\"\n",
    "    array: numpy array with dimensions [C, H, W]\n",
    "    returns 0-1 scaled array\n",
    "    \"\"\"\n",
    "\n",
    "    # Get scaling thresholds for smoothing the brightness\n",
    "    limit_low, median, limit_high = np.quantile(array, q=[tolerance, 0.5, 1. - tolerance])\n",
    "    limit_high = limit_high.clip(default)  # Scale only pixels above default value\n",
    "    limit_low = limit_low.clip(0, 1000)  # Scale only pixels below 1000\n",
    "    limit_low = np.where(median > default / 2, limit_low, 0)  # Make image only darker if it is not dark already\n",
    "\n",
    "    # Smooth very dark and bright values using linear scaling\n",
    "    array = np.where(array >= limit_low, array, limit_low + (array - limit_low) * scaling)\n",
    "    array = np.where(array <= limit_high, array, limit_high + (array - limit_high) * scaling)\n",
    "\n",
    "    # Update scaling params using a 10th of the tolerance for max value\n",
    "    limit_low, limit_high = np.quantile(array, q=[tolerance/10, 1. - tolerance/10])\n",
    "    limit_high = limit_high.clip(default, 20000)  # Scale only pixels above default value\n",
    "    limit_low = limit_low.clip(0, 500)  # Scale only pixels below 500\n",
    "    limit_low = np.where(median > default / 2, limit_low, 0)  # Make image only darker if it is not dark already\n",
    "\n",
    "    # Scale data to 0-255\n",
    "    array = (array - limit_low) / (limit_high - limit_low)\n",
    "\n",
    "    return array\n",
    "\n",
    "\n",
    "def s2_to_rgb(rgb):\n",
    "    rgb = rgb_smooth_quantiles(rgb)\n",
    "    rgb = (rgb * 255).round().clip(0, 255).astype(np.uint8)\n",
    "\n",
    "    return rgb"
   ],
   "id": "c8762da1f9c249dc",
   "outputs": [],
   "execution_count": 24
  },
  {
   "metadata": {
    "ExecuteTime": {
     "end_time": "2025-09-03T14:49:31.623153Z",
     "start_time": "2025-09-03T14:49:31.535716Z"
    }
   },
   "cell_type": "code",
   "source": [
    "# Open image\n",
    "data = rxr.open_rasterio(image_path).values\n",
    "# Select RGB image of dimension 16x16,, and normalisee with pre-computed values\n",
    "data = data[[3,2,1], 0:16, 0:16]\n",
    "data = s2_to_rgb(data)\n",
    "\n",
    "\n",
    "data = ((data\n",
    "        - np.array(means['RGB'])[:, None, None])/\n",
    "          np.array(stds['RGB'])[:, None, None])\n",
    "# data.shape"
   ],
   "id": "d8fce62dc9d9a104",
   "outputs": [],
   "execution_count": 31
  },
  {
   "metadata": {
    "ExecuteTime": {
     "end_time": "2025-09-03T14:49:32.322783Z",
     "start_time": "2025-09-03T14:49:32.319466Z"
    }
   },
   "cell_type": "code",
   "source": "data.shape",
   "id": "7d58c1b5b53446fa",
   "outputs": [
    {
     "data": {
      "text/plain": [
       "(3, 16, 16)"
      ]
     },
     "execution_count": 32,
     "metadata": {},
     "output_type": "execute_result"
    }
   ],
   "execution_count": 32
  },
  {
   "metadata": {
    "ExecuteTime": {
     "end_time": "2025-09-03T14:49:37.755364Z",
     "start_time": "2025-09-03T14:49:37.744702Z"
    }
   },
   "cell_type": "code",
   "source": [
    "#create torch input\n",
    "input = torch.tensor(data, dtype=torch.float, device=device).unsqueeze(0)\n",
    "input.shape"
   ],
   "id": "a1c59e0fa1068b11",
   "outputs": [
    {
     "data": {
      "text/plain": [
       "torch.Size([1, 3, 16, 16])"
      ]
     },
     "execution_count": 33,
     "metadata": {},
     "output_type": "execute_result"
    }
   ],
   "execution_count": 33
  },
  {
   "metadata": {},
   "cell_type": "markdown",
   "source": "## Retrieve Embedding",
   "id": "2d082befe0f70d5"
  },
  {
   "metadata": {
    "ExecuteTime": {
     "end_time": "2025-09-03T14:49:41.329213Z",
     "start_time": "2025-09-03T14:49:41.301573Z"
    }
   },
   "cell_type": "code",
   "source": [
    "# we evaluate the pretrained model on the embedding and retrieve the last layer\n",
    "with torch.no_grad():\n",
    "    embedding = model(input)[-1]\n",
    "embedding = embedding.cpu().squeeze().numpy()"
   ],
   "id": "d30e42abb5255efd",
   "outputs": [],
   "execution_count": 34
  },
  {
   "metadata": {
    "ExecuteTime": {
     "end_time": "2025-09-03T14:49:42.011300Z",
     "start_time": "2025-09-03T14:49:42.008558Z"
    }
   },
   "cell_type": "code",
   "source": [
    "# print output embedding\n",
    "embedding.shape"
   ],
   "id": "b014a6c72e6f442f",
   "outputs": [
    {
     "data": {
      "text/plain": [
       "(768,)"
      ]
     },
     "execution_count": 35,
     "metadata": {},
     "output_type": "execute_result"
    }
   ],
   "execution_count": 35
  },
  {
   "metadata": {
    "ExecuteTime": {
     "end_time": "2025-09-03T14:49:42.744626Z",
     "start_time": "2025-09-03T14:49:42.738101Z"
    }
   },
   "cell_type": "code",
   "source": "embedding",
   "id": "4f4ea2ee352a6a23",
   "outputs": [
    {
     "data": {
      "text/plain": [
       "array([-1.93958402e-01,  9.19276297e-01, -4.08806980e-01,  3.79835933e-01,\n",
       "       -1.81965888e-01, -1.45334613e+00, -3.94651830e-01, -4.51911390e-01,\n",
       "        4.98278320e-01, -2.36500740e+00,  9.93106961e-01,  2.38066003e-01,\n",
       "       -5.26367903e-01, -4.29756075e-01,  1.45560646e+00,  9.51165929e-02,\n",
       "        3.17805797e-01,  1.08066249e+00,  4.99762088e-01,  1.65914774e-01,\n",
       "       -5.67919552e-01,  7.73795396e-02,  1.37637064e-01,  8.35323572e-01,\n",
       "       -5.76988578e-01,  2.92416602e-01, -1.77553713e-01, -1.73730478e-01,\n",
       "       -3.14858973e-01,  7.15360105e-01, -5.21816134e-01,  3.82892013e-01,\n",
       "        4.56806533e-02, -3.21626425e-01,  4.03100513e-02, -7.68868506e-01,\n",
       "       -2.05921918e-01,  8.57874826e-02,  7.47192085e-01, -8.23675215e-01,\n",
       "        9.84136641e-01,  6.99951410e-01,  8.07791471e-01, -1.85456634e-01,\n",
       "        2.45676279e-01, -4.29453135e-01,  7.35927522e-01, -2.96679676e-01,\n",
       "       -5.21618068e-01, -5.77784717e-01, -8.68885070e-02,  2.51910150e-01,\n",
       "        6.63519278e-02, -7.14689791e-01, -7.89785802e-01,  1.51673031e+00,\n",
       "        1.95815712e-01,  6.30497187e-02,  8.34062696e-01, -4.74925071e-01,\n",
       "        8.01113248e-02, -2.85451949e-01,  5.28838575e-01, -4.72439051e-01,\n",
       "        9.44012284e-01,  2.32743576e-01, -4.60055619e-01, -6.09879851e-01,\n",
       "        1.16277471e-01,  1.99409902e-01,  7.75205076e-01, -3.36038172e-01,\n",
       "       -5.39633930e-01,  2.19057202e-01, -1.17826790e-01,  6.33645177e-01,\n",
       "       -3.96375090e-01,  5.10454178e-01, -2.10583404e-01, -4.51185673e-01,\n",
       "       -9.00153220e-01,  3.77875119e-01, -5.20779133e-01,  1.08378105e-01,\n",
       "        3.07668209e-01,  4.97820117e-02,  3.42339933e-01, -9.02757585e-01,\n",
       "       -5.83688676e-01, -1.01650810e+00,  3.78377497e-01, -5.11757970e-01,\n",
       "        4.18554187e-01, -4.62730139e-01,  1.57010347e-01,  4.46822613e-01,\n",
       "       -2.58343577e-01, -8.36950183e-01, -5.96091747e-01,  6.14652157e-01,\n",
       "        1.27141273e+00, -5.34372985e-01,  8.82990420e-01,  7.93638170e-01,\n",
       "        4.58077610e-01, -6.88021898e-01,  5.15110672e-01,  4.14972529e-02,\n",
       "        6.24419987e-01, -4.06121016e-01, -3.28461111e-01, -9.25113499e-01,\n",
       "        4.93143469e-01,  6.38786733e-01, -1.87102392e-01,  5.74191749e-01,\n",
       "        2.97446042e-01, -6.28362000e-01, -5.76467440e-02, -1.61978751e-01,\n",
       "        1.16812110e+00, -1.88629001e-01, -6.46474242e-01,  3.93866658e-01,\n",
       "        7.97251984e-02,  3.76198649e-01, -1.21222992e+01,  3.67775440e-01,\n",
       "        1.13176692e+00, -2.72819936e-01,  3.27695996e-01,  2.94808179e-01,\n",
       "        4.40048605e-01, -5.14336526e-01, -7.28782117e-01,  4.21613663e-01,\n",
       "       -8.87717903e-02, -1.09572101e+00, -1.59209505e-01,  1.23317339e-01,\n",
       "       -1.39162970e+00, -1.14181355e-01,  4.02585477e-01,  3.72493684e-01,\n",
       "        2.41430569e-02,  4.43968356e-01, -6.25071704e-01, -6.51633620e-01,\n",
       "        1.33784607e-01, -6.46019280e-01,  1.57208908e-02,  3.49277407e-01,\n",
       "        5.37693560e-01, -2.86205918e-01,  1.65918902e-01,  9.63967502e-01,\n",
       "       -2.09626928e-01,  3.22710931e-01,  8.35845709e-01,  3.69035341e-02,\n",
       "       -6.51054442e-01,  1.00657515e-01, -1.12674880e+00, -6.33129597e-01,\n",
       "       -6.40825391e-01, -3.59245509e-01,  4.79161531e-01, -3.56522709e-01,\n",
       "        2.10899464e-03,  6.27605796e-01, -1.88033879e-01,  8.41206111e-06,\n",
       "        3.03214133e-01, -2.19884157e-01, -5.24153337e-02, -1.34400654e+00,\n",
       "       -4.99713659e-01, -1.87076673e-01, -3.75557393e-01, -4.18790460e-01,\n",
       "       -1.61022931e-01, -1.24509744e-01,  6.83460236e-02,  4.08109231e-03,\n",
       "        9.45104718e-01,  4.30735767e-01, -3.38916898e+00,  2.70550251e-01,\n",
       "       -2.39162028e-01, -7.11631477e-01,  5.29425502e-01,  1.17035650e-01,\n",
       "        3.12340856e-01, -1.92443028e-01,  6.07530534e-01,  8.75929475e-01,\n",
       "        2.53496855e-01, -8.68603170e-01, -3.78888071e-01,  2.76583195e-01,\n",
       "        3.35788965e-01,  5.98657608e-01, -9.56324100e-01, -1.12160933e+00,\n",
       "        3.86335582e-01, -1.26241118e-01, -7.79330730e-01, -6.24901712e-01,\n",
       "       -2.01495662e-01, -5.63440859e-01, -8.44647408e-01,  3.57341111e-01,\n",
       "        2.28772983e-01, -9.10632610e-01, -1.75074384e-01, -2.69059539e-01,\n",
       "        4.42004949e-01, -3.83707255e-01,  5.47405601e-01, -3.09525073e-01,\n",
       "       -7.68477023e-01, -9.47740138e-01,  5.89732885e-01,  4.08388972e-01,\n",
       "        3.46321136e-01,  6.82903647e-01,  1.66048199e-01, -1.98372662e-01,\n",
       "       -6.39348999e-02, -2.69985408e-01, -1.69681668e-01,  6.19772732e-01,\n",
       "        1.84274420e-01,  4.71526772e-01, -1.08718944e+00, -2.26144820e-01,\n",
       "        6.43800557e-01, -6.00509524e-01,  2.74533242e-01,  6.93845898e-02,\n",
       "        6.33209348e-02, -9.70715061e-02,  1.19587588e+00, -7.60786116e-01,\n",
       "        8.75101209e-01,  5.79398088e-02,  7.01299369e-01,  5.62750518e-01,\n",
       "        1.73566431e-01,  1.40177131e+00, -2.47439906e-01, -2.10768357e-01,\n",
       "        1.03471768e+00, -5.70742965e-01, -2.55177826e-01, -2.41749406e-01,\n",
       "        9.21091810e-02,  1.69052851e+00,  2.06926629e-01, -3.01442109e-02,\n",
       "        2.22039849e-01,  5.24094552e-02, -2.80562878e-01, -5.01406431e-01,\n",
       "       -1.17976673e-01,  8.33472729e-01, -2.84258813e-01, -7.05582350e-02,\n",
       "        4.24610287e-01, -4.47866201e-01, -3.42554897e-01, -1.33364767e-01,\n",
       "       -3.03417683e-01,  8.71867478e-01,  2.93900132e-01,  1.25014096e-01,\n",
       "       -2.15995207e-01,  3.77559960e-01, -9.72639769e-03, -5.12943149e-01,\n",
       "       -9.54952359e-01,  4.17956263e-01,  7.55420327e-02,  3.85189831e-01,\n",
       "       -6.39764845e-01,  3.78326267e-01,  2.03827575e-01, -8.59442949e-01,\n",
       "       -1.94346324e-01,  2.40989983e-01, -1.60433501e-01,  8.96557212e-01,\n",
       "       -4.56935227e-01, -3.93967241e-01,  8.53635445e-02,  8.35960627e-01,\n",
       "       -9.81310830e-02, -4.38204668e-02, -8.14627528e-01,  1.32025871e-02,\n",
       "        2.52351165e-01, -4.70116794e-01,  1.70916215e-01,  4.92644072e-01,\n",
       "        2.91254669e-02, -5.49939811e-01,  7.38628387e-01, -3.83898586e-01,\n",
       "       -2.50035137e-01,  9.79740262e-01, -1.18878335e-01,  9.08785582e-01,\n",
       "       -3.42517257e-01, -5.13881981e-01,  6.77480638e-01, -4.65353519e-01,\n",
       "        4.33880955e-01, -1.04510225e-01, -1.03845763e+00, -1.04322739e-01,\n",
       "        2.21068621e-01, -9.46426019e-03, -6.05209351e-01, -9.65077758e-01,\n",
       "        3.28739613e-01, -6.97928607e-01,  4.68552649e-01,  6.13734543e-01,\n",
       "        8.41038972e-02,  3.36147618e+00,  4.60780919e-01,  9.92660165e-01,\n",
       "        8.74337435e-01,  6.32512987e-01, -5.73431849e-01,  2.49777541e-01,\n",
       "        2.63078988e-01,  4.49723611e-03, -4.52629387e-01, -4.16300446e-01,\n",
       "        6.52580142e-01, -2.19380572e-01, -8.65031302e-01,  1.52032137e-01,\n",
       "       -3.89815301e-01,  2.43608877e-01,  5.51829875e-01,  1.25238627e-01,\n",
       "        7.12628782e-01,  9.16158378e-01, -6.52677119e-01,  5.26451051e-01,\n",
       "        1.69803008e-01, -1.60598576e-01, -1.34748742e-02,  2.71317363e-01,\n",
       "       -3.67939264e-01,  3.67697567e-01, -4.74766105e-01, -1.62815046e+00,\n",
       "        1.42835844e+00, -1.55627718e-02,  9.95433927e-02, -1.48078009e-01,\n",
       "        1.08097695e-01,  2.35540465e-01,  6.45007551e-01, -2.56403714e-01,\n",
       "        1.85272038e-01, -5.19864671e-02, -2.29419306e-01,  3.93165976e-01,\n",
       "        7.17200994e-01, -6.01630747e-01, -1.05806649e+00, -2.90239364e-01,\n",
       "        2.15078205e-01, -2.79599391e-02, -1.39765099e-01,  6.77872524e-02,\n",
       "       -1.61755711e-01, -3.46526653e-01, -2.79027075e-01, -3.22607428e-01,\n",
       "        9.01506469e-02,  4.01799023e-01,  3.61316472e-01,  4.82640177e-01,\n",
       "        5.24677634e-01,  6.98752582e-01,  3.51607800e-01, -1.36975574e+00,\n",
       "       -6.98352993e-01,  5.41942939e-02,  5.77364087e-01, -6.88905180e-01,\n",
       "       -1.49806380e-01,  1.06794663e-01,  4.41034794e-01,  1.03718422e-01,\n",
       "        5.53059578e-01, -8.46198499e-02, -5.44992149e-01,  5.10148145e-03,\n",
       "        2.42926478e+00, -2.13372126e-01,  8.57425202e-03,  2.56684422e-01,\n",
       "       -2.13974714e-01, -1.53267354e-01,  8.96509767e-01, -8.33769023e-01,\n",
       "       -4.53781895e-02,  9.84311521e-01, -1.05832331e-01,  3.63145582e-02,\n",
       "        5.38266838e-01,  9.99988198e-01, -5.67000151e-01,  2.75519341e-01,\n",
       "       -5.01893938e-01,  4.40198392e-01, -3.98476422e-01, -2.12349907e-01,\n",
       "        2.57554233e-01,  4.35844570e-01, -2.70080864e-01,  6.88355803e-01,\n",
       "        2.30638217e-02, -1.68862715e-01, -3.89730521e-02, -3.00262690e-01,\n",
       "        4.56975371e-01,  1.93536803e-01,  8.30611765e-01,  1.91033959e-01,\n",
       "        2.53896177e-01, -6.80683196e-01,  1.85838982e-01, -3.70457411e-01,\n",
       "       -7.69003510e-01,  3.29815835e-01, -4.03787792e-02, -3.97972316e-01,\n",
       "       -4.32714462e-01,  1.16606532e-02, -4.98257354e-02,  1.95385292e-02,\n",
       "       -6.21584833e-01, -3.62769216e-01,  2.86833346e-01,  5.53456068e-01,\n",
       "        2.29392543e-01, -2.00632796e-01, -1.08964181e+00,  2.77838141e-01,\n",
       "       -5.39224982e-01,  1.22247291e+00, -2.10501760e-01, -2.09571338e+00,\n",
       "        1.11893678e+00,  9.98118073e-02, -3.02587181e-01, -1.25255272e-01,\n",
       "        1.85672790e-01, -5.45733608e-02,  1.11567192e-01, -3.88356876e+00,\n",
       "       -2.20843479e-01,  1.28354549e+00, -1.26704434e-02, -2.68032074e-01,\n",
       "        4.31452602e-01,  3.03298086e-02, -1.72011688e-01,  6.35946691e-01,\n",
       "       -1.28192353e+00,  1.42461836e-01, -1.25906861e+00, -7.30895758e-01,\n",
       "        4.75149661e-01,  3.52658778e-01, -1.28392184e+00,  1.85329765e-01,\n",
       "        9.69518840e-01, -5.41882694e-01,  4.81244117e-01,  1.60719931e-01,\n",
       "        1.47477195e-01,  1.42451838e-01,  1.00232914e-01, -4.64725852e-01,\n",
       "       -3.16322267e-01, -1.70128673e-01,  5.75083569e-02, -4.18591440e-01,\n",
       "       -5.94252646e-01,  2.18222648e-01,  8.29834282e-01, -8.64251792e-01,\n",
       "       -1.77141413e-01, -5.14420748e-01,  2.23865673e-01,  1.86735362e-01,\n",
       "        2.54798621e-01, -1.16811478e+00,  1.14189155e-01,  6.19326942e-02,\n",
       "        8.78288224e-02, -2.10582823e-01, -8.13480854e-01,  6.73914850e-01,\n",
       "       -7.46338606e-01,  1.96896625e+00, -4.29925233e-01, -7.59746730e-02,\n",
       "       -5.75358331e-01, -4.69927341e-01,  1.03231406e+00,  1.65380132e+00,\n",
       "       -3.19245793e-02,  5.44831991e-01, -6.25783682e-01,  2.46220171e-01,\n",
       "        4.98326212e-01,  1.38815343e-01, -7.00424984e-02, -1.34234533e-01,\n",
       "       -7.11482942e-01, -4.07395780e-01, -4.13384229e-01, -5.48411906e-01,\n",
       "        3.32387149e-01, -2.66069844e-02,  8.75635982e-01,  2.37080067e-01,\n",
       "       -4.23243493e-01, -3.62393856e-01,  1.03771780e-03, -1.38592169e-01,\n",
       "       -4.68902558e-01, -2.26310328e-01,  2.84676906e-03,  2.41979986e-01,\n",
       "       -4.02169615e-01, -1.79620415e-01,  9.44490790e-01, -4.70700234e-01,\n",
       "        1.53455853e-01, -2.95286745e-01,  4.03222814e-02,  5.90239584e-01,\n",
       "       -2.43609190e-01, -5.40244937e-01, -1.03415847e+00, -2.76821375e-01,\n",
       "        1.05063105e+00,  1.33864164e-01,  7.13178635e-01,  6.18909538e-01,\n",
       "       -4.88636717e-02,  9.63884413e-01, -5.36534667e-01, -8.83414209e-01,\n",
       "       -2.99015522e-01, -2.26373330e-01, -8.57909977e-01,  9.83086005e-02,\n",
       "        7.58384228e-01, -4.57868218e-01,  5.10596693e-01,  2.62209386e-01,\n",
       "        5.23563743e-01, -9.87193942e-01,  4.73379344e-01,  3.80466968e-01,\n",
       "       -5.12170970e-01, -1.35504484e+00, -4.72200125e-01, -2.33883947e-01,\n",
       "        2.00191259e-01,  2.18578458e-01,  7.50681341e-01,  8.98185790e-01,\n",
       "        7.33016610e-01,  1.88703015e-01,  5.39604843e-01, -7.00919211e-01,\n",
       "       -8.74402463e-01,  1.08073473e-01, -5.83477795e-01, -8.00466061e-01,\n",
       "       -1.20363498e+00, -1.87626302e-01, -3.54988217e-01, -3.88999104e-01,\n",
       "        4.83152986e-01, -4.78246033e-01, -3.91197912e-02, -3.69298160e-01,\n",
       "       -3.64356756e-01,  4.09124672e-01, -1.23205252e-01, -2.13440552e-01,\n",
       "       -9.74028528e-01, -7.71954119e-01,  9.67161119e-01,  5.82425833e-01,\n",
       "       -6.39058948e-01, -2.15452313e-01,  1.55408531e-01,  1.07655919e+00,\n",
       "        7.51137435e-01,  1.18935302e-01, -8.67461026e-01, -3.22098702e-01,\n",
       "       -1.67153403e-01,  3.15770060e-01, -7.03560591e-01,  1.66403294e-01,\n",
       "        1.79875582e-01, -3.42106104e-01,  9.40880001e-01,  5.91157258e-01,\n",
       "       -2.95162350e-01,  9.78058219e-01, -6.49030745e-01, -5.95198572e-02,\n",
       "       -8.96047652e-01,  4.73602079e-02, -6.37449801e-01,  2.85068482e-01,\n",
       "        1.29355356e-01,  8.08980942e-01, -1.18635094e+00,  2.87532747e-01,\n",
       "        6.48386300e-01,  3.06652635e-01,  7.62599230e-01,  3.71591561e-02,\n",
       "        5.09513736e-01, -4.59276617e-01, -5.26148379e-01, -3.97731774e-02,\n",
       "        4.50652279e-02,  1.80244997e-01, -6.99088573e-01,  1.01464963e+00,\n",
       "       -1.21757269e+00,  4.41468269e-01, -5.45924842e-01,  1.73362970e-01,\n",
       "        1.61585584e-01,  4.61243182e-01, -6.68034673e-01, -1.77076030e+00,\n",
       "       -3.25475857e-02, -1.20995857e-03,  3.41244191e-01, -5.87927163e-01,\n",
       "        2.57915378e-01,  6.88974142e-01,  1.01393282e+00, -3.08519214e-01,\n",
       "       -2.11734790e-02,  1.71607792e-01,  1.23187876e+00,  3.12373251e-01,\n",
       "        5.99485636e-01, -8.43908250e-01,  8.92220378e-01,  2.29508251e-01,\n",
       "       -3.25178392e-02, -6.25971615e-01,  8.43832672e-01,  1.38466377e-02,\n",
       "        3.59462857e-01,  7.71905109e-02, -9.85766292e-01,  5.74898601e-01,\n",
       "       -8.50281477e-01,  8.97311747e-01,  2.08040163e-01, -2.27576703e-01,\n",
       "        2.30740428e+00,  3.42848271e-01,  6.92124963e-01, -3.77158731e-01,\n",
       "        4.90663886e-01, -5.27666450e-01, -1.11690968e-01,  2.48997346e-01,\n",
       "       -2.00816616e-01, -8.75511944e-01,  7.09096789e-02,  1.93561733e+00,\n",
       "        3.03648710e-01, -5.39415240e-01,  3.84313285e-01,  3.40679497e-01,\n",
       "        3.69806021e-01,  3.57902884e-01,  6.66822493e-01, -9.62094188e-01,\n",
       "        4.16053891e-01, -7.80825257e-01,  3.82452697e-01,  3.20341796e-01,\n",
       "        4.03688610e-01,  3.14940363e-01, -1.99826092e-01, -3.45381081e-01,\n",
       "        8.11350942e-01, -5.74547172e-01, -5.41477323e-01, -1.49246529e-02,\n",
       "        1.86922595e-01,  4.43874598e-01,  3.61982286e-01, -3.25762653e+00,\n",
       "       -2.53374577e-01, -1.48279041e-01,  2.78260112e-01, -3.39828223e-01,\n",
       "       -4.14866596e-01,  7.73863614e-01, -7.34624088e-01,  6.01583779e-01,\n",
       "       -2.48806104e-01,  2.49835461e-01, -2.40377069e-01,  4.06384692e-02,\n",
       "        6.19419158e-01,  6.25682175e-01,  8.56647134e-01,  8.03119004e-01,\n",
       "       -1.70879102e+00,  2.62473941e-01,  3.15531552e-01, -2.13579666e-02,\n",
       "       -6.05055153e-01,  6.60058796e-01, -1.55646771e-01,  7.08248913e-01,\n",
       "       -4.57631916e-01, -2.47278959e-01,  3.03030163e-01, -5.75877309e-01,\n",
       "        3.81589413e-01, -7.49131083e-01, -8.57918084e-01, -7.72786200e-01,\n",
       "       -4.17370230e-01, -5.48679173e-01,  9.84076038e-02,  1.26647985e+00,\n",
       "       -4.30395305e-01, -2.12830156e-01,  5.66906154e-01, -1.40712177e-02,\n",
       "        1.60930321e-01,  9.50709939e-01,  7.14558363e-01, -1.17484951e+00,\n",
       "        5.53466499e-01,  2.73807108e-01, -1.19583502e-01, -4.13951308e-01],\n",
       "      dtype=float32)"
      ]
     },
     "execution_count": 36,
     "metadata": {},
     "output_type": "execute_result"
    }
   ],
   "execution_count": 36
  },
  {
   "metadata": {
    "ExecuteTime": {
     "end_time": "2025-09-03T14:49:43.761826Z",
     "start_time": "2025-09-03T14:49:43.760374Z"
    }
   },
   "cell_type": "code",
   "source": "import matplotlib.pylab as plt",
   "id": "99ab5493acf65259",
   "outputs": [],
   "execution_count": 37
  },
  {
   "metadata": {
    "ExecuteTime": {
     "end_time": "2025-09-03T14:49:44.292580Z",
     "start_time": "2025-09-03T14:49:44.239645Z"
    }
   },
   "cell_type": "code",
   "source": [
    "plt.plot(embedding)\n",
    "plt.xlabel('Embedding Dimension Index')\n",
    "plt.ylabel('Embedding Dimension Value')\n",
    "plt.xlim([0, len(embedding)])"
   ],
   "id": "7be2ebdf81871ac2",
   "outputs": [
    {
     "data": {
      "text/plain": [
       "(0.0, 768.0)"
      ]
     },
     "execution_count": 38,
     "metadata": {},
     "output_type": "execute_result"
    },
    {
     "data": {
      "text/plain": [
       "<Figure size 640x480 with 1 Axes>"
      ],
      "image/png": "[encoded data removed]"
     },
     "metadata": {},
     "output_type": "display_data"
    }
   ],
   "execution_count": 38
  },
  {
   "metadata": {},
   "cell_type": "code",
   "outputs": [],
   "execution_count": null,
   "source": "",
   "id": "ea5f0c8c4e32c2a5"
  }
 ],
 "metadata": {
  "kernelspec": {
   "display_name": "Python 3",
   "language": "python",
   "name": "python3"
  },
  "language_info": {
   "codemirror_mode": {
    "name": "ipython",
    "version": 2
   },
   "file_extension": ".py",
   "mimetype": "text/x-python",
   "name": "python",
   "nbconvert_exporter": "python",
   "pygments_lexer": "ipython2",
   "version": "2.7.6"
  }
 },
 "nbformat": 4,
 "nbformat_minor": 5
}
