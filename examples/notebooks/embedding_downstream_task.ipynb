{
 "cells": [
  {
   "cell_type": "code",
   "execution_count": 2,
   "id": "545c7ca8b70ed0b1",
   "metadata": {
    "ExecuteTime": {
     "end_time": "2025-09-17T08:16:24.633410Z",
     "start_time": "2025-09-17T08:16:24.589705Z"
    }
   },
   "outputs": [
    {
     "name": "stderr",
     "output_type": "stream",
     "text": [
      "INFO: Seed set to 0\n",
      "INFO:lightning.fabric.utilities.seed:Seed set to 0\n",
      "/Users/isw/Documents/Code/CF_Demo/cf_demo/lib/python3.13/site-packages/lightning/pytorch/trainer/connectors/accelerator_connector.py:513: You passed `Trainer(accelerator='cpu', precision='16-mixed')` but AMP with fp16 is not supported on CPU. Using `precision='bf16-mixed'` instead.\n",
      "INFO: Using bfloat16 Automatic Mixed Precision (AMP)\n",
      "INFO:lightning.pytorch.utilities.rank_zero:Using bfloat16 Automatic Mixed Precision (AMP)\n",
      "INFO: GPU available: True (mps), used: False\n",
      "INFO:lightning.pytorch.utilities.rank_zero:GPU available: True (mps), used: False\n",
      "INFO: TPU available: False, using: 0 TPU cores\n",
      "INFO:lightning.pytorch.utilities.rank_zero:TPU available: False, using: 0 TPU cores\n",
      "INFO: HPU available: False, using: 0 HPUs\n",
      "INFO:lightning.pytorch.utilities.rank_zero:HPU available: False, using: 0 HPUs\n",
      "/Users/isw/Documents/Code/CF_Demo/cf_demo/lib/python3.13/site-packages/lightning/pytorch/trainer/setup.py:177: GPU available but not used. You can set it by doing `Trainer(accelerator='gpu')`.\n"
     ]
    }
   ],
   "source": [
    "import terratorch\n",
    "import lightning.pytorch as pl\n",
    "\n",
    "pl.seed_everything(0)\n",
    "\n",
    "# By default, TerraTorch saves the model with the best validation loss. You can overwrite this by defining a custom ModelCheckpoint, e.g., saving the model with the highest validation mIoU.\n",
    "checkpoint_callback = pl.callbacks.ModelCheckpoint(\n",
    "    dirpath=\"output/terramind_base_sen1floods11/checkpoints/\",\n",
    "    mode=\"max\",\n",
    "    monitor=\"val/mIoU\", # Variable to monitor\n",
    "    filename=\"best-mIoU\",\n",
    "    save_weights_only=True,\n",
    ")\n",
    "\n",
    "# Lightning Trainer\n",
    "trainer = pl.Trainer(\n",
    "    accelerator=\"cpu\",\n",
    "    strategy=\"auto\",\n",
    "    devices=1, # Deactivate multi-gpu because it often fails in notebooks\n",
    "    precision=\"16-mixed\",  # Speed up training with half precision, delete for full precision training.\n",
    "    num_nodes=1,\n",
    "    logger=True,  # Uses TensorBoard by default\n",
    "    max_epochs=3, # For demos\n",
    "    log_every_n_steps=1,\n",
    "    callbacks=[checkpoint_callback, pl.callbacks.RichProgressBar()],\n",
    "    default_root_dir=\"output/terramind_base_sen1floods11/\",\n",
    ")\n"
   ]
  },
  {
   "cell_type": "code",
   "execution_count": 3,
   "id": "7bc6b395abe8c3d5",
   "metadata": {
    "ExecuteTime": {
     "end_time": "2025-09-17T08:16:24.710669Z",
     "start_time": "2025-09-17T08:16:24.638003Z"
    }
   },
   "outputs": [
    {
     "name": "stderr",
     "output_type": "stream",
     "text": [
      "WARNING:root:Decoder UNetDecoder does not have an `includes_head` attribute. Falling back to the value of the registry.\n"
     ]
    },
    {
     "name": "stdout",
     "output_type": "stream",
     "text": [
      "[768, 768, 768, 768]\n",
      "[768, 768, 768, 768]\n",
      "[0, 1, 2, 3]\n",
      "[768, 768, 768, 768]\n",
      "[768, 768, 768, 768]\n"
     ]
    }
   ],
   "source": [
    "\n",
    "# Segmentation mask that build the model and handles training and validation steps.\n",
    "model = terratorch.tasks.SemanticSegmentationTask(\n",
    "    model_factory=\"EncoderDecoderFactory\",  # Combines a backbone with necks, the decoder, and a head\n",
    "    model_args={\n",
    "        # TerraMind backbone\n",
    "        \"backbone\": \"IdentityBackbone\", # large version: terramind_v1_large\n",
    "        \"backbone_out_channels\": [768,768,768,768],\n",
    "        # \"backbone_pretrained\": True,\n",
    "        # \"backbone_modalities\": [\"S2L1C\", \"S1GRD\"],\n",
    "        # Optionally, define the input bands. This is only needed if you select a subset of the pre-training bands, as explained above.\n",
    "        # \"backbone_bands\": {\"S1GRD\": [\"VV\"]},\n",
    "\n",
    "        # Necks\n",
    "        \"necks\": [\n",
    "            {\n",
    "                \"name\": \"SelectIndices\",\n",
    "                # \"indices\": [2, 5, 8, 11]\n",
    "                \"indices\": [0, 1, 2, 3] # indices for terramind_v1_base\n",
    "                # \"indices\": [5, 11, 17, 23] # indices for terramind_v1_large\n",
    "            },\n",
    "            {\"name\": \"ReshapeTokensToImage\",\n",
    "             \"remove_cls_token\": False},  # TerraMind is trained without CLS token, which neads to be specified.\n",
    "            {\"name\": \"LearnedInterpolateToPyramidal\"}  # Some decoders like UNet or UperNet expect hierarchical features. Therefore, we need to learn a upsampling for the intermediate embedding layers when using a ViT like TerraMind.\n",
    "        ],\n",
    "\n",
    "        # Decoder\n",
    "        \"decoder\": \"UNetDecoder\",\n",
    "        \"decoder_channels\": [512, 256, 128, 64],\n",
    "\n",
    "        # Head\n",
    "        \"head_dropout\": 0.1,\n",
    "        \"num_classes\": 14,\n",
    "    },\n",
    "\n",
    "    loss=\"dice\",  # We recommend dice for binary tasks and ce for tasks with multiple classes.\n",
    "    ignore_index=255,\n",
    "    optimizer=\"AdamW\",\n",
    "    lr=2e-5,  # The optimal learning rate varies between datasets, we recommend testing different once between 1e-5 and 1e-4. You can perform hyperparameter optimization using terratorch-iterate.\n",
    "    # ignore_index=-1,\n",
    "    freeze_backbone=True, # Only used to speed up fine-tuning in this demo, we highly recommend fine-tuning the backbone for the best performance.\n",
    "    freeze_decoder=False,  # Should be false in most cases as the decoder is randomly initialized.\n",
    "    plot_on_val=True,  # Plot predictions during validation steps\n",
    "    class_names=[\"Others\", \"Water\"]  # optionally define class names\n",
    ")"
   ]
  },
  {
   "cell_type": "code",
   "execution_count": 4,
   "id": "e87db1a2a00fae23",
   "metadata": {
    "ExecuteTime": {
     "end_time": "2025-09-17T08:16:29.122224Z",
     "start_time": "2025-09-17T08:16:29.115752Z"
    }
   },
   "outputs": [
    {
     "name": "stdout",
     "output_type": "stream",
     "text": [
      "[EmbeddingRowDataset] START \n",
      "[EmbeddingRowDataset] Found 1 Parquet file(s) under /Users/isw/Documents/Code/CF_Demo/output2/embeddings\n",
      "[EmbeddingRowDataset] Using dtype float32\n",
      "[EmbeddingRowDataset] Using columns: ['embedding_layer_2', 'embedding_layer_5', 'embedding_layer_8', 'embedding_layer_11']\n",
      "[EmbeddingRowDataset] sentinel_stack_S2A_MSIL2A_20200912T100031_N0500_R122_T34VEH_20230311T210416_embedding.parquet: 1 row groups, 2401 rows\n",
      "[EmbeddingRowDataset] 1 file(s), 2401 row(s). Columns=['embedding_layer_2', 'embedding_layer_5', 'embedding_layer_8', 'embedding_layer_11']\n",
      "[EmbeddingRowDataset] START \n",
      "[EmbeddingRowDataset] Found 1 Parquet file(s) under /Users/isw/Documents/Code/CF_Demo/output2/embeddings\n",
      "[EmbeddingRowDataset] Using dtype float32\n",
      "[EmbeddingRowDataset] Using columns: ['embedding_layer_2', 'embedding_layer_5', 'embedding_layer_8', 'embedding_layer_11']\n",
      "[EmbeddingRowDataset] sentinel_stack_S2A_MSIL2A_20200912T100031_N0500_R122_T34VEH_20230311T210416_embedding.parquet: 1 row groups, 2401 rows\n",
      "[EmbeddingRowDataset] 1 file(s), 2401 row(s). Columns=['embedding_layer_2', 'embedding_layer_5', 'embedding_layer_8', 'embedding_layer_11']\n"
     ]
    }
   ],
   "source": [
    "from terratorch.datamodules import GenericEmbeddingDataModule\n",
    "\n",
    "datamodule = GenericEmbeddingDataModule(data_root = path/to/embeddingparquet)\n",
    "datamodule.setup(\"fit\")"
   ]
  },
  {
   "cell_type": "code",
   "execution_count": 5,
   "id": "9ed934af1c4e569a",
   "metadata": {
    "ExecuteTime": {
     "end_time": "2025-09-17T08:23:18.512546Z",
     "start_time": "2025-09-17T08:16:32.842570Z"
    }
   },
   "outputs": [
    {
     "name": "stdout",
     "output_type": "stream",
     "text": [
      "[EmbeddingRowDataset] START \n",
      "[EmbeddingRowDataset] Found 1 Parquet file(s) under /Users/isw/Documents/Code/CF_Demo/output2/embeddings\n",
      "[EmbeddingRowDataset] Using dtype float32\n",
      "[EmbeddingRowDataset] Using columns: ['embedding_layer_2', 'embedding_layer_5', 'embedding_layer_8', 'embedding_layer_11']\n",
      "[EmbeddingRowDataset] sentinel_stack_S2A_MSIL2A_20200912T100031_N0500_R122_T34VEH_20230311T210416_embedding.parquet: 1 row groups, 2401 rows\n",
      "[EmbeddingRowDataset] 1 file(s), 2401 row(s). Columns=['embedding_layer_2', 'embedding_layer_5', 'embedding_layer_8', 'embedding_layer_11']\n",
      "[EmbeddingRowDataset] START \n",
      "[EmbeddingRowDataset] Found 1 Parquet file(s) under /Users/isw/Documents/Code/CF_Demo/output2/embeddings\n",
      "[EmbeddingRowDataset] Using dtype float32\n",
      "[EmbeddingRowDataset] Using columns: ['embedding_layer_2', 'embedding_layer_5', 'embedding_layer_8', 'embedding_layer_11']\n",
      "[EmbeddingRowDataset] sentinel_stack_S2A_MSIL2A_20200912T100031_N0500_R122_T34VEH_20230311T210416_embedding.parquet: 1 row groups, 2401 rows\n",
      "[EmbeddingRowDataset] 1 file(s), 2401 row(s). Columns=['embedding_layer_2', 'embedding_layer_5', 'embedding_layer_8', 'embedding_layer_11']\n"
     ]
    },
    {
     "data": {
      "text/html": [
       "<pre style=\"white-space:pre;overflow-x:auto;line-height:normal;font-family:Menlo,'DejaVu Sans Mono',consolas,'Courier New',monospace\">┏━━━┳━━━━━━━━━━━━━━━┳━━━━━━━━━━━━━━━━━━┳━━━━━━━━┳━━━━━━━┓\n",
       "┃<span style=\"color: #800080; text-decoration-color: #800080; font-weight: bold\">   </span>┃<span style=\"color: #800080; text-decoration-color: #800080; font-weight: bold\"> Name          </span>┃<span style=\"color: #800080; text-decoration-color: #800080; font-weight: bold\"> Type             </span>┃<span style=\"color: #800080; text-decoration-color: #800080; font-weight: bold\"> Params </span>┃<span style=\"color: #800080; text-decoration-color: #800080; font-weight: bold\"> Mode  </span>┃\n",
       "┡━━━╇━━━━━━━━━━━━━━━╇━━━━━━━━━━━━━━━━━━╇━━━━━━━━╇━━━━━━━┩\n",
       "│<span style=\"color: #7f7f7f; text-decoration-color: #7f7f7f\"> 0 </span>│ model         │ PixelWiseModel   │ 15.5 M │ train │\n",
       "│<span style=\"color: #7f7f7f; text-decoration-color: #7f7f7f\"> 1 </span>│ criterion     │ DiceLoss         │      0 │ train │\n",
       "│<span style=\"color: #7f7f7f; text-decoration-color: #7f7f7f\"> 2 </span>│ train_metrics │ MetricCollection │      0 │ train │\n",
       "│<span style=\"color: #7f7f7f; text-decoration-color: #7f7f7f\"> 3 </span>│ val_metrics   │ MetricCollection │      0 │ train │\n",
       "│<span style=\"color: #7f7f7f; text-decoration-color: #7f7f7f\"> 4 </span>│ test_metrics  │ ModuleList       │      0 │ train │\n",
       "└───┴───────────────┴──────────────────┴────────┴───────┘\n",
       "</pre>\n"
      ],
      "text/plain": [
       "┏━━━┳━━━━━━━━━━━━━━━┳━━━━━━━━━━━━━━━━━━┳━━━━━━━━┳━━━━━━━┓\n",
       "┃\u001b[1;35m \u001b[0m\u001b[1;35m \u001b[0m\u001b[1;35m \u001b[0m┃\u001b[1;35m \u001b[0m\u001b[1;35mName         \u001b[0m\u001b[1;35m \u001b[0m┃\u001b[1;35m \u001b[0m\u001b[1;35mType            \u001b[0m\u001b[1;35m \u001b[0m┃\u001b[1;35m \u001b[0m\u001b[1;35mParams\u001b[0m\u001b[1;35m \u001b[0m┃\u001b[1;35m \u001b[0m\u001b[1;35mMode \u001b[0m\u001b[1;35m \u001b[0m┃\n",
       "┡━━━╇━━━━━━━━━━━━━━━╇━━━━━━━━━━━━━━━━━━╇━━━━━━━━╇━━━━━━━┩\n",
       "│\u001b[2m \u001b[0m\u001b[2m0\u001b[0m\u001b[2m \u001b[0m│ model         │ PixelWiseModel   │ 15.5 M │ train │\n",
       "│\u001b[2m \u001b[0m\u001b[2m1\u001b[0m\u001b[2m \u001b[0m│ criterion     │ DiceLoss         │      0 │ train │\n",
       "│\u001b[2m \u001b[0m\u001b[2m2\u001b[0m\u001b[2m \u001b[0m│ train_metrics │ MetricCollection │      0 │ train │\n",
       "│\u001b[2m \u001b[0m\u001b[2m3\u001b[0m\u001b[2m \u001b[0m│ val_metrics   │ MetricCollection │      0 │ train │\n",
       "│\u001b[2m \u001b[0m\u001b[2m4\u001b[0m\u001b[2m \u001b[0m│ test_metrics  │ ModuleList       │      0 │ train │\n",
       "└───┴───────────────┴──────────────────┴────────┴───────┘\n"
      ]
     },
     "metadata": {},
     "output_type": "display_data"
    },
    {
     "data": {
      "text/html": [
       "<pre style=\"white-space:pre;overflow-x:auto;line-height:normal;font-family:Menlo,'DejaVu Sans Mono',consolas,'Courier New',monospace\"><span style=\"font-weight: bold\">Trainable params</span>: 15.5 M                                                                                           \n",
       "<span style=\"font-weight: bold\">Non-trainable params</span>: 0                                                                                            \n",
       "<span style=\"font-weight: bold\">Total params</span>: 15.5 M                                                                                               \n",
       "<span style=\"font-weight: bold\">Total estimated model params size (MB)</span>: 62                                                                         \n",
       "<span style=\"font-weight: bold\">Modules in train mode</span>: 112                                                                                         \n",
       "<span style=\"font-weight: bold\">Modules in eval mode</span>: 0                                                                                            \n",
       "</pre>\n"
      ],
      "text/plain": [
       "\u001b[1mTrainable params\u001b[0m: 15.5 M                                                                                           \n",
       "\u001b[1mNon-trainable params\u001b[0m: 0                                                                                            \n",
       "\u001b[1mTotal params\u001b[0m: 15.5 M                                                                                               \n",
       "\u001b[1mTotal estimated model params size (MB)\u001b[0m: 62                                                                         \n",
       "\u001b[1mModules in train mode\u001b[0m: 112                                                                                         \n",
       "\u001b[1mModules in eval mode\u001b[0m: 0                                                                                            \n"
      ]
     },
     "metadata": {},
     "output_type": "display_data"
    },
    {
     "data": {
      "text/html": [
       "<pre style=\"white-space:pre;overflow-x:auto;line-height:normal;font-family:Menlo,'DejaVu Sans Mono',consolas,'Courier New',monospace\">/Users/isw/Documents/Code/CF_Demo/cf_demo/lib/python3.13/site-packages/rich/live.py:231: UserWarning: install \n",
       "\"ipywidgets\" for Jupyter support\n",
       "  warnings.warn('install \"ipywidgets\" for Jupyter support')\n",
       "</pre>\n"
      ],
      "text/plain": [
       "/Users/isw/Documents/Code/CF_Demo/cf_demo/lib/python3.13/site-packages/rich/live.py:231: UserWarning: install \n",
       "\"ipywidgets\" for Jupyter support\n",
       "  warnings.warn('install \"ipywidgets\" for Jupyter support')\n"
      ]
     },
     "metadata": {},
     "output_type": "display_data"
    },
    {
     "data": {
      "text/html": [
       "<pre style=\"white-space:pre;overflow-x:auto;line-height:normal;font-family:Menlo,'DejaVu Sans Mono',consolas,'Courier New',monospace\">/Users/isw/Documents/Code/CF_Demo/cf_demo/lib/python3.13/site-packages/lightning/pytorch/trainer/connectors/data_co\n",
       "nnector.py:425: The 'val_dataloader' does not have many workers which may be a bottleneck. Consider increasing the \n",
       "value of the `num_workers` argument` to `num_workers=15` in the `DataLoader` to improve performance.\n",
       "</pre>\n"
      ],
      "text/plain": [
       "/Users/isw/Documents/Code/CF_Demo/cf_demo/lib/python3.13/site-packages/lightning/pytorch/trainer/connectors/data_co\n",
       "nnector.py:425: The 'val_dataloader' does not have many workers which may be a bottleneck. Consider increasing the \n",
       "value of the `num_workers` argument` to `num_workers=15` in the `DataLoader` to improve performance.\n"
      ]
     },
     "metadata": {},
     "output_type": "display_data"
    },
    {
     "data": {
      "text/html": [
       "<pre style=\"white-space:pre;overflow-x:auto;line-height:normal;font-family:Menlo,'DejaVu Sans Mono',consolas,'Courier New',monospace\">[EmbeddingRowDataset] GET 0\n",
       "</pre>\n"
      ],
      "text/plain": [
       "[EmbeddingRowDataset] GET 0\n"
      ]
     },
     "metadata": {},
     "output_type": "display_data"
    },
    {
     "data": {
      "text/html": [
       "<pre style=\"white-space:pre;overflow-x:auto;line-height:normal;font-family:Menlo,'DejaVu Sans Mono',consolas,'Courier New',monospace\">  -&gt; file 0, row group 0, in_rg 0\n",
       "</pre>\n"
      ],
      "text/plain": [
       "  -> file 0, row group 0, in_rg 0\n"
      ]
     },
     "metadata": {},
     "output_type": "display_data"
    },
    {
     "data": {
      "text/html": [
       "<pre style=\"white-space:pre;overflow-x:auto;line-height:normal;font-family:Menlo,'DejaVu Sans Mono',consolas,'Courier New',monospace\">    embedding_layer_2: torch.Size([196, 768]) dtype=torch.float32\n",
       "</pre>\n"
      ],
      "text/plain": [
       "    embedding_layer_2: torch.Size([196, 768]) dtype=torch.float32\n"
      ]
     },
     "metadata": {},
     "output_type": "display_data"
    },
    {
     "data": {
      "text/html": [
       "<pre style=\"white-space:pre;overflow-x:auto;line-height:normal;font-family:Menlo,'DejaVu Sans Mono',consolas,'Courier New',monospace\">    embedding_layer_5: torch.Size([196, 768]) dtype=torch.float32\n",
       "</pre>\n"
      ],
      "text/plain": [
       "    embedding_layer_5: torch.Size([196, 768]) dtype=torch.float32\n"
      ]
     },
     "metadata": {},
     "output_type": "display_data"
    },
    {
     "data": {
      "text/html": [
       "<pre style=\"white-space:pre;overflow-x:auto;line-height:normal;font-family:Menlo,'DejaVu Sans Mono',consolas,'Courier New',monospace\">    embedding_layer_8: torch.Size([196, 768]) dtype=torch.float32\n",
       "</pre>\n"
      ],
      "text/plain": [
       "    embedding_layer_8: torch.Size([196, 768]) dtype=torch.float32\n"
      ]
     },
     "metadata": {},
     "output_type": "display_data"
    },
    {
     "data": {
      "text/html": [
       "<pre style=\"white-space:pre;overflow-x:auto;line-height:normal;font-family:Menlo,'DejaVu Sans Mono',consolas,'Courier New',monospace\">    embedding_layer_11: torch.Size([196, 768]) dtype=torch.float32\n",
       "</pre>\n"
      ],
      "text/plain": [
       "    embedding_layer_11: torch.Size([196, 768]) dtype=torch.float32\n"
      ]
     },
     "metadata": {},
     "output_type": "display_data"
    },
    {
     "data": {
      "text/html": [
       "<pre style=\"white-space:pre;overflow-x:auto;line-height:normal;font-family:Menlo,'DejaVu Sans Mono',consolas,'Courier New',monospace\">4\n",
       "</pre>\n"
      ],
      "text/plain": [
       "4\n"
      ]
     },
     "metadata": {},
     "output_type": "display_data"
    },
    {
     "data": {
      "text/html": [
       "<pre style=\"white-space:pre;overflow-x:auto;line-height:normal;font-family:Menlo,'DejaVu Sans Mono',consolas,'Courier New',monospace\">torch.Size([224, 224])\n",
       "</pre>\n"
      ],
      "text/plain": [
       "torch.Size([224, 224])\n"
      ]
     },
     "metadata": {},
     "output_type": "display_data"
    },
    {
     "data": {
      "text/html": [
       "<pre style=\"white-space:pre;overflow-x:auto;line-height:normal;font-family:Menlo,'DejaVu Sans Mono',consolas,'Courier New',monospace\">tensor(12.)\n",
       "</pre>\n"
      ],
      "text/plain": [
       "tensor(12.)\n"
      ]
     },
     "metadata": {},
     "output_type": "display_data"
    },
    {
     "data": {
      "text/html": [
       "<pre style=\"white-space:pre;overflow-x:auto;line-height:normal;font-family:Menlo,'DejaVu Sans Mono',consolas,'Courier New',monospace\">sentinel_stack_S2A_MSIL2A_20200912T100031_N0500_R122_T34VEH_20230311T210416_embedding.parquet\n",
       "</pre>\n"
      ],
      "text/plain": [
       "sentinel_stack_S2A_MSIL2A_20200912T100031_N0500_R122_T34VEH_20230311T210416_embedding.parquet\n"
      ]
     },
     "metadata": {},
     "output_type": "display_data"
    },
    {
     "data": {
      "text/html": [
       "<pre style=\"white-space:pre;overflow-x:auto;line-height:normal;font-family:Menlo,'DejaVu Sans Mono',consolas,'Courier New',monospace\">[EmbeddingRowDataset] GET 1\n",
       "</pre>\n"
      ],
      "text/plain": [
       "[EmbeddingRowDataset] GET 1\n"
      ]
     },
     "metadata": {},
     "output_type": "display_data"
    },
    {
     "data": {
      "text/html": [
       "<pre style=\"white-space:pre;overflow-x:auto;line-height:normal;font-family:Menlo,'DejaVu Sans Mono',consolas,'Courier New',monospace\">  -&gt; file 0, row group 0, in_rg 1\n",
       "</pre>\n"
      ],
      "text/plain": [
       "  -> file 0, row group 0, in_rg 1\n"
      ]
     },
     "metadata": {},
     "output_type": "display_data"
    },
    {
     "data": {
      "text/html": [
       "<pre style=\"white-space:pre;overflow-x:auto;line-height:normal;font-family:Menlo,'DejaVu Sans Mono',consolas,'Courier New',monospace\">    embedding_layer_2: torch.Size([196, 768]) dtype=torch.float32\n",
       "</pre>\n"
      ],
      "text/plain": [
       "    embedding_layer_2: torch.Size([196, 768]) dtype=torch.float32\n"
      ]
     },
     "metadata": {},
     "output_type": "display_data"
    },
    {
     "data": {
      "text/html": [
       "<pre style=\"white-space:pre;overflow-x:auto;line-height:normal;font-family:Menlo,'DejaVu Sans Mono',consolas,'Courier New',monospace\">    embedding_layer_5: torch.Size([196, 768]) dtype=torch.float32\n",
       "</pre>\n"
      ],
      "text/plain": [
       "    embedding_layer_5: torch.Size([196, 768]) dtype=torch.float32\n"
      ]
     },
     "metadata": {},
     "output_type": "display_data"
    },
    {
     "data": {
      "text/html": [
       "<pre style=\"white-space:pre;overflow-x:auto;line-height:normal;font-family:Menlo,'DejaVu Sans Mono',consolas,'Courier New',monospace\">    embedding_layer_8: torch.Size([196, 768]) dtype=torch.float32\n",
       "</pre>\n"
      ],
      "text/plain": [
       "    embedding_layer_8: torch.Size([196, 768]) dtype=torch.float32\n"
      ]
     },
     "metadata": {},
     "output_type": "display_data"
    },
    {
     "data": {
      "text/html": [
       "<pre style=\"white-space:pre;overflow-x:auto;line-height:normal;font-family:Menlo,'DejaVu Sans Mono',consolas,'Courier New',monospace\">    embedding_layer_11: torch.Size([196, 768]) dtype=torch.float32\n",
       "</pre>\n"
      ],
      "text/plain": [
       "    embedding_layer_11: torch.Size([196, 768]) dtype=torch.float32\n"
      ]
     },
     "metadata": {},
     "output_type": "display_data"
    },
    {
     "data": {
      "text/html": [
       "<pre style=\"white-space:pre;overflow-x:auto;line-height:normal;font-family:Menlo,'DejaVu Sans Mono',consolas,'Courier New',monospace\">4\n",
       "</pre>\n"
      ],
      "text/plain": [
       "4\n"
      ]
     },
     "metadata": {},
     "output_type": "display_data"
    },
    {
     "data": {
      "text/html": [
       "<pre style=\"white-space:pre;overflow-x:auto;line-height:normal;font-family:Menlo,'DejaVu Sans Mono',consolas,'Courier New',monospace\">torch.Size([224, 224])\n",
       "</pre>\n"
      ],
      "text/plain": [
       "torch.Size([224, 224])\n"
      ]
     },
     "metadata": {},
     "output_type": "display_data"
    },
    {
     "data": {
      "text/html": [
       "<pre style=\"white-space:pre;overflow-x:auto;line-height:normal;font-family:Menlo,'DejaVu Sans Mono',consolas,'Courier New',monospace\">tensor(12.)\n",
       "</pre>\n"
      ],
      "text/plain": [
       "tensor(12.)\n"
      ]
     },
     "metadata": {},
     "output_type": "display_data"
    },
    {
     "data": {
      "text/html": [
       "<pre style=\"white-space:pre;overflow-x:auto;line-height:normal;font-family:Menlo,'DejaVu Sans Mono',consolas,'Courier New',monospace\">sentinel_stack_S2A_MSIL2A_20200912T100031_N0500_R122_T34VEH_20230311T210416_embedding.parquet\n",
       "</pre>\n"
      ],
      "text/plain": [
       "sentinel_stack_S2A_MSIL2A_20200912T100031_N0500_R122_T34VEH_20230311T210416_embedding.parquet\n"
      ]
     },
     "metadata": {},
     "output_type": "display_data"
    },
    {
     "data": {
      "text/html": [
       "<pre style=\"white-space:pre;overflow-x:auto;line-height:normal;font-family:Menlo,'DejaVu Sans Mono',consolas,'Courier New',monospace\">[EmbeddingRowDataset] GET 2\n",
       "</pre>\n"
      ],
      "text/plain": [
       "[EmbeddingRowDataset] GET 2\n"
      ]
     },
     "metadata": {},
     "output_type": "display_data"
    },
    {
     "data": {
      "text/html": [
       "<pre style=\"white-space:pre;overflow-x:auto;line-height:normal;font-family:Menlo,'DejaVu Sans Mono',consolas,'Courier New',monospace\">  -&gt; file 0, row group 0, in_rg 2\n",
       "</pre>\n"
      ],
      "text/plain": [
       "  -> file 0, row group 0, in_rg 2\n"
      ]
     },
     "metadata": {},
     "output_type": "display_data"
    },
    {
     "data": {
      "text/html": [
       "<pre style=\"white-space:pre;overflow-x:auto;line-height:normal;font-family:Menlo,'DejaVu Sans Mono',consolas,'Courier New',monospace\">    embedding_layer_2: torch.Size([196, 768]) dtype=torch.float32\n",
       "</pre>\n"
      ],
      "text/plain": [
       "    embedding_layer_2: torch.Size([196, 768]) dtype=torch.float32\n"
      ]
     },
     "metadata": {},
     "output_type": "display_data"
    },
    {
     "data": {
      "text/html": [
       "<pre style=\"white-space:pre;overflow-x:auto;line-height:normal;font-family:Menlo,'DejaVu Sans Mono',consolas,'Courier New',monospace\">    embedding_layer_5: torch.Size([196, 768]) dtype=torch.float32\n",
       "</pre>\n"
      ],
      "text/plain": [
       "    embedding_layer_5: torch.Size([196, 768]) dtype=torch.float32\n"
      ]
     },
     "metadata": {},
     "output_type": "display_data"
    },
    {
     "data": {
      "text/html": [
       "<pre style=\"white-space:pre;overflow-x:auto;line-height:normal;font-family:Menlo,'DejaVu Sans Mono',consolas,'Courier New',monospace\">    embedding_layer_8: torch.Size([196, 768]) dtype=torch.float32\n",
       "</pre>\n"
      ],
      "text/plain": [
       "    embedding_layer_8: torch.Size([196, 768]) dtype=torch.float32\n"
      ]
     },
     "metadata": {},
     "output_type": "display_data"
    },
    {
     "data": {
      "text/html": [
       "<pre style=\"white-space:pre;overflow-x:auto;line-height:normal;font-family:Menlo,'DejaVu Sans Mono',consolas,'Courier New',monospace\">    embedding_layer_11: torch.Size([196, 768]) dtype=torch.float32\n",
       "</pre>\n"
      ],
      "text/plain": [
       "    embedding_layer_11: torch.Size([196, 768]) dtype=torch.float32\n"
      ]
     },
     "metadata": {},
     "output_type": "display_data"
    },
    {
     "data": {
      "text/html": [
       "<pre style=\"white-space:pre;overflow-x:auto;line-height:normal;font-family:Menlo,'DejaVu Sans Mono',consolas,'Courier New',monospace\">4\n",
       "</pre>\n"
      ],
      "text/plain": [
       "4\n"
      ]
     },
     "metadata": {},
     "output_type": "display_data"
    },
    {
     "data": {
      "text/html": [
       "<pre style=\"white-space:pre;overflow-x:auto;line-height:normal;font-family:Menlo,'DejaVu Sans Mono',consolas,'Courier New',monospace\">torch.Size([224, 224])\n",
       "</pre>\n"
      ],
      "text/plain": [
       "torch.Size([224, 224])\n"
      ]
     },
     "metadata": {},
     "output_type": "display_data"
    },
    {
     "data": {
      "text/html": [
       "<pre style=\"white-space:pre;overflow-x:auto;line-height:normal;font-family:Menlo,'DejaVu Sans Mono',consolas,'Courier New',monospace\">tensor(11.)\n",
       "</pre>\n"
      ],
      "text/plain": [
       "tensor(11.)\n"
      ]
     },
     "metadata": {},
     "output_type": "display_data"
    },
    {
     "data": {
      "text/html": [
       "<pre style=\"white-space:pre;overflow-x:auto;line-height:normal;font-family:Menlo,'DejaVu Sans Mono',consolas,'Courier New',monospace\">sentinel_stack_S2A_MSIL2A_20200912T100031_N0500_R122_T34VEH_20230311T210416_embedding.parquet\n",
       "</pre>\n"
      ],
      "text/plain": [
       "sentinel_stack_S2A_MSIL2A_20200912T100031_N0500_R122_T34VEH_20230311T210416_embedding.parquet\n"
      ]
     },
     "metadata": {},
     "output_type": "display_data"
    },
    {
     "data": {
      "text/html": [
       "<pre style=\"white-space:pre;overflow-x:auto;line-height:normal;font-family:Menlo,'DejaVu Sans Mono',consolas,'Courier New',monospace\">[EmbeddingRowDataset] GET 3\n",
       "</pre>\n"
      ],
      "text/plain": [
       "[EmbeddingRowDataset] GET 3\n"
      ]
     },
     "metadata": {},
     "output_type": "display_data"
    },
    {
     "data": {
      "text/html": [
       "<pre style=\"white-space:pre;overflow-x:auto;line-height:normal;font-family:Menlo,'DejaVu Sans Mono',consolas,'Courier New',monospace\">  -&gt; file 0, row group 0, in_rg 3\n",
       "</pre>\n"
      ],
      "text/plain": [
       "  -> file 0, row group 0, in_rg 3\n"
      ]
     },
     "metadata": {},
     "output_type": "display_data"
    },
    {
     "data": {
      "text/html": [
       "<pre style=\"white-space:pre;overflow-x:auto;line-height:normal;font-family:Menlo,'DejaVu Sans Mono',consolas,'Courier New',monospace\">    embedding_layer_2: torch.Size([196, 768]) dtype=torch.float32\n",
       "</pre>\n"
      ],
      "text/plain": [
       "    embedding_layer_2: torch.Size([196, 768]) dtype=torch.float32\n"
      ]
     },
     "metadata": {},
     "output_type": "display_data"
    },
    {
     "data": {
      "text/html": [
       "<pre style=\"white-space:pre;overflow-x:auto;line-height:normal;font-family:Menlo,'DejaVu Sans Mono',consolas,'Courier New',monospace\">    embedding_layer_5: torch.Size([196, 768]) dtype=torch.float32\n",
       "</pre>\n"
      ],
      "text/plain": [
       "    embedding_layer_5: torch.Size([196, 768]) dtype=torch.float32\n"
      ]
     },
     "metadata": {},
     "output_type": "display_data"
    },
    {
     "data": {
      "text/html": [
       "<pre style=\"white-space:pre;overflow-x:auto;line-height:normal;font-family:Menlo,'DejaVu Sans Mono',consolas,'Courier New',monospace\">    embedding_layer_8: torch.Size([196, 768]) dtype=torch.float32\n",
       "</pre>\n"
      ],
      "text/plain": [
       "    embedding_layer_8: torch.Size([196, 768]) dtype=torch.float32\n"
      ]
     },
     "metadata": {},
     "output_type": "display_data"
    },
    {
     "data": {
      "text/html": [
       "<pre style=\"white-space:pre;overflow-x:auto;line-height:normal;font-family:Menlo,'DejaVu Sans Mono',consolas,'Courier New',monospace\">    embedding_layer_11: torch.Size([196, 768]) dtype=torch.float32\n",
       "</pre>\n"
      ],
      "text/plain": [
       "    embedding_layer_11: torch.Size([196, 768]) dtype=torch.float32\n"
      ]
     },
     "metadata": {},
     "output_type": "display_data"
    },
    {
     "data": {
      "text/html": [
       "<pre style=\"white-space:pre;overflow-x:auto;line-height:normal;font-family:Menlo,'DejaVu Sans Mono',consolas,'Courier New',monospace\">4\n",
       "</pre>\n"
      ],
      "text/plain": [
       "4\n"
      ]
     },
     "metadata": {},
     "output_type": "display_data"
    },
    {
     "data": {
      "text/html": [
       "<pre style=\"white-space:pre;overflow-x:auto;line-height:normal;font-family:Menlo,'DejaVu Sans Mono',consolas,'Courier New',monospace\">torch.Size([224, 224])\n",
       "</pre>\n"
      ],
      "text/plain": [
       "torch.Size([224, 224])\n"
      ]
     },
     "metadata": {},
     "output_type": "display_data"
    },
    {
     "data": {
      "text/html": [
       "<pre style=\"white-space:pre;overflow-x:auto;line-height:normal;font-family:Menlo,'DejaVu Sans Mono',consolas,'Courier New',monospace\">tensor(11.)\n",
       "</pre>\n"
      ],
      "text/plain": [
       "tensor(11.)\n"
      ]
     },
     "metadata": {},
     "output_type": "display_data"
    },
    {
     "data": {
      "text/html": [
       "<pre style=\"white-space:pre;overflow-x:auto;line-height:normal;font-family:Menlo,'DejaVu Sans Mono',consolas,'Courier New',monospace\">sentinel_stack_S2A_MSIL2A_20200912T100031_N0500_R122_T34VEH_20230311T210416_embedding.parquet\n",
       "</pre>\n"
      ],
      "text/plain": [
       "sentinel_stack_S2A_MSIL2A_20200912T100031_N0500_R122_T34VEH_20230311T210416_embedding.parquet\n"
      ]
     },
     "metadata": {},
     "output_type": "display_data"
    },
    {
     "data": {
      "text/html": [
       "<pre style=\"white-space:pre;overflow-x:auto;line-height:normal;font-family:Menlo,'DejaVu Sans Mono',consolas,'Courier New',monospace\">[EmbeddingRowDataset] GET 4\n",
       "</pre>\n"
      ],
      "text/plain": [
       "[EmbeddingRowDataset] GET 4\n"
      ]
     },
     "metadata": {},
     "output_type": "display_data"
    },
    {
     "data": {
      "text/html": [
       "<pre style=\"white-space:pre;overflow-x:auto;line-height:normal;font-family:Menlo,'DejaVu Sans Mono',consolas,'Courier New',monospace\">  -&gt; file 0, row group 0, in_rg 4\n",
       "</pre>\n"
      ],
      "text/plain": [
       "  -> file 0, row group 0, in_rg 4\n"
      ]
     },
     "metadata": {},
     "output_type": "display_data"
    },
    {
     "data": {
      "text/html": [
       "<pre style=\"white-space:pre;overflow-x:auto;line-height:normal;font-family:Menlo,'DejaVu Sans Mono',consolas,'Courier New',monospace\">    embedding_layer_2: torch.Size([196, 768]) dtype=torch.float32\n",
       "</pre>\n"
      ],
      "text/plain": [
       "    embedding_layer_2: torch.Size([196, 768]) dtype=torch.float32\n"
      ]
     },
     "metadata": {},
     "output_type": "display_data"
    },
    {
     "data": {
      "text/html": [
       "<pre style=\"white-space:pre;overflow-x:auto;line-height:normal;font-family:Menlo,'DejaVu Sans Mono',consolas,'Courier New',monospace\">    embedding_layer_5: torch.Size([196, 768]) dtype=torch.float32\n",
       "</pre>\n"
      ],
      "text/plain": [
       "    embedding_layer_5: torch.Size([196, 768]) dtype=torch.float32\n"
      ]
     },
     "metadata": {},
     "output_type": "display_data"
    },
    {
     "data": {
      "text/html": [
       "<pre style=\"white-space:pre;overflow-x:auto;line-height:normal;font-family:Menlo,'DejaVu Sans Mono',consolas,'Courier New',monospace\">    embedding_layer_8: torch.Size([196, 768]) dtype=torch.float32\n",
       "</pre>\n"
      ],
      "text/plain": [
       "    embedding_layer_8: torch.Size([196, 768]) dtype=torch.float32\n"
      ]
     },
     "metadata": {},
     "output_type": "display_data"
    },
    {
     "data": {
      "text/html": [
       "<pre style=\"white-space:pre;overflow-x:auto;line-height:normal;font-family:Menlo,'DejaVu Sans Mono',consolas,'Courier New',monospace\">    embedding_layer_11: torch.Size([196, 768]) dtype=torch.float32\n",
       "</pre>\n"
      ],
      "text/plain": [
       "    embedding_layer_11: torch.Size([196, 768]) dtype=torch.float32\n"
      ]
     },
     "metadata": {},
     "output_type": "display_data"
    },
    {
     "data": {
      "text/html": [
       "<pre style=\"white-space:pre;overflow-x:auto;line-height:normal;font-family:Menlo,'DejaVu Sans Mono',consolas,'Courier New',monospace\">4\n",
       "</pre>\n"
      ],
      "text/plain": [
       "4\n"
      ]
     },
     "metadata": {},
     "output_type": "display_data"
    },
    {
     "data": {
      "text/html": [
       "<pre style=\"white-space:pre;overflow-x:auto;line-height:normal;font-family:Menlo,'DejaVu Sans Mono',consolas,'Courier New',monospace\">torch.Size([224, 224])\n",
       "</pre>\n"
      ],
      "text/plain": [
       "torch.Size([224, 224])\n"
      ]
     },
     "metadata": {},
     "output_type": "display_data"
    },
    {
     "data": {
      "text/html": [
       "<pre style=\"white-space:pre;overflow-x:auto;line-height:normal;font-family:Menlo,'DejaVu Sans Mono',consolas,'Courier New',monospace\">tensor(12.)\n",
       "</pre>\n"
      ],
      "text/plain": [
       "tensor(12.)\n"
      ]
     },
     "metadata": {},
     "output_type": "display_data"
    },
    {
     "data": {
      "text/html": [
       "<pre style=\"white-space:pre;overflow-x:auto;line-height:normal;font-family:Menlo,'DejaVu Sans Mono',consolas,'Courier New',monospace\">sentinel_stack_S2A_MSIL2A_20200912T100031_N0500_R122_T34VEH_20230311T210416_embedding.parquet\n",
       "</pre>\n"
      ],
      "text/plain": [
       "sentinel_stack_S2A_MSIL2A_20200912T100031_N0500_R122_T34VEH_20230311T210416_embedding.parquet\n"
      ]
     },
     "metadata": {},
     "output_type": "display_data"
    },
    {
     "data": {
      "text/html": [
       "<pre style=\"white-space:pre;overflow-x:auto;line-height:normal;font-family:Menlo,'DejaVu Sans Mono',consolas,'Courier New',monospace\">[EmbeddingRowDataset] GET 5\n",
       "</pre>\n"
      ],
      "text/plain": [
       "[EmbeddingRowDataset] GET 5\n"
      ]
     },
     "metadata": {},
     "output_type": "display_data"
    },
    {
     "data": {
      "text/html": [
       "<pre style=\"white-space:pre;overflow-x:auto;line-height:normal;font-family:Menlo,'DejaVu Sans Mono',consolas,'Courier New',monospace\">  -&gt; file 0, row group 0, in_rg 5\n",
       "</pre>\n"
      ],
      "text/plain": [
       "  -> file 0, row group 0, in_rg 5\n"
      ]
     },
     "metadata": {},
     "output_type": "display_data"
    },
    {
     "data": {
      "text/html": [
       "<pre style=\"white-space:pre;overflow-x:auto;line-height:normal;font-family:Menlo,'DejaVu Sans Mono',consolas,'Courier New',monospace\">    embedding_layer_2: torch.Size([196, 768]) dtype=torch.float32\n",
       "</pre>\n"
      ],
      "text/plain": [
       "    embedding_layer_2: torch.Size([196, 768]) dtype=torch.float32\n"
      ]
     },
     "metadata": {},
     "output_type": "display_data"
    },
    {
     "data": {
      "text/html": [
       "<pre style=\"white-space:pre;overflow-x:auto;line-height:normal;font-family:Menlo,'DejaVu Sans Mono',consolas,'Courier New',monospace\">    embedding_layer_5: torch.Size([196, 768]) dtype=torch.float32\n",
       "</pre>\n"
      ],
      "text/plain": [
       "    embedding_layer_5: torch.Size([196, 768]) dtype=torch.float32\n"
      ]
     },
     "metadata": {},
     "output_type": "display_data"
    },
    {
     "data": {
      "text/html": [
       "<pre style=\"white-space:pre;overflow-x:auto;line-height:normal;font-family:Menlo,'DejaVu Sans Mono',consolas,'Courier New',monospace\">    embedding_layer_8: torch.Size([196, 768]) dtype=torch.float32\n",
       "</pre>\n"
      ],
      "text/plain": [
       "    embedding_layer_8: torch.Size([196, 768]) dtype=torch.float32\n"
      ]
     },
     "metadata": {},
     "output_type": "display_data"
    },
    {
     "data": {
      "text/html": [
       "<pre style=\"white-space:pre;overflow-x:auto;line-height:normal;font-family:Menlo,'DejaVu Sans Mono',consolas,'Courier New',monospace\">    embedding_layer_11: torch.Size([196, 768]) dtype=torch.float32\n",
       "</pre>\n"
      ],
      "text/plain": [
       "    embedding_layer_11: torch.Size([196, 768]) dtype=torch.float32\n"
      ]
     },
     "metadata": {},
     "output_type": "display_data"
    },
    {
     "data": {
      "text/html": [
       "<pre style=\"white-space:pre;overflow-x:auto;line-height:normal;font-family:Menlo,'DejaVu Sans Mono',consolas,'Courier New',monospace\">4\n",
       "</pre>\n"
      ],
      "text/plain": [
       "4\n"
      ]
     },
     "metadata": {},
     "output_type": "display_data"
    },
    {
     "data": {
      "text/html": [
       "<pre style=\"white-space:pre;overflow-x:auto;line-height:normal;font-family:Menlo,'DejaVu Sans Mono',consolas,'Courier New',monospace\">torch.Size([224, 224])\n",
       "</pre>\n"
      ],
      "text/plain": [
       "torch.Size([224, 224])\n"
      ]
     },
     "metadata": {},
     "output_type": "display_data"
    },
    {
     "data": {
      "text/html": [
       "<pre style=\"white-space:pre;overflow-x:auto;line-height:normal;font-family:Menlo,'DejaVu Sans Mono',consolas,'Courier New',monospace\">tensor(11.)\n",
       "</pre>\n"
      ],
      "text/plain": [
       "tensor(11.)\n"
      ]
     },
     "metadata": {},
     "output_type": "display_data"
    },
    {
     "data": {
      "text/html": [
       "<pre style=\"white-space:pre;overflow-x:auto;line-height:normal;font-family:Menlo,'DejaVu Sans Mono',consolas,'Courier New',monospace\">sentinel_stack_S2A_MSIL2A_20200912T100031_N0500_R122_T34VEH_20230311T210416_embedding.parquet\n",
       "</pre>\n"
      ],
      "text/plain": [
       "sentinel_stack_S2A_MSIL2A_20200912T100031_N0500_R122_T34VEH_20230311T210416_embedding.parquet\n"
      ]
     },
     "metadata": {},
     "output_type": "display_data"
    },
    {
     "data": {
      "text/html": [
       "<pre style=\"white-space:pre;overflow-x:auto;line-height:normal;font-family:Menlo,'DejaVu Sans Mono',consolas,'Courier New',monospace\">[EmbeddingRowDataset] GET 6\n",
       "</pre>\n"
      ],
      "text/plain": [
       "[EmbeddingRowDataset] GET 6\n"
      ]
     },
     "metadata": {},
     "output_type": "display_data"
    },
    {
     "data": {
      "text/html": [
       "<pre style=\"white-space:pre;overflow-x:auto;line-height:normal;font-family:Menlo,'DejaVu Sans Mono',consolas,'Courier New',monospace\">  -&gt; file 0, row group 0, in_rg 6\n",
       "</pre>\n"
      ],
      "text/plain": [
       "  -> file 0, row group 0, in_rg 6\n"
      ]
     },
     "metadata": {},
     "output_type": "display_data"
    },
    {
     "data": {
      "text/html": [
       "<pre style=\"white-space:pre;overflow-x:auto;line-height:normal;font-family:Menlo,'DejaVu Sans Mono',consolas,'Courier New',monospace\">    embedding_layer_2: torch.Size([196, 768]) dtype=torch.float32\n",
       "</pre>\n"
      ],
      "text/plain": [
       "    embedding_layer_2: torch.Size([196, 768]) dtype=torch.float32\n"
      ]
     },
     "metadata": {},
     "output_type": "display_data"
    },
    {
     "data": {
      "text/html": [
       "<pre style=\"white-space:pre;overflow-x:auto;line-height:normal;font-family:Menlo,'DejaVu Sans Mono',consolas,'Courier New',monospace\">    embedding_layer_5: torch.Size([196, 768]) dtype=torch.float32\n",
       "</pre>\n"
      ],
      "text/plain": [
       "    embedding_layer_5: torch.Size([196, 768]) dtype=torch.float32\n"
      ]
     },
     "metadata": {},
     "output_type": "display_data"
    },
    {
     "data": {
      "text/html": [
       "<pre style=\"white-space:pre;overflow-x:auto;line-height:normal;font-family:Menlo,'DejaVu Sans Mono',consolas,'Courier New',monospace\">    embedding_layer_8: torch.Size([196, 768]) dtype=torch.float32\n",
       "</pre>\n"
      ],
      "text/plain": [
       "    embedding_layer_8: torch.Size([196, 768]) dtype=torch.float32\n"
      ]
     },
     "metadata": {},
     "output_type": "display_data"
    },
    {
     "data": {
      "text/html": [
       "<pre style=\"white-space:pre;overflow-x:auto;line-height:normal;font-family:Menlo,'DejaVu Sans Mono',consolas,'Courier New',monospace\">    embedding_layer_11: torch.Size([196, 768]) dtype=torch.float32\n",
       "</pre>\n"
      ],
      "text/plain": [
       "    embedding_layer_11: torch.Size([196, 768]) dtype=torch.float32\n"
      ]
     },
     "metadata": {},
     "output_type": "display_data"
    },
    {
     "data": {
      "text/html": [
       "<pre style=\"white-space:pre;overflow-x:auto;line-height:normal;font-family:Menlo,'DejaVu Sans Mono',consolas,'Courier New',monospace\">4\n",
       "</pre>\n"
      ],
      "text/plain": [
       "4\n"
      ]
     },
     "metadata": {},
     "output_type": "display_data"
    },
    {
     "data": {
      "text/html": [
       "<pre style=\"white-space:pre;overflow-x:auto;line-height:normal;font-family:Menlo,'DejaVu Sans Mono',consolas,'Courier New',monospace\">torch.Size([224, 224])\n",
       "</pre>\n"
      ],
      "text/plain": [
       "torch.Size([224, 224])\n"
      ]
     },
     "metadata": {},
     "output_type": "display_data"
    },
    {
     "data": {
      "text/html": [
       "<pre style=\"white-space:pre;overflow-x:auto;line-height:normal;font-family:Menlo,'DejaVu Sans Mono',consolas,'Courier New',monospace\">tensor(11.)\n",
       "</pre>\n"
      ],
      "text/plain": [
       "tensor(11.)\n"
      ]
     },
     "metadata": {},
     "output_type": "display_data"
    },
    {
     "data": {
      "text/html": [
       "<pre style=\"white-space:pre;overflow-x:auto;line-height:normal;font-family:Menlo,'DejaVu Sans Mono',consolas,'Courier New',monospace\">sentinel_stack_S2A_MSIL2A_20200912T100031_N0500_R122_T34VEH_20230311T210416_embedding.parquet\n",
       "</pre>\n"
      ],
      "text/plain": [
       "sentinel_stack_S2A_MSIL2A_20200912T100031_N0500_R122_T34VEH_20230311T210416_embedding.parquet\n"
      ]
     },
     "metadata": {},
     "output_type": "display_data"
    },
    {
     "data": {
      "text/html": [
       "<pre style=\"white-space:pre;overflow-x:auto;line-height:normal;font-family:Menlo,'DejaVu Sans Mono',consolas,'Courier New',monospace\">[EmbeddingRowDataset] GET 7\n",
       "</pre>\n"
      ],
      "text/plain": [
       "[EmbeddingRowDataset] GET 7\n"
      ]
     },
     "metadata": {},
     "output_type": "display_data"
    },
    {
     "data": {
      "text/html": [
       "<pre style=\"white-space:pre;overflow-x:auto;line-height:normal;font-family:Menlo,'DejaVu Sans Mono',consolas,'Courier New',monospace\">  -&gt; file 0, row group 0, in_rg 7\n",
       "</pre>\n"
      ],
      "text/plain": [
       "  -> file 0, row group 0, in_rg 7\n"
      ]
     },
     "metadata": {},
     "output_type": "display_data"
    },
    {
     "data": {
      "text/html": [
       "<pre style=\"white-space:pre;overflow-x:auto;line-height:normal;font-family:Menlo,'DejaVu Sans Mono',consolas,'Courier New',monospace\">    embedding_layer_2: torch.Size([196, 768]) dtype=torch.float32\n",
       "</pre>\n"
      ],
      "text/plain": [
       "    embedding_layer_2: torch.Size([196, 768]) dtype=torch.float32\n"
      ]
     },
     "metadata": {},
     "output_type": "display_data"
    },
    {
     "data": {
      "text/html": [
       "<pre style=\"white-space:pre;overflow-x:auto;line-height:normal;font-family:Menlo,'DejaVu Sans Mono',consolas,'Courier New',monospace\">    embedding_layer_5: torch.Size([196, 768]) dtype=torch.float32\n",
       "</pre>\n"
      ],
      "text/plain": [
       "    embedding_layer_5: torch.Size([196, 768]) dtype=torch.float32\n"
      ]
     },
     "metadata": {},
     "output_type": "display_data"
    },
    {
     "data": {
      "text/html": [
       "<pre style=\"white-space:pre;overflow-x:auto;line-height:normal;font-family:Menlo,'DejaVu Sans Mono',consolas,'Courier New',monospace\">    embedding_layer_8: torch.Size([196, 768]) dtype=torch.float32\n",
       "</pre>\n"
      ],
      "text/plain": [
       "    embedding_layer_8: torch.Size([196, 768]) dtype=torch.float32\n"
      ]
     },
     "metadata": {},
     "output_type": "display_data"
    },
    {
     "data": {
      "text/html": [
       "<pre style=\"white-space:pre;overflow-x:auto;line-height:normal;font-family:Menlo,'DejaVu Sans Mono',consolas,'Courier New',monospace\">    embedding_layer_11: torch.Size([196, 768]) dtype=torch.float32\n",
       "</pre>\n"
      ],
      "text/plain": [
       "    embedding_layer_11: torch.Size([196, 768]) dtype=torch.float32\n"
      ]
     },
     "metadata": {},
     "output_type": "display_data"
    },
    {
     "data": {
      "text/html": [
       "<pre style=\"white-space:pre;overflow-x:auto;line-height:normal;font-family:Menlo,'DejaVu Sans Mono',consolas,'Courier New',monospace\">4\n",
       "</pre>\n"
      ],
      "text/plain": [
       "4\n"
      ]
     },
     "metadata": {},
     "output_type": "display_data"
    },
    {
     "data": {
      "text/html": [
       "<pre style=\"white-space:pre;overflow-x:auto;line-height:normal;font-family:Menlo,'DejaVu Sans Mono',consolas,'Courier New',monospace\">torch.Size([224, 224])\n",
       "</pre>\n"
      ],
      "text/plain": [
       "torch.Size([224, 224])\n"
      ]
     },
     "metadata": {},
     "output_type": "display_data"
    },
    {
     "data": {
      "text/html": [
       "<pre style=\"white-space:pre;overflow-x:auto;line-height:normal;font-family:Menlo,'DejaVu Sans Mono',consolas,'Courier New',monospace\">tensor(11.)\n",
       "</pre>\n"
      ],
      "text/plain": [
       "tensor(11.)\n"
      ]
     },
     "metadata": {},
     "output_type": "display_data"
    },
    {
     "data": {
      "text/html": [
       "<pre style=\"white-space:pre;overflow-x:auto;line-height:normal;font-family:Menlo,'DejaVu Sans Mono',consolas,'Courier New',monospace\">sentinel_stack_S2A_MSIL2A_20200912T100031_N0500_R122_T34VEH_20230311T210416_embedding.parquet\n",
       "</pre>\n"
      ],
      "text/plain": [
       "sentinel_stack_S2A_MSIL2A_20200912T100031_N0500_R122_T34VEH_20230311T210416_embedding.parquet\n"
      ]
     },
     "metadata": {},
     "output_type": "display_data"
    },
    {
     "data": {
      "text/html": [
       "<pre style=\"white-space:pre;overflow-x:auto;line-height:normal;font-family:Menlo,'DejaVu Sans Mono',consolas,'Courier New',monospace\">In val\n",
       "</pre>\n"
      ],
      "text/plain": [
       "In val\n"
      ]
     },
     "metadata": {},
     "output_type": "display_data"
    },
    {
     "data": {
      "text/html": [
       "<pre style=\"white-space:pre;overflow-x:auto;line-height:normal;font-family:Menlo,'DejaVu Sans Mono',consolas,'Courier New',monospace\">4\n",
       "</pre>\n"
      ],
      "text/plain": [
       "4\n"
      ]
     },
     "metadata": {},
     "output_type": "display_data"
    },
    {
     "data": {
      "text/html": [
       "<pre style=\"white-space:pre;overflow-x:auto;line-height:normal;font-family:Menlo,'DejaVu Sans Mono',consolas,'Courier New',monospace\">torch.Size([8, 196, 768])\n",
       "</pre>\n"
      ],
      "text/plain": [
       "torch.Size([8, 196, 768])\n"
      ]
     },
     "metadata": {},
     "output_type": "display_data"
    },
    {
     "data": {
      "text/html": [
       "<pre style=\"white-space:pre;overflow-x:auto;line-height:normal;font-family:Menlo,'DejaVu Sans Mono',consolas,'Courier New',monospace\">14\n",
       "</pre>\n"
      ],
      "text/plain": [
       "14\n"
      ]
     },
     "metadata": {},
     "output_type": "display_data"
    },
    {
     "data": {
      "text/html": [
       "<pre style=\"white-space:pre;overflow-x:auto;line-height:normal;font-family:Menlo,'DejaVu Sans Mono',consolas,'Courier New',monospace\">tensor(12.)\n",
       "</pre>\n"
      ],
      "text/plain": [
       "tensor(12.)\n"
      ]
     },
     "metadata": {},
     "output_type": "display_data"
    },
    {
     "data": {
      "text/html": [
       "<pre style=\"white-space:pre;overflow-x:auto;line-height:normal;font-family:Menlo,'DejaVu Sans Mono',consolas,'Courier New',monospace\">tensor(True)\n",
       "</pre>\n"
      ],
      "text/plain": [
       "tensor(True)\n"
      ]
     },
     "metadata": {},
     "output_type": "display_data"
    },
    {
     "data": {
      "text/html": [
       "<pre style=\"white-space:pre;overflow-x:auto;line-height:normal;font-family:Menlo,'DejaVu Sans Mono',consolas,'Courier New',monospace\">tensor(0.)\n",
       "</pre>\n"
      ],
      "text/plain": [
       "tensor(0.)\n"
      ]
     },
     "metadata": {},
     "output_type": "display_data"
    },
    {
     "data": {
      "text/html": [
       "<pre style=\"white-space:pre;overflow-x:auto;line-height:normal;font-family:Menlo,'DejaVu Sans Mono',consolas,'Courier New',monospace\">tensor(True)\n",
       "</pre>\n"
      ],
      "text/plain": [
       "tensor(True)\n"
      ]
     },
     "metadata": {},
     "output_type": "display_data"
    },
    {
     "data": {
      "text/html": [
       "<pre style=\"white-space:pre;overflow-x:auto;line-height:normal;font-family:Menlo,'DejaVu Sans Mono',consolas,'Courier New',monospace\">[EmbeddingRowDataset] GET 8\n",
       "</pre>\n"
      ],
      "text/plain": [
       "[EmbeddingRowDataset] GET 8\n"
      ]
     },
     "metadata": {},
     "output_type": "display_data"
    },
    {
     "data": {
      "text/html": [
       "<pre style=\"white-space:pre;overflow-x:auto;line-height:normal;font-family:Menlo,'DejaVu Sans Mono',consolas,'Courier New',monospace\">  -&gt; file 0, row group 0, in_rg 8\n",
       "</pre>\n"
      ],
      "text/plain": [
       "  -> file 0, row group 0, in_rg 8\n"
      ]
     },
     "metadata": {},
     "output_type": "display_data"
    },
    {
     "data": {
      "text/html": [
       "<pre style=\"white-space:pre;overflow-x:auto;line-height:normal;font-family:Menlo,'DejaVu Sans Mono',consolas,'Courier New',monospace\">    embedding_layer_2: torch.Size([196, 768]) dtype=torch.float32\n",
       "</pre>\n"
      ],
      "text/plain": [
       "    embedding_layer_2: torch.Size([196, 768]) dtype=torch.float32\n"
      ]
     },
     "metadata": {},
     "output_type": "display_data"
    },
    {
     "data": {
      "text/html": [
       "<pre style=\"white-space:pre;overflow-x:auto;line-height:normal;font-family:Menlo,'DejaVu Sans Mono',consolas,'Courier New',monospace\">    embedding_layer_5: torch.Size([196, 768]) dtype=torch.float32\n",
       "</pre>\n"
      ],
      "text/plain": [
       "    embedding_layer_5: torch.Size([196, 768]) dtype=torch.float32\n"
      ]
     },
     "metadata": {},
     "output_type": "display_data"
    },
    {
     "data": {
      "text/html": [
       "<pre style=\"white-space:pre;overflow-x:auto;line-height:normal;font-family:Menlo,'DejaVu Sans Mono',consolas,'Courier New',monospace\">    embedding_layer_8: torch.Size([196, 768]) dtype=torch.float32\n",
       "</pre>\n"
      ],
      "text/plain": [
       "    embedding_layer_8: torch.Size([196, 768]) dtype=torch.float32\n"
      ]
     },
     "metadata": {},
     "output_type": "display_data"
    },
    {
     "data": {
      "text/html": [
       "<pre style=\"white-space:pre;overflow-x:auto;line-height:normal;font-family:Menlo,'DejaVu Sans Mono',consolas,'Courier New',monospace\">    embedding_layer_11: torch.Size([196, 768]) dtype=torch.float32\n",
       "</pre>\n"
      ],
      "text/plain": [
       "    embedding_layer_11: torch.Size([196, 768]) dtype=torch.float32\n"
      ]
     },
     "metadata": {},
     "output_type": "display_data"
    },
    {
     "data": {
      "text/html": [
       "<pre style=\"white-space:pre;overflow-x:auto;line-height:normal;font-family:Menlo,'DejaVu Sans Mono',consolas,'Courier New',monospace\">4\n",
       "</pre>\n"
      ],
      "text/plain": [
       "4\n"
      ]
     },
     "metadata": {},
     "output_type": "display_data"
    },
    {
     "data": {
      "text/html": [
       "<pre style=\"white-space:pre;overflow-x:auto;line-height:normal;font-family:Menlo,'DejaVu Sans Mono',consolas,'Courier New',monospace\">torch.Size([224, 224])\n",
       "</pre>\n"
      ],
      "text/plain": [
       "torch.Size([224, 224])\n"
      ]
     },
     "metadata": {},
     "output_type": "display_data"
    },
    {
     "data": {
      "text/html": [
       "<pre style=\"white-space:pre;overflow-x:auto;line-height:normal;font-family:Menlo,'DejaVu Sans Mono',consolas,'Courier New',monospace\">tensor(11.)\n",
       "</pre>\n"
      ],
      "text/plain": [
       "tensor(11.)\n"
      ]
     },
     "metadata": {},
     "output_type": "display_data"
    },
    {
     "data": {
      "text/html": [
       "<pre style=\"white-space:pre;overflow-x:auto;line-height:normal;font-family:Menlo,'DejaVu Sans Mono',consolas,'Courier New',monospace\">sentinel_stack_S2A_MSIL2A_20200912T100031_N0500_R122_T34VEH_20230311T210416_embedding.parquet\n",
       "</pre>\n"
      ],
      "text/plain": [
       "sentinel_stack_S2A_MSIL2A_20200912T100031_N0500_R122_T34VEH_20230311T210416_embedding.parquet\n"
      ]
     },
     "metadata": {},
     "output_type": "display_data"
    },
    {
     "data": {
      "text/html": [
       "<pre style=\"white-space:pre;overflow-x:auto;line-height:normal;font-family:Menlo,'DejaVu Sans Mono',consolas,'Courier New',monospace\">[EmbeddingRowDataset] GET 9\n",
       "</pre>\n"
      ],
      "text/plain": [
       "[EmbeddingRowDataset] GET 9\n"
      ]
     },
     "metadata": {},
     "output_type": "display_data"
    },
    {
     "data": {
      "text/html": [
       "<pre style=\"white-space:pre;overflow-x:auto;line-height:normal;font-family:Menlo,'DejaVu Sans Mono',consolas,'Courier New',monospace\">  -&gt; file 0, row group 0, in_rg 9\n",
       "</pre>\n"
      ],
      "text/plain": [
       "  -> file 0, row group 0, in_rg 9\n"
      ]
     },
     "metadata": {},
     "output_type": "display_data"
    },
    {
     "data": {
      "text/html": [
       "<pre style=\"white-space:pre;overflow-x:auto;line-height:normal;font-family:Menlo,'DejaVu Sans Mono',consolas,'Courier New',monospace\">    embedding_layer_2: torch.Size([196, 768]) dtype=torch.float32\n",
       "</pre>\n"
      ],
      "text/plain": [
       "    embedding_layer_2: torch.Size([196, 768]) dtype=torch.float32\n"
      ]
     },
     "metadata": {},
     "output_type": "display_data"
    },
    {
     "data": {
      "text/html": [
       "<pre style=\"white-space:pre;overflow-x:auto;line-height:normal;font-family:Menlo,'DejaVu Sans Mono',consolas,'Courier New',monospace\">    embedding_layer_5: torch.Size([196, 768]) dtype=torch.float32\n",
       "</pre>\n"
      ],
      "text/plain": [
       "    embedding_layer_5: torch.Size([196, 768]) dtype=torch.float32\n"
      ]
     },
     "metadata": {},
     "output_type": "display_data"
    },
    {
     "data": {
      "text/html": [
       "<pre style=\"white-space:pre;overflow-x:auto;line-height:normal;font-family:Menlo,'DejaVu Sans Mono',consolas,'Courier New',monospace\">    embedding_layer_8: torch.Size([196, 768]) dtype=torch.float32\n",
       "</pre>\n"
      ],
      "text/plain": [
       "    embedding_layer_8: torch.Size([196, 768]) dtype=torch.float32\n"
      ]
     },
     "metadata": {},
     "output_type": "display_data"
    },
    {
     "data": {
      "text/html": [
       "<pre style=\"white-space:pre;overflow-x:auto;line-height:normal;font-family:Menlo,'DejaVu Sans Mono',consolas,'Courier New',monospace\">    embedding_layer_11: torch.Size([196, 768]) dtype=torch.float32\n",
       "</pre>\n"
      ],
      "text/plain": [
       "    embedding_layer_11: torch.Size([196, 768]) dtype=torch.float32\n"
      ]
     },
     "metadata": {},
     "output_type": "display_data"
    },
    {
     "data": {
      "text/html": [
       "<pre style=\"white-space:pre;overflow-x:auto;line-height:normal;font-family:Menlo,'DejaVu Sans Mono',consolas,'Courier New',monospace\">4\n",
       "</pre>\n"
      ],
      "text/plain": [
       "4\n"
      ]
     },
     "metadata": {},
     "output_type": "display_data"
    },
    {
     "data": {
      "text/html": [
       "<pre style=\"white-space:pre;overflow-x:auto;line-height:normal;font-family:Menlo,'DejaVu Sans Mono',consolas,'Courier New',monospace\">torch.Size([224, 224])\n",
       "</pre>\n"
      ],
      "text/plain": [
       "torch.Size([224, 224])\n"
      ]
     },
     "metadata": {},
     "output_type": "display_data"
    },
    {
     "data": {
      "text/html": [
       "<pre style=\"white-space:pre;overflow-x:auto;line-height:normal;font-family:Menlo,'DejaVu Sans Mono',consolas,'Courier New',monospace\">tensor(12.)\n",
       "</pre>\n"
      ],
      "text/plain": [
       "tensor(12.)\n"
      ]
     },
     "metadata": {},
     "output_type": "display_data"
    },
    {
     "data": {
      "text/html": [
       "<pre style=\"white-space:pre;overflow-x:auto;line-height:normal;font-family:Menlo,'DejaVu Sans Mono',consolas,'Courier New',monospace\">sentinel_stack_S2A_MSIL2A_20200912T100031_N0500_R122_T34VEH_20230311T210416_embedding.parquet\n",
       "</pre>\n"
      ],
      "text/plain": [
       "sentinel_stack_S2A_MSIL2A_20200912T100031_N0500_R122_T34VEH_20230311T210416_embedding.parquet\n"
      ]
     },
     "metadata": {},
     "output_type": "display_data"
    },
    {
     "data": {
      "text/html": [
       "<pre style=\"white-space:pre;overflow-x:auto;line-height:normal;font-family:Menlo,'DejaVu Sans Mono',consolas,'Courier New',monospace\">[EmbeddingRowDataset] GET 10\n",
       "</pre>\n"
      ],
      "text/plain": [
       "[EmbeddingRowDataset] GET 10\n"
      ]
     },
     "metadata": {},
     "output_type": "display_data"
    },
    {
     "data": {
      "text/html": [
       "<pre style=\"white-space:pre;overflow-x:auto;line-height:normal;font-family:Menlo,'DejaVu Sans Mono',consolas,'Courier New',monospace\">  -&gt; file 0, row group 0, in_rg 10\n",
       "</pre>\n"
      ],
      "text/plain": [
       "  -> file 0, row group 0, in_rg 10\n"
      ]
     },
     "metadata": {},
     "output_type": "display_data"
    },
    {
     "data": {
      "text/html": [
       "<pre style=\"white-space:pre;overflow-x:auto;line-height:normal;font-family:Menlo,'DejaVu Sans Mono',consolas,'Courier New',monospace\">    embedding_layer_2: torch.Size([196, 768]) dtype=torch.float32\n",
       "</pre>\n"
      ],
      "text/plain": [
       "    embedding_layer_2: torch.Size([196, 768]) dtype=torch.float32\n"
      ]
     },
     "metadata": {},
     "output_type": "display_data"
    },
    {
     "data": {
      "text/html": [
       "<pre style=\"white-space:pre;overflow-x:auto;line-height:normal;font-family:Menlo,'DejaVu Sans Mono',consolas,'Courier New',monospace\">    embedding_layer_5: torch.Size([196, 768]) dtype=torch.float32\n",
       "</pre>\n"
      ],
      "text/plain": [
       "    embedding_layer_5: torch.Size([196, 768]) dtype=torch.float32\n"
      ]
     },
     "metadata": {},
     "output_type": "display_data"
    },
    {
     "data": {
      "text/html": [
       "<pre style=\"white-space:pre;overflow-x:auto;line-height:normal;font-family:Menlo,'DejaVu Sans Mono',consolas,'Courier New',monospace\">    embedding_layer_8: torch.Size([196, 768]) dtype=torch.float32\n",
       "</pre>\n"
      ],
      "text/plain": [
       "    embedding_layer_8: torch.Size([196, 768]) dtype=torch.float32\n"
      ]
     },
     "metadata": {},
     "output_type": "display_data"
    },
    {
     "data": {
      "text/html": [
       "<pre style=\"white-space:pre;overflow-x:auto;line-height:normal;font-family:Menlo,'DejaVu Sans Mono',consolas,'Courier New',monospace\">    embedding_layer_11: torch.Size([196, 768]) dtype=torch.float32\n",
       "</pre>\n"
      ],
      "text/plain": [
       "    embedding_layer_11: torch.Size([196, 768]) dtype=torch.float32\n"
      ]
     },
     "metadata": {},
     "output_type": "display_data"
    },
    {
     "data": {
      "text/html": [
       "<pre style=\"white-space:pre;overflow-x:auto;line-height:normal;font-family:Menlo,'DejaVu Sans Mono',consolas,'Courier New',monospace\">4\n",
       "</pre>\n"
      ],
      "text/plain": [
       "4\n"
      ]
     },
     "metadata": {},
     "output_type": "display_data"
    },
    {
     "data": {
      "text/html": [
       "<pre style=\"white-space:pre;overflow-x:auto;line-height:normal;font-family:Menlo,'DejaVu Sans Mono',consolas,'Courier New',monospace\">torch.Size([224, 224])\n",
       "</pre>\n"
      ],
      "text/plain": [
       "torch.Size([224, 224])\n"
      ]
     },
     "metadata": {},
     "output_type": "display_data"
    },
    {
     "data": {
      "text/html": [
       "<pre style=\"white-space:pre;overflow-x:auto;line-height:normal;font-family:Menlo,'DejaVu Sans Mono',consolas,'Courier New',monospace\">tensor(12.)\n",
       "</pre>\n"
      ],
      "text/plain": [
       "tensor(12.)\n"
      ]
     },
     "metadata": {},
     "output_type": "display_data"
    },
    {
     "data": {
      "text/html": [
       "<pre style=\"white-space:pre;overflow-x:auto;line-height:normal;font-family:Menlo,'DejaVu Sans Mono',consolas,'Courier New',monospace\">sentinel_stack_S2A_MSIL2A_20200912T100031_N0500_R122_T34VEH_20230311T210416_embedding.parquet\n",
       "</pre>\n"
      ],
      "text/plain": [
       "sentinel_stack_S2A_MSIL2A_20200912T100031_N0500_R122_T34VEH_20230311T210416_embedding.parquet\n"
      ]
     },
     "metadata": {},
     "output_type": "display_data"
    },
    {
     "data": {
      "text/html": [
       "<pre style=\"white-space:pre;overflow-x:auto;line-height:normal;font-family:Menlo,'DejaVu Sans Mono',consolas,'Courier New',monospace\">[EmbeddingRowDataset] GET 11\n",
       "</pre>\n"
      ],
      "text/plain": [
       "[EmbeddingRowDataset] GET 11\n"
      ]
     },
     "metadata": {},
     "output_type": "display_data"
    },
    {
     "data": {
      "text/html": [
       "<pre style=\"white-space:pre;overflow-x:auto;line-height:normal;font-family:Menlo,'DejaVu Sans Mono',consolas,'Courier New',monospace\">  -&gt; file 0, row group 0, in_rg 11\n",
       "</pre>\n"
      ],
      "text/plain": [
       "  -> file 0, row group 0, in_rg 11\n"
      ]
     },
     "metadata": {},
     "output_type": "display_data"
    },
    {
     "data": {
      "text/html": [
       "<pre style=\"white-space:pre;overflow-x:auto;line-height:normal;font-family:Menlo,'DejaVu Sans Mono',consolas,'Courier New',monospace\">    embedding_layer_2: torch.Size([196, 768]) dtype=torch.float32\n",
       "</pre>\n"
      ],
      "text/plain": [
       "    embedding_layer_2: torch.Size([196, 768]) dtype=torch.float32\n"
      ]
     },
     "metadata": {},
     "output_type": "display_data"
    },
    {
     "data": {
      "text/html": [
       "<pre style=\"white-space:pre;overflow-x:auto;line-height:normal;font-family:Menlo,'DejaVu Sans Mono',consolas,'Courier New',monospace\">    embedding_layer_5: torch.Size([196, 768]) dtype=torch.float32\n",
       "</pre>\n"
      ],
      "text/plain": [
       "    embedding_layer_5: torch.Size([196, 768]) dtype=torch.float32\n"
      ]
     },
     "metadata": {},
     "output_type": "display_data"
    },
    {
     "data": {
      "text/html": [
       "<pre style=\"white-space:pre;overflow-x:auto;line-height:normal;font-family:Menlo,'DejaVu Sans Mono',consolas,'Courier New',monospace\">    embedding_layer_8: torch.Size([196, 768]) dtype=torch.float32\n",
       "</pre>\n"
      ],
      "text/plain": [
       "    embedding_layer_8: torch.Size([196, 768]) dtype=torch.float32\n"
      ]
     },
     "metadata": {},
     "output_type": "display_data"
    },
    {
     "data": {
      "text/html": [
       "<pre style=\"white-space:pre;overflow-x:auto;line-height:normal;font-family:Menlo,'DejaVu Sans Mono',consolas,'Courier New',monospace\">    embedding_layer_11: torch.Size([196, 768]) dtype=torch.float32\n",
       "</pre>\n"
      ],
      "text/plain": [
       "    embedding_layer_11: torch.Size([196, 768]) dtype=torch.float32\n"
      ]
     },
     "metadata": {},
     "output_type": "display_data"
    },
    {
     "data": {
      "text/html": [
       "<pre style=\"white-space:pre;overflow-x:auto;line-height:normal;font-family:Menlo,'DejaVu Sans Mono',consolas,'Courier New',monospace\">4\n",
       "</pre>\n"
      ],
      "text/plain": [
       "4\n"
      ]
     },
     "metadata": {},
     "output_type": "display_data"
    },
    {
     "data": {
      "text/html": [
       "<pre style=\"white-space:pre;overflow-x:auto;line-height:normal;font-family:Menlo,'DejaVu Sans Mono',consolas,'Courier New',monospace\">torch.Size([224, 224])\n",
       "</pre>\n"
      ],
      "text/plain": [
       "torch.Size([224, 224])\n"
      ]
     },
     "metadata": {},
     "output_type": "display_data"
    },
    {
     "data": {
      "text/html": [
       "<pre style=\"white-space:pre;overflow-x:auto;line-height:normal;font-family:Menlo,'DejaVu Sans Mono',consolas,'Courier New',monospace\">tensor(12.)\n",
       "</pre>\n"
      ],
      "text/plain": [
       "tensor(12.)\n"
      ]
     },
     "metadata": {},
     "output_type": "display_data"
    },
    {
     "data": {
      "text/html": [
       "<pre style=\"white-space:pre;overflow-x:auto;line-height:normal;font-family:Menlo,'DejaVu Sans Mono',consolas,'Courier New',monospace\">sentinel_stack_S2A_MSIL2A_20200912T100031_N0500_R122_T34VEH_20230311T210416_embedding.parquet\n",
       "</pre>\n"
      ],
      "text/plain": [
       "sentinel_stack_S2A_MSIL2A_20200912T100031_N0500_R122_T34VEH_20230311T210416_embedding.parquet\n"
      ]
     },
     "metadata": {},
     "output_type": "display_data"
    },
    {
     "data": {
      "text/html": [
       "<pre style=\"white-space:pre;overflow-x:auto;line-height:normal;font-family:Menlo,'DejaVu Sans Mono',consolas,'Courier New',monospace\">[EmbeddingRowDataset] GET 12\n",
       "</pre>\n"
      ],
      "text/plain": [
       "[EmbeddingRowDataset] GET 12\n"
      ]
     },
     "metadata": {},
     "output_type": "display_data"
    },
    {
     "data": {
      "text/html": [
       "<pre style=\"white-space:pre;overflow-x:auto;line-height:normal;font-family:Menlo,'DejaVu Sans Mono',consolas,'Courier New',monospace\">  -&gt; file 0, row group 0, in_rg 12\n",
       "</pre>\n"
      ],
      "text/plain": [
       "  -> file 0, row group 0, in_rg 12\n"
      ]
     },
     "metadata": {},
     "output_type": "display_data"
    },
    {
     "data": {
      "text/html": [
       "<pre style=\"white-space:pre;overflow-x:auto;line-height:normal;font-family:Menlo,'DejaVu Sans Mono',consolas,'Courier New',monospace\">    embedding_layer_2: torch.Size([196, 768]) dtype=torch.float32\n",
       "</pre>\n"
      ],
      "text/plain": [
       "    embedding_layer_2: torch.Size([196, 768]) dtype=torch.float32\n"
      ]
     },
     "metadata": {},
     "output_type": "display_data"
    },
    {
     "data": {
      "text/html": [
       "<pre style=\"white-space:pre;overflow-x:auto;line-height:normal;font-family:Menlo,'DejaVu Sans Mono',consolas,'Courier New',monospace\">    embedding_layer_5: torch.Size([196, 768]) dtype=torch.float32\n",
       "</pre>\n"
      ],
      "text/plain": [
       "    embedding_layer_5: torch.Size([196, 768]) dtype=torch.float32\n"
      ]
     },
     "metadata": {},
     "output_type": "display_data"
    },
    {
     "data": {
      "text/html": [
       "<pre style=\"white-space:pre;overflow-x:auto;line-height:normal;font-family:Menlo,'DejaVu Sans Mono',consolas,'Courier New',monospace\">    embedding_layer_8: torch.Size([196, 768]) dtype=torch.float32\n",
       "</pre>\n"
      ],
      "text/plain": [
       "    embedding_layer_8: torch.Size([196, 768]) dtype=torch.float32\n"
      ]
     },
     "metadata": {},
     "output_type": "display_data"
    },
    {
     "data": {
      "text/html": [
       "<pre style=\"white-space:pre;overflow-x:auto;line-height:normal;font-family:Menlo,'DejaVu Sans Mono',consolas,'Courier New',monospace\">    embedding_layer_11: torch.Size([196, 768]) dtype=torch.float32\n",
       "</pre>\n"
      ],
      "text/plain": [
       "    embedding_layer_11: torch.Size([196, 768]) dtype=torch.float32\n"
      ]
     },
     "metadata": {},
     "output_type": "display_data"
    },
    {
     "data": {
      "text/html": [
       "<pre style=\"white-space:pre;overflow-x:auto;line-height:normal;font-family:Menlo,'DejaVu Sans Mono',consolas,'Courier New',monospace\">4\n",
       "</pre>\n"
      ],
      "text/plain": [
       "4\n"
      ]
     },
     "metadata": {},
     "output_type": "display_data"
    },
    {
     "data": {
      "text/html": [
       "<pre style=\"white-space:pre;overflow-x:auto;line-height:normal;font-family:Menlo,'DejaVu Sans Mono',consolas,'Courier New',monospace\">torch.Size([224, 224])\n",
       "</pre>\n"
      ],
      "text/plain": [
       "torch.Size([224, 224])\n"
      ]
     },
     "metadata": {},
     "output_type": "display_data"
    },
    {
     "data": {
      "text/html": [
       "<pre style=\"white-space:pre;overflow-x:auto;line-height:normal;font-family:Menlo,'DejaVu Sans Mono',consolas,'Courier New',monospace\">tensor(11.)\n",
       "</pre>\n"
      ],
      "text/plain": [
       "tensor(11.)\n"
      ]
     },
     "metadata": {},
     "output_type": "display_data"
    },
    {
     "data": {
      "text/html": [
       "<pre style=\"white-space:pre;overflow-x:auto;line-height:normal;font-family:Menlo,'DejaVu Sans Mono',consolas,'Courier New',monospace\">sentinel_stack_S2A_MSIL2A_20200912T100031_N0500_R122_T34VEH_20230311T210416_embedding.parquet\n",
       "</pre>\n"
      ],
      "text/plain": [
       "sentinel_stack_S2A_MSIL2A_20200912T100031_N0500_R122_T34VEH_20230311T210416_embedding.parquet\n"
      ]
     },
     "metadata": {},
     "output_type": "display_data"
    },
    {
     "data": {
      "text/html": [
       "<pre style=\"white-space:pre;overflow-x:auto;line-height:normal;font-family:Menlo,'DejaVu Sans Mono',consolas,'Courier New',monospace\">[EmbeddingRowDataset] GET 13\n",
       "</pre>\n"
      ],
      "text/plain": [
       "[EmbeddingRowDataset] GET 13\n"
      ]
     },
     "metadata": {},
     "output_type": "display_data"
    },
    {
     "data": {
      "text/html": [
       "<pre style=\"white-space:pre;overflow-x:auto;line-height:normal;font-family:Menlo,'DejaVu Sans Mono',consolas,'Courier New',monospace\">  -&gt; file 0, row group 0, in_rg 13\n",
       "</pre>\n"
      ],
      "text/plain": [
       "  -> file 0, row group 0, in_rg 13\n"
      ]
     },
     "metadata": {},
     "output_type": "display_data"
    },
    {
     "data": {
      "text/html": [
       "<pre style=\"white-space:pre;overflow-x:auto;line-height:normal;font-family:Menlo,'DejaVu Sans Mono',consolas,'Courier New',monospace\">    embedding_layer_2: torch.Size([196, 768]) dtype=torch.float32\n",
       "</pre>\n"
      ],
      "text/plain": [
       "    embedding_layer_2: torch.Size([196, 768]) dtype=torch.float32\n"
      ]
     },
     "metadata": {},
     "output_type": "display_data"
    },
    {
     "data": {
      "text/html": [
       "<pre style=\"white-space:pre;overflow-x:auto;line-height:normal;font-family:Menlo,'DejaVu Sans Mono',consolas,'Courier New',monospace\">    embedding_layer_5: torch.Size([196, 768]) dtype=torch.float32\n",
       "</pre>\n"
      ],
      "text/plain": [
       "    embedding_layer_5: torch.Size([196, 768]) dtype=torch.float32\n"
      ]
     },
     "metadata": {},
     "output_type": "display_data"
    },
    {
     "data": {
      "text/html": [
       "<pre style=\"white-space:pre;overflow-x:auto;line-height:normal;font-family:Menlo,'DejaVu Sans Mono',consolas,'Courier New',monospace\">    embedding_layer_8: torch.Size([196, 768]) dtype=torch.float32\n",
       "</pre>\n"
      ],
      "text/plain": [
       "    embedding_layer_8: torch.Size([196, 768]) dtype=torch.float32\n"
      ]
     },
     "metadata": {},
     "output_type": "display_data"
    },
    {
     "data": {
      "text/html": [
       "<pre style=\"white-space:pre;overflow-x:auto;line-height:normal;font-family:Menlo,'DejaVu Sans Mono',consolas,'Courier New',monospace\">    embedding_layer_11: torch.Size([196, 768]) dtype=torch.float32\n",
       "</pre>\n"
      ],
      "text/plain": [
       "    embedding_layer_11: torch.Size([196, 768]) dtype=torch.float32\n"
      ]
     },
     "metadata": {},
     "output_type": "display_data"
    },
    {
     "data": {
      "text/html": [
       "<pre style=\"white-space:pre;overflow-x:auto;line-height:normal;font-family:Menlo,'DejaVu Sans Mono',consolas,'Courier New',monospace\">4\n",
       "</pre>\n"
      ],
      "text/plain": [
       "4\n"
      ]
     },
     "metadata": {},
     "output_type": "display_data"
    },
    {
     "data": {
      "text/html": [
       "<pre style=\"white-space:pre;overflow-x:auto;line-height:normal;font-family:Menlo,'DejaVu Sans Mono',consolas,'Courier New',monospace\">torch.Size([224, 224])\n",
       "</pre>\n"
      ],
      "text/plain": [
       "torch.Size([224, 224])\n"
      ]
     },
     "metadata": {},
     "output_type": "display_data"
    },
    {
     "data": {
      "text/html": [
       "<pre style=\"white-space:pre;overflow-x:auto;line-height:normal;font-family:Menlo,'DejaVu Sans Mono',consolas,'Courier New',monospace\">tensor(11.)\n",
       "</pre>\n"
      ],
      "text/plain": [
       "tensor(11.)\n"
      ]
     },
     "metadata": {},
     "output_type": "display_data"
    },
    {
     "data": {
      "text/html": [
       "<pre style=\"white-space:pre;overflow-x:auto;line-height:normal;font-family:Menlo,'DejaVu Sans Mono',consolas,'Courier New',monospace\">sentinel_stack_S2A_MSIL2A_20200912T100031_N0500_R122_T34VEH_20230311T210416_embedding.parquet\n",
       "</pre>\n"
      ],
      "text/plain": [
       "sentinel_stack_S2A_MSIL2A_20200912T100031_N0500_R122_T34VEH_20230311T210416_embedding.parquet\n"
      ]
     },
     "metadata": {},
     "output_type": "display_data"
    },
    {
     "data": {
      "text/html": [
       "<pre style=\"white-space:pre;overflow-x:auto;line-height:normal;font-family:Menlo,'DejaVu Sans Mono',consolas,'Courier New',monospace\">[EmbeddingRowDataset] GET 14\n",
       "</pre>\n"
      ],
      "text/plain": [
       "[EmbeddingRowDataset] GET 14\n"
      ]
     },
     "metadata": {},
     "output_type": "display_data"
    },
    {
     "data": {
      "text/html": [
       "<pre style=\"white-space:pre;overflow-x:auto;line-height:normal;font-family:Menlo,'DejaVu Sans Mono',consolas,'Courier New',monospace\">  -&gt; file 0, row group 0, in_rg 14\n",
       "</pre>\n"
      ],
      "text/plain": [
       "  -> file 0, row group 0, in_rg 14\n"
      ]
     },
     "metadata": {},
     "output_type": "display_data"
    },
    {
     "data": {
      "text/html": [
       "<pre style=\"white-space:pre;overflow-x:auto;line-height:normal;font-family:Menlo,'DejaVu Sans Mono',consolas,'Courier New',monospace\">    embedding_layer_2: torch.Size([196, 768]) dtype=torch.float32\n",
       "</pre>\n"
      ],
      "text/plain": [
       "    embedding_layer_2: torch.Size([196, 768]) dtype=torch.float32\n"
      ]
     },
     "metadata": {},
     "output_type": "display_data"
    },
    {
     "data": {
      "text/html": [
       "<pre style=\"white-space:pre;overflow-x:auto;line-height:normal;font-family:Menlo,'DejaVu Sans Mono',consolas,'Courier New',monospace\">    embedding_layer_5: torch.Size([196, 768]) dtype=torch.float32\n",
       "</pre>\n"
      ],
      "text/plain": [
       "    embedding_layer_5: torch.Size([196, 768]) dtype=torch.float32\n"
      ]
     },
     "metadata": {},
     "output_type": "display_data"
    },
    {
     "data": {
      "text/html": [
       "<pre style=\"white-space:pre;overflow-x:auto;line-height:normal;font-family:Menlo,'DejaVu Sans Mono',consolas,'Courier New',monospace\">    embedding_layer_8: torch.Size([196, 768]) dtype=torch.float32\n",
       "</pre>\n"
      ],
      "text/plain": [
       "    embedding_layer_8: torch.Size([196, 768]) dtype=torch.float32\n"
      ]
     },
     "metadata": {},
     "output_type": "display_data"
    },
    {
     "data": {
      "text/html": [
       "<pre style=\"white-space:pre;overflow-x:auto;line-height:normal;font-family:Menlo,'DejaVu Sans Mono',consolas,'Courier New',monospace\">    embedding_layer_11: torch.Size([196, 768]) dtype=torch.float32\n",
       "</pre>\n"
      ],
      "text/plain": [
       "    embedding_layer_11: torch.Size([196, 768]) dtype=torch.float32\n"
      ]
     },
     "metadata": {},
     "output_type": "display_data"
    },
    {
     "data": {
      "text/html": [
       "<pre style=\"white-space:pre;overflow-x:auto;line-height:normal;font-family:Menlo,'DejaVu Sans Mono',consolas,'Courier New',monospace\">4\n",
       "</pre>\n"
      ],
      "text/plain": [
       "4\n"
      ]
     },
     "metadata": {},
     "output_type": "display_data"
    },
    {
     "data": {
      "text/html": [
       "<pre style=\"white-space:pre;overflow-x:auto;line-height:normal;font-family:Menlo,'DejaVu Sans Mono',consolas,'Courier New',monospace\">torch.Size([224, 224])\n",
       "</pre>\n"
      ],
      "text/plain": [
       "torch.Size([224, 224])\n"
      ]
     },
     "metadata": {},
     "output_type": "display_data"
    },
    {
     "data": {
      "text/html": [
       "<pre style=\"white-space:pre;overflow-x:auto;line-height:normal;font-family:Menlo,'DejaVu Sans Mono',consolas,'Courier New',monospace\">tensor(12.)\n",
       "</pre>\n"
      ],
      "text/plain": [
       "tensor(12.)\n"
      ]
     },
     "metadata": {},
     "output_type": "display_data"
    },
    {
     "data": {
      "text/html": [
       "<pre style=\"white-space:pre;overflow-x:auto;line-height:normal;font-family:Menlo,'DejaVu Sans Mono',consolas,'Courier New',monospace\">sentinel_stack_S2A_MSIL2A_20200912T100031_N0500_R122_T34VEH_20230311T210416_embedding.parquet\n",
       "</pre>\n"
      ],
      "text/plain": [
       "sentinel_stack_S2A_MSIL2A_20200912T100031_N0500_R122_T34VEH_20230311T210416_embedding.parquet\n"
      ]
     },
     "metadata": {},
     "output_type": "display_data"
    },
    {
     "data": {
      "text/html": [
       "<pre style=\"white-space:pre;overflow-x:auto;line-height:normal;font-family:Menlo,'DejaVu Sans Mono',consolas,'Courier New',monospace\">[EmbeddingRowDataset] GET 15\n",
       "</pre>\n"
      ],
      "text/plain": [
       "[EmbeddingRowDataset] GET 15\n"
      ]
     },
     "metadata": {},
     "output_type": "display_data"
    },
    {
     "data": {
      "text/html": [
       "<pre style=\"white-space:pre;overflow-x:auto;line-height:normal;font-family:Menlo,'DejaVu Sans Mono',consolas,'Courier New',monospace\">  -&gt; file 0, row group 0, in_rg 15\n",
       "</pre>\n"
      ],
      "text/plain": [
       "  -> file 0, row group 0, in_rg 15\n"
      ]
     },
     "metadata": {},
     "output_type": "display_data"
    },
    {
     "data": {
      "text/html": [
       "<pre style=\"white-space:pre;overflow-x:auto;line-height:normal;font-family:Menlo,'DejaVu Sans Mono',consolas,'Courier New',monospace\">    embedding_layer_2: torch.Size([196, 768]) dtype=torch.float32\n",
       "</pre>\n"
      ],
      "text/plain": [
       "    embedding_layer_2: torch.Size([196, 768]) dtype=torch.float32\n"
      ]
     },
     "metadata": {},
     "output_type": "display_data"
    },
    {
     "data": {
      "text/html": [
       "<pre style=\"white-space:pre;overflow-x:auto;line-height:normal;font-family:Menlo,'DejaVu Sans Mono',consolas,'Courier New',monospace\">    embedding_layer_5: torch.Size([196, 768]) dtype=torch.float32\n",
       "</pre>\n"
      ],
      "text/plain": [
       "    embedding_layer_5: torch.Size([196, 768]) dtype=torch.float32\n"
      ]
     },
     "metadata": {},
     "output_type": "display_data"
    },
    {
     "data": {
      "text/html": [
       "<pre style=\"white-space:pre;overflow-x:auto;line-height:normal;font-family:Menlo,'DejaVu Sans Mono',consolas,'Courier New',monospace\">    embedding_layer_8: torch.Size([196, 768]) dtype=torch.float32\n",
       "</pre>\n"
      ],
      "text/plain": [
       "    embedding_layer_8: torch.Size([196, 768]) dtype=torch.float32\n"
      ]
     },
     "metadata": {},
     "output_type": "display_data"
    },
    {
     "data": {
      "text/html": [
       "<pre style=\"white-space:pre;overflow-x:auto;line-height:normal;font-family:Menlo,'DejaVu Sans Mono',consolas,'Courier New',monospace\">    embedding_layer_11: torch.Size([196, 768]) dtype=torch.float32\n",
       "</pre>\n"
      ],
      "text/plain": [
       "    embedding_layer_11: torch.Size([196, 768]) dtype=torch.float32\n"
      ]
     },
     "metadata": {},
     "output_type": "display_data"
    },
    {
     "data": {
      "text/html": [
       "<pre style=\"white-space:pre;overflow-x:auto;line-height:normal;font-family:Menlo,'DejaVu Sans Mono',consolas,'Courier New',monospace\">4\n",
       "</pre>\n"
      ],
      "text/plain": [
       "4\n"
      ]
     },
     "metadata": {},
     "output_type": "display_data"
    },
    {
     "data": {
      "text/html": [
       "<pre style=\"white-space:pre;overflow-x:auto;line-height:normal;font-family:Menlo,'DejaVu Sans Mono',consolas,'Courier New',monospace\">torch.Size([224, 224])\n",
       "</pre>\n"
      ],
      "text/plain": [
       "torch.Size([224, 224])\n"
      ]
     },
     "metadata": {},
     "output_type": "display_data"
    },
    {
     "data": {
      "text/html": [
       "<pre style=\"white-space:pre;overflow-x:auto;line-height:normal;font-family:Menlo,'DejaVu Sans Mono',consolas,'Courier New',monospace\">tensor(11.)\n",
       "</pre>\n"
      ],
      "text/plain": [
       "tensor(11.)\n"
      ]
     },
     "metadata": {},
     "output_type": "display_data"
    },
    {
     "data": {
      "text/html": [
       "<pre style=\"white-space:pre;overflow-x:auto;line-height:normal;font-family:Menlo,'DejaVu Sans Mono',consolas,'Courier New',monospace\">sentinel_stack_S2A_MSIL2A_20200912T100031_N0500_R122_T34VEH_20230311T210416_embedding.parquet\n",
       "</pre>\n"
      ],
      "text/plain": [
       "sentinel_stack_S2A_MSIL2A_20200912T100031_N0500_R122_T34VEH_20230311T210416_embedding.parquet\n"
      ]
     },
     "metadata": {},
     "output_type": "display_data"
    },
    {
     "data": {
      "text/html": [
       "<pre style=\"white-space:pre;overflow-x:auto;line-height:normal;font-family:Menlo,'DejaVu Sans Mono',consolas,'Courier New',monospace\">In val\n",
       "</pre>\n"
      ],
      "text/plain": [
       "In val\n"
      ]
     },
     "metadata": {},
     "output_type": "display_data"
    },
    {
     "data": {
      "text/html": [
       "<pre style=\"white-space:pre;overflow-x:auto;line-height:normal;font-family:Menlo,'DejaVu Sans Mono',consolas,'Courier New',monospace\">4\n",
       "</pre>\n"
      ],
      "text/plain": [
       "4\n"
      ]
     },
     "metadata": {},
     "output_type": "display_data"
    },
    {
     "data": {
      "text/html": [
       "<pre style=\"white-space:pre;overflow-x:auto;line-height:normal;font-family:Menlo,'DejaVu Sans Mono',consolas,'Courier New',monospace\">torch.Size([8, 196, 768])\n",
       "</pre>\n"
      ],
      "text/plain": [
       "torch.Size([8, 196, 768])\n"
      ]
     },
     "metadata": {},
     "output_type": "display_data"
    },
    {
     "data": {
      "text/html": [
       "<pre style=\"white-space:pre;overflow-x:auto;line-height:normal;font-family:Menlo,'DejaVu Sans Mono',consolas,'Courier New',monospace\">14\n",
       "</pre>\n"
      ],
      "text/plain": [
       "14\n"
      ]
     },
     "metadata": {},
     "output_type": "display_data"
    },
    {
     "data": {
      "text/html": [
       "<pre style=\"white-space:pre;overflow-x:auto;line-height:normal;font-family:Menlo,'DejaVu Sans Mono',consolas,'Courier New',monospace\">tensor(12.)\n",
       "</pre>\n"
      ],
      "text/plain": [
       "tensor(12.)\n"
      ]
     },
     "metadata": {},
     "output_type": "display_data"
    },
    {
     "data": {
      "text/html": [
       "<pre style=\"white-space:pre;overflow-x:auto;line-height:normal;font-family:Menlo,'DejaVu Sans Mono',consolas,'Courier New',monospace\">tensor(True)\n",
       "</pre>\n"
      ],
      "text/plain": [
       "tensor(True)\n"
      ]
     },
     "metadata": {},
     "output_type": "display_data"
    },
    {
     "data": {
      "text/html": [
       "<pre style=\"white-space:pre;overflow-x:auto;line-height:normal;font-family:Menlo,'DejaVu Sans Mono',consolas,'Courier New',monospace\">tensor(0.)\n",
       "</pre>\n"
      ],
      "text/plain": [
       "tensor(0.)\n"
      ]
     },
     "metadata": {},
     "output_type": "display_data"
    },
    {
     "data": {
      "text/html": [
       "<pre style=\"white-space:pre;overflow-x:auto;line-height:normal;font-family:Menlo,'DejaVu Sans Mono',consolas,'Courier New',monospace\">tensor(True)\n",
       "</pre>\n"
      ],
      "text/plain": [
       "tensor(True)\n"
      ]
     },
     "metadata": {},
     "output_type": "display_data"
    },
    {
     "data": {
      "text/html": [
       "<pre style=\"white-space:pre;overflow-x:auto;line-height:normal;font-family:Menlo,'DejaVu Sans Mono',consolas,'Courier New',monospace\">/Users/isw/Documents/Code/CF_Demo/cf_demo/lib/python3.13/site-packages/lightning/pytorch/trainer/connectors/data_co\n",
       "nnector.py:425: The 'train_dataloader' does not have many workers which may be a bottleneck. Consider increasing \n",
       "the value of the `num_workers` argument` to `num_workers=15` in the `DataLoader` to improve performance.\n",
       "</pre>\n"
      ],
      "text/plain": [
       "/Users/isw/Documents/Code/CF_Demo/cf_demo/lib/python3.13/site-packages/lightning/pytorch/trainer/connectors/data_co\n",
       "nnector.py:425: The 'train_dataloader' does not have many workers which may be a bottleneck. Consider increasing \n",
       "the value of the `num_workers` argument` to `num_workers=15` in the `DataLoader` to improve performance.\n"
      ]
     },
     "metadata": {},
     "output_type": "display_data"
    },
    {
     "data": {
      "text/html": [
       "<pre style=\"white-space:pre;overflow-x:auto;line-height:normal;font-family:Menlo,'DejaVu Sans Mono',consolas,'Courier New',monospace\">[EmbeddingRowDataset] GET 105\n",
       "</pre>\n"
      ],
      "text/plain": [
       "[EmbeddingRowDataset] GET 105\n"
      ]
     },
     "metadata": {},
     "output_type": "display_data"
    },
    {
     "data": {
      "text/html": [
       "<pre style=\"white-space:pre;overflow-x:auto;line-height:normal;font-family:Menlo,'DejaVu Sans Mono',consolas,'Courier New',monospace\">  -&gt; file 0, row group 0, in_rg 105\n",
       "</pre>\n"
      ],
      "text/plain": [
       "  -> file 0, row group 0, in_rg 105\n"
      ]
     },
     "metadata": {},
     "output_type": "display_data"
    },
    {
     "data": {
      "text/html": [
       "<pre style=\"white-space:pre;overflow-x:auto;line-height:normal;font-family:Menlo,'DejaVu Sans Mono',consolas,'Courier New',monospace\">    embedding_layer_2: torch.Size([196, 768]) dtype=torch.float32\n",
       "</pre>\n"
      ],
      "text/plain": [
       "    embedding_layer_2: torch.Size([196, 768]) dtype=torch.float32\n"
      ]
     },
     "metadata": {},
     "output_type": "display_data"
    },
    {
     "data": {
      "text/html": [
       "<pre style=\"white-space:pre;overflow-x:auto;line-height:normal;font-family:Menlo,'DejaVu Sans Mono',consolas,'Courier New',monospace\">    embedding_layer_5: torch.Size([196, 768]) dtype=torch.float32\n",
       "</pre>\n"
      ],
      "text/plain": [
       "    embedding_layer_5: torch.Size([196, 768]) dtype=torch.float32\n"
      ]
     },
     "metadata": {},
     "output_type": "display_data"
    },
    {
     "data": {
      "text/html": [
       "<pre style=\"white-space:pre;overflow-x:auto;line-height:normal;font-family:Menlo,'DejaVu Sans Mono',consolas,'Courier New',monospace\">    embedding_layer_8: torch.Size([196, 768]) dtype=torch.float32\n",
       "</pre>\n"
      ],
      "text/plain": [
       "    embedding_layer_8: torch.Size([196, 768]) dtype=torch.float32\n"
      ]
     },
     "metadata": {},
     "output_type": "display_data"
    },
    {
     "data": {
      "text/html": [
       "<pre style=\"white-space:pre;overflow-x:auto;line-height:normal;font-family:Menlo,'DejaVu Sans Mono',consolas,'Courier New',monospace\">    embedding_layer_11: torch.Size([196, 768]) dtype=torch.float32\n",
       "</pre>\n"
      ],
      "text/plain": [
       "    embedding_layer_11: torch.Size([196, 768]) dtype=torch.float32\n"
      ]
     },
     "metadata": {},
     "output_type": "display_data"
    },
    {
     "data": {
      "text/html": [
       "<pre style=\"white-space:pre;overflow-x:auto;line-height:normal;font-family:Menlo,'DejaVu Sans Mono',consolas,'Courier New',monospace\">4\n",
       "</pre>\n"
      ],
      "text/plain": [
       "4\n"
      ]
     },
     "metadata": {},
     "output_type": "display_data"
    },
    {
     "data": {
      "text/html": [
       "<pre style=\"white-space:pre;overflow-x:auto;line-height:normal;font-family:Menlo,'DejaVu Sans Mono',consolas,'Courier New',monospace\">torch.Size([224, 224])\n",
       "</pre>\n"
      ],
      "text/plain": [
       "torch.Size([224, 224])\n"
      ]
     },
     "metadata": {},
     "output_type": "display_data"
    },
    {
     "data": {
      "text/html": [
       "<pre style=\"white-space:pre;overflow-x:auto;line-height:normal;font-family:Menlo,'DejaVu Sans Mono',consolas,'Courier New',monospace\">tensor(11.)\n",
       "</pre>\n"
      ],
      "text/plain": [
       "tensor(11.)\n"
      ]
     },
     "metadata": {},
     "output_type": "display_data"
    },
    {
     "data": {
      "text/html": [
       "<pre style=\"white-space:pre;overflow-x:auto;line-height:normal;font-family:Menlo,'DejaVu Sans Mono',consolas,'Courier New',monospace\">sentinel_stack_S2A_MSIL2A_20200912T100031_N0500_R122_T34VEH_20230311T210416_embedding.parquet\n",
       "</pre>\n"
      ],
      "text/plain": [
       "sentinel_stack_S2A_MSIL2A_20200912T100031_N0500_R122_T34VEH_20230311T210416_embedding.parquet\n"
      ]
     },
     "metadata": {},
     "output_type": "display_data"
    },
    {
     "data": {
      "text/html": [
       "<pre style=\"white-space:pre;overflow-x:auto;line-height:normal;font-family:Menlo,'DejaVu Sans Mono',consolas,'Courier New',monospace\">[EmbeddingRowDataset] GET 12\n",
       "</pre>\n"
      ],
      "text/plain": [
       "[EmbeddingRowDataset] GET 12\n"
      ]
     },
     "metadata": {},
     "output_type": "display_data"
    },
    {
     "data": {
      "text/html": [
       "<pre style=\"white-space:pre;overflow-x:auto;line-height:normal;font-family:Menlo,'DejaVu Sans Mono',consolas,'Courier New',monospace\">  -&gt; file 0, row group 0, in_rg 12\n",
       "</pre>\n"
      ],
      "text/plain": [
       "  -> file 0, row group 0, in_rg 12\n"
      ]
     },
     "metadata": {},
     "output_type": "display_data"
    },
    {
     "data": {
      "text/html": [
       "<pre style=\"white-space:pre;overflow-x:auto;line-height:normal;font-family:Menlo,'DejaVu Sans Mono',consolas,'Courier New',monospace\">    embedding_layer_2: torch.Size([196, 768]) dtype=torch.float32\n",
       "</pre>\n"
      ],
      "text/plain": [
       "    embedding_layer_2: torch.Size([196, 768]) dtype=torch.float32\n"
      ]
     },
     "metadata": {},
     "output_type": "display_data"
    },
    {
     "data": {
      "text/html": [
       "<pre style=\"white-space:pre;overflow-x:auto;line-height:normal;font-family:Menlo,'DejaVu Sans Mono',consolas,'Courier New',monospace\">    embedding_layer_5: torch.Size([196, 768]) dtype=torch.float32\n",
       "</pre>\n"
      ],
      "text/plain": [
       "    embedding_layer_5: torch.Size([196, 768]) dtype=torch.float32\n"
      ]
     },
     "metadata": {},
     "output_type": "display_data"
    },
    {
     "data": {
      "text/html": [
       "<pre style=\"white-space:pre;overflow-x:auto;line-height:normal;font-family:Menlo,'DejaVu Sans Mono',consolas,'Courier New',monospace\">    embedding_layer_8: torch.Size([196, 768]) dtype=torch.float32\n",
       "</pre>\n"
      ],
      "text/plain": [
       "    embedding_layer_8: torch.Size([196, 768]) dtype=torch.float32\n"
      ]
     },
     "metadata": {},
     "output_type": "display_data"
    },
    {
     "data": {
      "text/html": [
       "<pre style=\"white-space:pre;overflow-x:auto;line-height:normal;font-family:Menlo,'DejaVu Sans Mono',consolas,'Courier New',monospace\">    embedding_layer_11: torch.Size([196, 768]) dtype=torch.float32\n",
       "</pre>\n"
      ],
      "text/plain": [
       "    embedding_layer_11: torch.Size([196, 768]) dtype=torch.float32\n"
      ]
     },
     "metadata": {},
     "output_type": "display_data"
    },
    {
     "data": {
      "text/html": [
       "<pre style=\"white-space:pre;overflow-x:auto;line-height:normal;font-family:Menlo,'DejaVu Sans Mono',consolas,'Courier New',monospace\">4\n",
       "</pre>\n"
      ],
      "text/plain": [
       "4\n"
      ]
     },
     "metadata": {},
     "output_type": "display_data"
    },
    {
     "data": {
      "text/html": [
       "<pre style=\"white-space:pre;overflow-x:auto;line-height:normal;font-family:Menlo,'DejaVu Sans Mono',consolas,'Courier New',monospace\">torch.Size([224, 224])\n",
       "</pre>\n"
      ],
      "text/plain": [
       "torch.Size([224, 224])\n"
      ]
     },
     "metadata": {},
     "output_type": "display_data"
    },
    {
     "data": {
      "text/html": [
       "<pre style=\"white-space:pre;overflow-x:auto;line-height:normal;font-family:Menlo,'DejaVu Sans Mono',consolas,'Courier New',monospace\">tensor(11.)\n",
       "</pre>\n"
      ],
      "text/plain": [
       "tensor(11.)\n"
      ]
     },
     "metadata": {},
     "output_type": "display_data"
    },
    {
     "data": {
      "text/html": [
       "<pre style=\"white-space:pre;overflow-x:auto;line-height:normal;font-family:Menlo,'DejaVu Sans Mono',consolas,'Courier New',monospace\">sentinel_stack_S2A_MSIL2A_20200912T100031_N0500_R122_T34VEH_20230311T210416_embedding.parquet\n",
       "</pre>\n"
      ],
      "text/plain": [
       "sentinel_stack_S2A_MSIL2A_20200912T100031_N0500_R122_T34VEH_20230311T210416_embedding.parquet\n"
      ]
     },
     "metadata": {},
     "output_type": "display_data"
    },
    {
     "data": {
      "text/html": [
       "<pre style=\"white-space:pre;overflow-x:auto;line-height:normal;font-family:Menlo,'DejaVu Sans Mono',consolas,'Courier New',monospace\">[EmbeddingRowDataset] GET 2237\n",
       "</pre>\n"
      ],
      "text/plain": [
       "[EmbeddingRowDataset] GET 2237\n"
      ]
     },
     "metadata": {},
     "output_type": "display_data"
    },
    {
     "data": {
      "text/html": [
       "<pre style=\"white-space:pre;overflow-x:auto;line-height:normal;font-family:Menlo,'DejaVu Sans Mono',consolas,'Courier New',monospace\">  -&gt; file 0, row group 0, in_rg 2237\n",
       "</pre>\n"
      ],
      "text/plain": [
       "  -> file 0, row group 0, in_rg 2237\n"
      ]
     },
     "metadata": {},
     "output_type": "display_data"
    },
    {
     "data": {
      "text/html": [
       "<pre style=\"white-space:pre;overflow-x:auto;line-height:normal;font-family:Menlo,'DejaVu Sans Mono',consolas,'Courier New',monospace\">    embedding_layer_2: torch.Size([196, 768]) dtype=torch.float32\n",
       "</pre>\n"
      ],
      "text/plain": [
       "    embedding_layer_2: torch.Size([196, 768]) dtype=torch.float32\n"
      ]
     },
     "metadata": {},
     "output_type": "display_data"
    },
    {
     "data": {
      "text/html": [
       "<pre style=\"white-space:pre;overflow-x:auto;line-height:normal;font-family:Menlo,'DejaVu Sans Mono',consolas,'Courier New',monospace\">    embedding_layer_5: torch.Size([196, 768]) dtype=torch.float32\n",
       "</pre>\n"
      ],
      "text/plain": [
       "    embedding_layer_5: torch.Size([196, 768]) dtype=torch.float32\n"
      ]
     },
     "metadata": {},
     "output_type": "display_data"
    },
    {
     "data": {
      "text/html": [
       "<pre style=\"white-space:pre;overflow-x:auto;line-height:normal;font-family:Menlo,'DejaVu Sans Mono',consolas,'Courier New',monospace\">    embedding_layer_8: torch.Size([196, 768]) dtype=torch.float32\n",
       "</pre>\n"
      ],
      "text/plain": [
       "    embedding_layer_8: torch.Size([196, 768]) dtype=torch.float32\n"
      ]
     },
     "metadata": {},
     "output_type": "display_data"
    },
    {
     "data": {
      "text/html": [
       "<pre style=\"white-space:pre;overflow-x:auto;line-height:normal;font-family:Menlo,'DejaVu Sans Mono',consolas,'Courier New',monospace\">    embedding_layer_11: torch.Size([196, 768]) dtype=torch.float32\n",
       "</pre>\n"
      ],
      "text/plain": [
       "    embedding_layer_11: torch.Size([196, 768]) dtype=torch.float32\n"
      ]
     },
     "metadata": {},
     "output_type": "display_data"
    },
    {
     "data": {
      "text/html": [
       "<pre style=\"white-space:pre;overflow-x:auto;line-height:normal;font-family:Menlo,'DejaVu Sans Mono',consolas,'Courier New',monospace\">4\n",
       "</pre>\n"
      ],
      "text/plain": [
       "4\n"
      ]
     },
     "metadata": {},
     "output_type": "display_data"
    },
    {
     "data": {
      "text/html": [
       "<pre style=\"white-space:pre;overflow-x:auto;line-height:normal;font-family:Menlo,'DejaVu Sans Mono',consolas,'Courier New',monospace\">torch.Size([224, 224])\n",
       "</pre>\n"
      ],
      "text/plain": [
       "torch.Size([224, 224])\n"
      ]
     },
     "metadata": {},
     "output_type": "display_data"
    },
    {
     "data": {
      "text/html": [
       "<pre style=\"white-space:pre;overflow-x:auto;line-height:normal;font-family:Menlo,'DejaVu Sans Mono',consolas,'Courier New',monospace\">tensor(12.)\n",
       "</pre>\n"
      ],
      "text/plain": [
       "tensor(12.)\n"
      ]
     },
     "metadata": {},
     "output_type": "display_data"
    },
    {
     "data": {
      "text/html": [
       "<pre style=\"white-space:pre;overflow-x:auto;line-height:normal;font-family:Menlo,'DejaVu Sans Mono',consolas,'Courier New',monospace\">sentinel_stack_S2A_MSIL2A_20200912T100031_N0500_R122_T34VEH_20230311T210416_embedding.parquet\n",
       "</pre>\n"
      ],
      "text/plain": [
       "sentinel_stack_S2A_MSIL2A_20200912T100031_N0500_R122_T34VEH_20230311T210416_embedding.parquet\n"
      ]
     },
     "metadata": {},
     "output_type": "display_data"
    },
    {
     "data": {
      "text/html": [
       "<pre style=\"white-space:pre;overflow-x:auto;line-height:normal;font-family:Menlo,'DejaVu Sans Mono',consolas,'Courier New',monospace\">[EmbeddingRowDataset] GET 6\n",
       "</pre>\n"
      ],
      "text/plain": [
       "[EmbeddingRowDataset] GET 6\n"
      ]
     },
     "metadata": {},
     "output_type": "display_data"
    },
    {
     "data": {
      "text/html": [
       "<pre style=\"white-space:pre;overflow-x:auto;line-height:normal;font-family:Menlo,'DejaVu Sans Mono',consolas,'Courier New',monospace\">  -&gt; file 0, row group 0, in_rg 6\n",
       "</pre>\n"
      ],
      "text/plain": [
       "  -> file 0, row group 0, in_rg 6\n"
      ]
     },
     "metadata": {},
     "output_type": "display_data"
    },
    {
     "data": {
      "text/html": [
       "<pre style=\"white-space:pre;overflow-x:auto;line-height:normal;font-family:Menlo,'DejaVu Sans Mono',consolas,'Courier New',monospace\">    embedding_layer_2: torch.Size([196, 768]) dtype=torch.float32\n",
       "</pre>\n"
      ],
      "text/plain": [
       "    embedding_layer_2: torch.Size([196, 768]) dtype=torch.float32\n"
      ]
     },
     "metadata": {},
     "output_type": "display_data"
    },
    {
     "data": {
      "text/html": [
       "<pre style=\"white-space:pre;overflow-x:auto;line-height:normal;font-family:Menlo,'DejaVu Sans Mono',consolas,'Courier New',monospace\">    embedding_layer_5: torch.Size([196, 768]) dtype=torch.float32\n",
       "</pre>\n"
      ],
      "text/plain": [
       "    embedding_layer_5: torch.Size([196, 768]) dtype=torch.float32\n"
      ]
     },
     "metadata": {},
     "output_type": "display_data"
    },
    {
     "data": {
      "text/html": [
       "<pre style=\"white-space:pre;overflow-x:auto;line-height:normal;font-family:Menlo,'DejaVu Sans Mono',consolas,'Courier New',monospace\">    embedding_layer_8: torch.Size([196, 768]) dtype=torch.float32\n",
       "</pre>\n"
      ],
      "text/plain": [
       "    embedding_layer_8: torch.Size([196, 768]) dtype=torch.float32\n"
      ]
     },
     "metadata": {},
     "output_type": "display_data"
    },
    {
     "data": {
      "text/html": [
       "<pre style=\"white-space:pre;overflow-x:auto;line-height:normal;font-family:Menlo,'DejaVu Sans Mono',consolas,'Courier New',monospace\">    embedding_layer_11: torch.Size([196, 768]) dtype=torch.float32\n",
       "</pre>\n"
      ],
      "text/plain": [
       "    embedding_layer_11: torch.Size([196, 768]) dtype=torch.float32\n"
      ]
     },
     "metadata": {},
     "output_type": "display_data"
    },
    {
     "data": {
      "text/html": [
       "<pre style=\"white-space:pre;overflow-x:auto;line-height:normal;font-family:Menlo,'DejaVu Sans Mono',consolas,'Courier New',monospace\">4\n",
       "</pre>\n"
      ],
      "text/plain": [
       "4\n"
      ]
     },
     "metadata": {},
     "output_type": "display_data"
    },
    {
     "data": {
      "text/html": [
       "<pre style=\"white-space:pre;overflow-x:auto;line-height:normal;font-family:Menlo,'DejaVu Sans Mono',consolas,'Courier New',monospace\">torch.Size([224, 224])\n",
       "</pre>\n"
      ],
      "text/plain": [
       "torch.Size([224, 224])\n"
      ]
     },
     "metadata": {},
     "output_type": "display_data"
    },
    {
     "data": {
      "text/html": [
       "<pre style=\"white-space:pre;overflow-x:auto;line-height:normal;font-family:Menlo,'DejaVu Sans Mono',consolas,'Courier New',monospace\">tensor(11.)\n",
       "</pre>\n"
      ],
      "text/plain": [
       "tensor(11.)\n"
      ]
     },
     "metadata": {},
     "output_type": "display_data"
    },
    {
     "data": {
      "text/html": [
       "<pre style=\"white-space:pre;overflow-x:auto;line-height:normal;font-family:Menlo,'DejaVu Sans Mono',consolas,'Courier New',monospace\">sentinel_stack_S2A_MSIL2A_20200912T100031_N0500_R122_T34VEH_20230311T210416_embedding.parquet\n",
       "</pre>\n"
      ],
      "text/plain": [
       "sentinel_stack_S2A_MSIL2A_20200912T100031_N0500_R122_T34VEH_20230311T210416_embedding.parquet\n"
      ]
     },
     "metadata": {},
     "output_type": "display_data"
    },
    {
     "data": {
      "text/html": [
       "<pre style=\"white-space:pre;overflow-x:auto;line-height:normal;font-family:Menlo,'DejaVu Sans Mono',consolas,'Courier New',monospace\">[EmbeddingRowDataset] GET 2258\n",
       "</pre>\n"
      ],
      "text/plain": [
       "[EmbeddingRowDataset] GET 2258\n"
      ]
     },
     "metadata": {},
     "output_type": "display_data"
    },
    {
     "data": {
      "text/html": [
       "<pre style=\"white-space:pre;overflow-x:auto;line-height:normal;font-family:Menlo,'DejaVu Sans Mono',consolas,'Courier New',monospace\">  -&gt; file 0, row group 0, in_rg 2258\n",
       "</pre>\n"
      ],
      "text/plain": [
       "  -> file 0, row group 0, in_rg 2258\n"
      ]
     },
     "metadata": {},
     "output_type": "display_data"
    },
    {
     "data": {
      "text/html": [
       "<pre style=\"white-space:pre;overflow-x:auto;line-height:normal;font-family:Menlo,'DejaVu Sans Mono',consolas,'Courier New',monospace\">    embedding_layer_2: torch.Size([196, 768]) dtype=torch.float32\n",
       "</pre>\n"
      ],
      "text/plain": [
       "    embedding_layer_2: torch.Size([196, 768]) dtype=torch.float32\n"
      ]
     },
     "metadata": {},
     "output_type": "display_data"
    },
    {
     "data": {
      "text/html": [
       "<pre style=\"white-space:pre;overflow-x:auto;line-height:normal;font-family:Menlo,'DejaVu Sans Mono',consolas,'Courier New',monospace\">    embedding_layer_5: torch.Size([196, 768]) dtype=torch.float32\n",
       "</pre>\n"
      ],
      "text/plain": [
       "    embedding_layer_5: torch.Size([196, 768]) dtype=torch.float32\n"
      ]
     },
     "metadata": {},
     "output_type": "display_data"
    },
    {
     "data": {
      "text/html": [
       "<pre style=\"white-space:pre;overflow-x:auto;line-height:normal;font-family:Menlo,'DejaVu Sans Mono',consolas,'Courier New',monospace\">    embedding_layer_8: torch.Size([196, 768]) dtype=torch.float32\n",
       "</pre>\n"
      ],
      "text/plain": [
       "    embedding_layer_8: torch.Size([196, 768]) dtype=torch.float32\n"
      ]
     },
     "metadata": {},
     "output_type": "display_data"
    },
    {
     "data": {
      "text/html": [
       "<pre style=\"white-space:pre;overflow-x:auto;line-height:normal;font-family:Menlo,'DejaVu Sans Mono',consolas,'Courier New',monospace\">    embedding_layer_11: torch.Size([196, 768]) dtype=torch.float32\n",
       "</pre>\n"
      ],
      "text/plain": [
       "    embedding_layer_11: torch.Size([196, 768]) dtype=torch.float32\n"
      ]
     },
     "metadata": {},
     "output_type": "display_data"
    },
    {
     "data": {
      "text/html": [
       "<pre style=\"white-space:pre;overflow-x:auto;line-height:normal;font-family:Menlo,'DejaVu Sans Mono',consolas,'Courier New',monospace\">4\n",
       "</pre>\n"
      ],
      "text/plain": [
       "4\n"
      ]
     },
     "metadata": {},
     "output_type": "display_data"
    },
    {
     "data": {
      "text/html": [
       "<pre style=\"white-space:pre;overflow-x:auto;line-height:normal;font-family:Menlo,'DejaVu Sans Mono',consolas,'Courier New',monospace\">torch.Size([224, 224])\n",
       "</pre>\n"
      ],
      "text/plain": [
       "torch.Size([224, 224])\n"
      ]
     },
     "metadata": {},
     "output_type": "display_data"
    },
    {
     "data": {
      "text/html": [
       "<pre style=\"white-space:pre;overflow-x:auto;line-height:normal;font-family:Menlo,'DejaVu Sans Mono',consolas,'Courier New',monospace\">tensor(12.)\n",
       "</pre>\n"
      ],
      "text/plain": [
       "tensor(12.)\n"
      ]
     },
     "metadata": {},
     "output_type": "display_data"
    },
    {
     "data": {
      "text/html": [
       "<pre style=\"white-space:pre;overflow-x:auto;line-height:normal;font-family:Menlo,'DejaVu Sans Mono',consolas,'Courier New',monospace\">sentinel_stack_S2A_MSIL2A_20200912T100031_N0500_R122_T34VEH_20230311T210416_embedding.parquet\n",
       "</pre>\n"
      ],
      "text/plain": [
       "sentinel_stack_S2A_MSIL2A_20200912T100031_N0500_R122_T34VEH_20230311T210416_embedding.parquet\n"
      ]
     },
     "metadata": {},
     "output_type": "display_data"
    },
    {
     "data": {
      "text/html": [
       "<pre style=\"white-space:pre;overflow-x:auto;line-height:normal;font-family:Menlo,'DejaVu Sans Mono',consolas,'Courier New',monospace\">[EmbeddingRowDataset] GET 143\n",
       "</pre>\n"
      ],
      "text/plain": [
       "[EmbeddingRowDataset] GET 143\n"
      ]
     },
     "metadata": {},
     "output_type": "display_data"
    },
    {
     "data": {
      "text/html": [
       "<pre style=\"white-space:pre;overflow-x:auto;line-height:normal;font-family:Menlo,'DejaVu Sans Mono',consolas,'Courier New',monospace\">  -&gt; file 0, row group 0, in_rg 143\n",
       "</pre>\n"
      ],
      "text/plain": [
       "  -> file 0, row group 0, in_rg 143\n"
      ]
     },
     "metadata": {},
     "output_type": "display_data"
    },
    {
     "data": {
      "text/html": [
       "<pre style=\"white-space:pre;overflow-x:auto;line-height:normal;font-family:Menlo,'DejaVu Sans Mono',consolas,'Courier New',monospace\">    embedding_layer_2: torch.Size([196, 768]) dtype=torch.float32\n",
       "</pre>\n"
      ],
      "text/plain": [
       "    embedding_layer_2: torch.Size([196, 768]) dtype=torch.float32\n"
      ]
     },
     "metadata": {},
     "output_type": "display_data"
    },
    {
     "data": {
      "text/html": [
       "<pre style=\"white-space:pre;overflow-x:auto;line-height:normal;font-family:Menlo,'DejaVu Sans Mono',consolas,'Courier New',monospace\">    embedding_layer_5: torch.Size([196, 768]) dtype=torch.float32\n",
       "</pre>\n"
      ],
      "text/plain": [
       "    embedding_layer_5: torch.Size([196, 768]) dtype=torch.float32\n"
      ]
     },
     "metadata": {},
     "output_type": "display_data"
    },
    {
     "data": {
      "text/html": [
       "<pre style=\"white-space:pre;overflow-x:auto;line-height:normal;font-family:Menlo,'DejaVu Sans Mono',consolas,'Courier New',monospace\">    embedding_layer_8: torch.Size([196, 768]) dtype=torch.float32\n",
       "</pre>\n"
      ],
      "text/plain": [
       "    embedding_layer_8: torch.Size([196, 768]) dtype=torch.float32\n"
      ]
     },
     "metadata": {},
     "output_type": "display_data"
    },
    {
     "data": {
      "text/html": [
       "<pre style=\"white-space:pre;overflow-x:auto;line-height:normal;font-family:Menlo,'DejaVu Sans Mono',consolas,'Courier New',monospace\">    embedding_layer_11: torch.Size([196, 768]) dtype=torch.float32\n",
       "</pre>\n"
      ],
      "text/plain": [
       "    embedding_layer_11: torch.Size([196, 768]) dtype=torch.float32\n"
      ]
     },
     "metadata": {},
     "output_type": "display_data"
    },
    {
     "data": {
      "text/html": [
       "<pre style=\"white-space:pre;overflow-x:auto;line-height:normal;font-family:Menlo,'DejaVu Sans Mono',consolas,'Courier New',monospace\">4\n",
       "</pre>\n"
      ],
      "text/plain": [
       "4\n"
      ]
     },
     "metadata": {},
     "output_type": "display_data"
    },
    {
     "data": {
      "text/html": [
       "<pre style=\"white-space:pre;overflow-x:auto;line-height:normal;font-family:Menlo,'DejaVu Sans Mono',consolas,'Courier New',monospace\">torch.Size([224, 224])\n",
       "</pre>\n"
      ],
      "text/plain": [
       "torch.Size([224, 224])\n"
      ]
     },
     "metadata": {},
     "output_type": "display_data"
    },
    {
     "data": {
      "text/html": [
       "<pre style=\"white-space:pre;overflow-x:auto;line-height:normal;font-family:Menlo,'DejaVu Sans Mono',consolas,'Courier New',monospace\">tensor(11.)\n",
       "</pre>\n"
      ],
      "text/plain": [
       "tensor(11.)\n"
      ]
     },
     "metadata": {},
     "output_type": "display_data"
    },
    {
     "data": {
      "text/html": [
       "<pre style=\"white-space:pre;overflow-x:auto;line-height:normal;font-family:Menlo,'DejaVu Sans Mono',consolas,'Courier New',monospace\">sentinel_stack_S2A_MSIL2A_20200912T100031_N0500_R122_T34VEH_20230311T210416_embedding.parquet\n",
       "</pre>\n"
      ],
      "text/plain": [
       "sentinel_stack_S2A_MSIL2A_20200912T100031_N0500_R122_T34VEH_20230311T210416_embedding.parquet\n"
      ]
     },
     "metadata": {},
     "output_type": "display_data"
    },
    {
     "data": {
      "text/html": [
       "<pre style=\"white-space:pre;overflow-x:auto;line-height:normal;font-family:Menlo,'DejaVu Sans Mono',consolas,'Courier New',monospace\">[EmbeddingRowDataset] GET 1760\n",
       "</pre>\n"
      ],
      "text/plain": [
       "[EmbeddingRowDataset] GET 1760\n"
      ]
     },
     "metadata": {},
     "output_type": "display_data"
    },
    {
     "data": {
      "text/html": [
       "<pre style=\"white-space:pre;overflow-x:auto;line-height:normal;font-family:Menlo,'DejaVu Sans Mono',consolas,'Courier New',monospace\">  -&gt; file 0, row group 0, in_rg 1760\n",
       "</pre>\n"
      ],
      "text/plain": [
       "  -> file 0, row group 0, in_rg 1760\n"
      ]
     },
     "metadata": {},
     "output_type": "display_data"
    },
    {
     "data": {
      "text/html": [
       "<pre style=\"white-space:pre;overflow-x:auto;line-height:normal;font-family:Menlo,'DejaVu Sans Mono',consolas,'Courier New',monospace\">    embedding_layer_2: torch.Size([196, 768]) dtype=torch.float32\n",
       "</pre>\n"
      ],
      "text/plain": [
       "    embedding_layer_2: torch.Size([196, 768]) dtype=torch.float32\n"
      ]
     },
     "metadata": {},
     "output_type": "display_data"
    },
    {
     "data": {
      "text/html": [
       "<pre style=\"white-space:pre;overflow-x:auto;line-height:normal;font-family:Menlo,'DejaVu Sans Mono',consolas,'Courier New',monospace\">    embedding_layer_5: torch.Size([196, 768]) dtype=torch.float32\n",
       "</pre>\n"
      ],
      "text/plain": [
       "    embedding_layer_5: torch.Size([196, 768]) dtype=torch.float32\n"
      ]
     },
     "metadata": {},
     "output_type": "display_data"
    },
    {
     "data": {
      "text/html": [
       "<pre style=\"white-space:pre;overflow-x:auto;line-height:normal;font-family:Menlo,'DejaVu Sans Mono',consolas,'Courier New',monospace\">    embedding_layer_8: torch.Size([196, 768]) dtype=torch.float32\n",
       "</pre>\n"
      ],
      "text/plain": [
       "    embedding_layer_8: torch.Size([196, 768]) dtype=torch.float32\n"
      ]
     },
     "metadata": {},
     "output_type": "display_data"
    },
    {
     "data": {
      "text/html": [
       "<pre style=\"white-space:pre;overflow-x:auto;line-height:normal;font-family:Menlo,'DejaVu Sans Mono',consolas,'Courier New',monospace\">    embedding_layer_11: torch.Size([196, 768]) dtype=torch.float32\n",
       "</pre>\n"
      ],
      "text/plain": [
       "    embedding_layer_11: torch.Size([196, 768]) dtype=torch.float32\n"
      ]
     },
     "metadata": {},
     "output_type": "display_data"
    },
    {
     "data": {
      "text/html": [
       "<pre style=\"white-space:pre;overflow-x:auto;line-height:normal;font-family:Menlo,'DejaVu Sans Mono',consolas,'Courier New',monospace\">4\n",
       "</pre>\n"
      ],
      "text/plain": [
       "4\n"
      ]
     },
     "metadata": {},
     "output_type": "display_data"
    },
    {
     "data": {
      "text/html": [
       "<pre style=\"white-space:pre;overflow-x:auto;line-height:normal;font-family:Menlo,'DejaVu Sans Mono',consolas,'Courier New',monospace\">torch.Size([224, 224])\n",
       "</pre>\n"
      ],
      "text/plain": [
       "torch.Size([224, 224])\n"
      ]
     },
     "metadata": {},
     "output_type": "display_data"
    },
    {
     "data": {
      "text/html": [
       "<pre style=\"white-space:pre;overflow-x:auto;line-height:normal;font-family:Menlo,'DejaVu Sans Mono',consolas,'Courier New',monospace\">tensor(11.)\n",
       "</pre>\n"
      ],
      "text/plain": [
       "tensor(11.)\n"
      ]
     },
     "metadata": {},
     "output_type": "display_data"
    },
    {
     "data": {
      "text/html": [
       "<pre style=\"white-space:pre;overflow-x:auto;line-height:normal;font-family:Menlo,'DejaVu Sans Mono',consolas,'Courier New',monospace\">sentinel_stack_S2A_MSIL2A_20200912T100031_N0500_R122_T34VEH_20230311T210416_embedding.parquet\n",
       "</pre>\n"
      ],
      "text/plain": [
       "sentinel_stack_S2A_MSIL2A_20200912T100031_N0500_R122_T34VEH_20230311T210416_embedding.parquet\n"
      ]
     },
     "metadata": {},
     "output_type": "display_data"
    },
    {
     "data": {
      "text/html": [
       "<pre style=\"white-space:pre;overflow-x:auto;line-height:normal;font-family:Menlo,'DejaVu Sans Mono',consolas,'Courier New',monospace\">[EmbeddingRowDataset] GET 401\n",
       "</pre>\n"
      ],
      "text/plain": [
       "[EmbeddingRowDataset] GET 401\n"
      ]
     },
     "metadata": {},
     "output_type": "display_data"
    },
    {
     "data": {
      "text/html": [
       "<pre style=\"white-space:pre;overflow-x:auto;line-height:normal;font-family:Menlo,'DejaVu Sans Mono',consolas,'Courier New',monospace\">  -&gt; file 0, row group 0, in_rg 401\n",
       "</pre>\n"
      ],
      "text/plain": [
       "  -> file 0, row group 0, in_rg 401\n"
      ]
     },
     "metadata": {},
     "output_type": "display_data"
    },
    {
     "data": {
      "text/html": [
       "<pre style=\"white-space:pre;overflow-x:auto;line-height:normal;font-family:Menlo,'DejaVu Sans Mono',consolas,'Courier New',monospace\">    embedding_layer_2: torch.Size([196, 768]) dtype=torch.float32\n",
       "</pre>\n"
      ],
      "text/plain": [
       "    embedding_layer_2: torch.Size([196, 768]) dtype=torch.float32\n"
      ]
     },
     "metadata": {},
     "output_type": "display_data"
    },
    {
     "data": {
      "text/html": [
       "<pre style=\"white-space:pre;overflow-x:auto;line-height:normal;font-family:Menlo,'DejaVu Sans Mono',consolas,'Courier New',monospace\">    embedding_layer_5: torch.Size([196, 768]) dtype=torch.float32\n",
       "</pre>\n"
      ],
      "text/plain": [
       "    embedding_layer_5: torch.Size([196, 768]) dtype=torch.float32\n"
      ]
     },
     "metadata": {},
     "output_type": "display_data"
    },
    {
     "data": {
      "text/html": [
       "<pre style=\"white-space:pre;overflow-x:auto;line-height:normal;font-family:Menlo,'DejaVu Sans Mono',consolas,'Courier New',monospace\">    embedding_layer_8: torch.Size([196, 768]) dtype=torch.float32\n",
       "</pre>\n"
      ],
      "text/plain": [
       "    embedding_layer_8: torch.Size([196, 768]) dtype=torch.float32\n"
      ]
     },
     "metadata": {},
     "output_type": "display_data"
    },
    {
     "data": {
      "text/html": [
       "<pre style=\"white-space:pre;overflow-x:auto;line-height:normal;font-family:Menlo,'DejaVu Sans Mono',consolas,'Courier New',monospace\">    embedding_layer_11: torch.Size([196, 768]) dtype=torch.float32\n",
       "</pre>\n"
      ],
      "text/plain": [
       "    embedding_layer_11: torch.Size([196, 768]) dtype=torch.float32\n"
      ]
     },
     "metadata": {},
     "output_type": "display_data"
    },
    {
     "data": {
      "text/html": [
       "<pre style=\"white-space:pre;overflow-x:auto;line-height:normal;font-family:Menlo,'DejaVu Sans Mono',consolas,'Courier New',monospace\">4\n",
       "</pre>\n"
      ],
      "text/plain": [
       "4\n"
      ]
     },
     "metadata": {},
     "output_type": "display_data"
    },
    {
     "data": {
      "text/html": [
       "<pre style=\"white-space:pre;overflow-x:auto;line-height:normal;font-family:Menlo,'DejaVu Sans Mono',consolas,'Courier New',monospace\">torch.Size([224, 224])\n",
       "</pre>\n"
      ],
      "text/plain": [
       "torch.Size([224, 224])\n"
      ]
     },
     "metadata": {},
     "output_type": "display_data"
    },
    {
     "data": {
      "text/html": [
       "<pre style=\"white-space:pre;overflow-x:auto;line-height:normal;font-family:Menlo,'DejaVu Sans Mono',consolas,'Courier New',monospace\">tensor(12.)\n",
       "</pre>\n"
      ],
      "text/plain": [
       "tensor(12.)\n"
      ]
     },
     "metadata": {},
     "output_type": "display_data"
    },
    {
     "data": {
      "text/html": [
       "<pre style=\"white-space:pre;overflow-x:auto;line-height:normal;font-family:Menlo,'DejaVu Sans Mono',consolas,'Courier New',monospace\">sentinel_stack_S2A_MSIL2A_20200912T100031_N0500_R122_T34VEH_20230311T210416_embedding.parquet\n",
       "</pre>\n"
      ],
      "text/plain": [
       "sentinel_stack_S2A_MSIL2A_20200912T100031_N0500_R122_T34VEH_20230311T210416_embedding.parquet\n"
      ]
     },
     "metadata": {},
     "output_type": "display_data"
    },
    {
     "data": {
      "text/html": [
       "<pre style=\"white-space:pre;overflow-x:auto;line-height:normal;font-family:Menlo,'DejaVu Sans Mono',consolas,'Courier New',monospace\">14\n",
       "</pre>\n"
      ],
      "text/plain": [
       "14\n"
      ]
     },
     "metadata": {},
     "output_type": "display_data"
    },
    {
     "data": {
      "text/html": [
       "<pre style=\"white-space:pre;overflow-x:auto;line-height:normal;font-family:Menlo,'DejaVu Sans Mono',consolas,'Courier New',monospace\">tensor(12.)\n",
       "</pre>\n"
      ],
      "text/plain": [
       "tensor(12.)\n"
      ]
     },
     "metadata": {},
     "output_type": "display_data"
    },
    {
     "data": {
      "text/html": [
       "<pre style=\"white-space:pre;overflow-x:auto;line-height:normal;font-family:Menlo,'DejaVu Sans Mono',consolas,'Courier New',monospace\">tensor(True)\n",
       "</pre>\n"
      ],
      "text/plain": [
       "tensor(True)\n"
      ]
     },
     "metadata": {},
     "output_type": "display_data"
    },
    {
     "data": {
      "text/html": [
       "<pre style=\"white-space:pre;overflow-x:auto;line-height:normal;font-family:Menlo,'DejaVu Sans Mono',consolas,'Courier New',monospace\">tensor(0.)\n",
       "</pre>\n"
      ],
      "text/plain": [
       "tensor(0.)\n"
      ]
     },
     "metadata": {},
     "output_type": "display_data"
    },
    {
     "data": {
      "text/html": [
       "<pre style=\"white-space:pre;overflow-x:auto;line-height:normal;font-family:Menlo,'DejaVu Sans Mono',consolas,'Courier New',monospace\">tensor(True)\n",
       "</pre>\n"
      ],
      "text/plain": [
       "tensor(True)\n"
      ]
     },
     "metadata": {},
     "output_type": "display_data"
    },
    {
     "data": {
      "text/html": [
       "<pre style=\"white-space:pre;overflow-x:auto;line-height:normal;font-family:Menlo,'DejaVu Sans Mono',consolas,'Courier New',monospace\">[EmbeddingRowDataset] GET 91\n",
       "</pre>\n"
      ],
      "text/plain": [
       "[EmbeddingRowDataset] GET 91\n"
      ]
     },
     "metadata": {},
     "output_type": "display_data"
    },
    {
     "data": {
      "text/html": [
       "<pre style=\"white-space:pre;overflow-x:auto;line-height:normal;font-family:Menlo,'DejaVu Sans Mono',consolas,'Courier New',monospace\">  -&gt; file 0, row group 0, in_rg 91\n",
       "</pre>\n"
      ],
      "text/plain": [
       "  -> file 0, row group 0, in_rg 91\n"
      ]
     },
     "metadata": {},
     "output_type": "display_data"
    },
    {
     "data": {
      "text/html": [
       "<pre style=\"white-space:pre;overflow-x:auto;line-height:normal;font-family:Menlo,'DejaVu Sans Mono',consolas,'Courier New',monospace\">    embedding_layer_2: torch.Size([196, 768]) dtype=torch.float32\n",
       "</pre>\n"
      ],
      "text/plain": [
       "    embedding_layer_2: torch.Size([196, 768]) dtype=torch.float32\n"
      ]
     },
     "metadata": {},
     "output_type": "display_data"
    },
    {
     "data": {
      "text/html": [
       "<pre style=\"white-space:pre;overflow-x:auto;line-height:normal;font-family:Menlo,'DejaVu Sans Mono',consolas,'Courier New',monospace\">    embedding_layer_5: torch.Size([196, 768]) dtype=torch.float32\n",
       "</pre>\n"
      ],
      "text/plain": [
       "    embedding_layer_5: torch.Size([196, 768]) dtype=torch.float32\n"
      ]
     },
     "metadata": {},
     "output_type": "display_data"
    },
    {
     "data": {
      "text/html": [
       "<pre style=\"white-space:pre;overflow-x:auto;line-height:normal;font-family:Menlo,'DejaVu Sans Mono',consolas,'Courier New',monospace\">    embedding_layer_8: torch.Size([196, 768]) dtype=torch.float32\n",
       "</pre>\n"
      ],
      "text/plain": [
       "    embedding_layer_8: torch.Size([196, 768]) dtype=torch.float32\n"
      ]
     },
     "metadata": {},
     "output_type": "display_data"
    },
    {
     "data": {
      "text/html": [
       "<pre style=\"white-space:pre;overflow-x:auto;line-height:normal;font-family:Menlo,'DejaVu Sans Mono',consolas,'Courier New',monospace\">    embedding_layer_11: torch.Size([196, 768]) dtype=torch.float32\n",
       "</pre>\n"
      ],
      "text/plain": [
       "    embedding_layer_11: torch.Size([196, 768]) dtype=torch.float32\n"
      ]
     },
     "metadata": {},
     "output_type": "display_data"
    },
    {
     "data": {
      "text/html": [
       "<pre style=\"white-space:pre;overflow-x:auto;line-height:normal;font-family:Menlo,'DejaVu Sans Mono',consolas,'Courier New',monospace\">4\n",
       "</pre>\n"
      ],
      "text/plain": [
       "4\n"
      ]
     },
     "metadata": {},
     "output_type": "display_data"
    },
    {
     "data": {
      "text/html": [
       "<pre style=\"white-space:pre;overflow-x:auto;line-height:normal;font-family:Menlo,'DejaVu Sans Mono',consolas,'Courier New',monospace\">torch.Size([224, 224])\n",
       "</pre>\n"
      ],
      "text/plain": [
       "torch.Size([224, 224])\n"
      ]
     },
     "metadata": {},
     "output_type": "display_data"
    },
    {
     "data": {
      "text/html": [
       "<pre style=\"white-space:pre;overflow-x:auto;line-height:normal;font-family:Menlo,'DejaVu Sans Mono',consolas,'Courier New',monospace\">tensor(12.)\n",
       "</pre>\n"
      ],
      "text/plain": [
       "tensor(12.)\n"
      ]
     },
     "metadata": {},
     "output_type": "display_data"
    },
    {
     "data": {
      "text/html": [
       "<pre style=\"white-space:pre;overflow-x:auto;line-height:normal;font-family:Menlo,'DejaVu Sans Mono',consolas,'Courier New',monospace\">sentinel_stack_S2A_MSIL2A_20200912T100031_N0500_R122_T34VEH_20230311T210416_embedding.parquet\n",
       "</pre>\n"
      ],
      "text/plain": [
       "sentinel_stack_S2A_MSIL2A_20200912T100031_N0500_R122_T34VEH_20230311T210416_embedding.parquet\n"
      ]
     },
     "metadata": {},
     "output_type": "display_data"
    },
    {
     "data": {
      "text/html": [
       "<pre style=\"white-space:pre;overflow-x:auto;line-height:normal;font-family:Menlo,'DejaVu Sans Mono',consolas,'Courier New',monospace\">[EmbeddingRowDataset] GET 210\n",
       "</pre>\n"
      ],
      "text/plain": [
       "[EmbeddingRowDataset] GET 210\n"
      ]
     },
     "metadata": {},
     "output_type": "display_data"
    },
    {
     "data": {
      "text/html": [
       "<pre style=\"white-space:pre;overflow-x:auto;line-height:normal;font-family:Menlo,'DejaVu Sans Mono',consolas,'Courier New',monospace\">  -&gt; file 0, row group 0, in_rg 210\n",
       "</pre>\n"
      ],
      "text/plain": [
       "  -> file 0, row group 0, in_rg 210\n"
      ]
     },
     "metadata": {},
     "output_type": "display_data"
    },
    {
     "data": {
      "text/html": [
       "<pre style=\"white-space:pre;overflow-x:auto;line-height:normal;font-family:Menlo,'DejaVu Sans Mono',consolas,'Courier New',monospace\">    embedding_layer_2: torch.Size([196, 768]) dtype=torch.float32\n",
       "</pre>\n"
      ],
      "text/plain": [
       "    embedding_layer_2: torch.Size([196, 768]) dtype=torch.float32\n"
      ]
     },
     "metadata": {},
     "output_type": "display_data"
    },
    {
     "data": {
      "text/html": [
       "<pre style=\"white-space:pre;overflow-x:auto;line-height:normal;font-family:Menlo,'DejaVu Sans Mono',consolas,'Courier New',monospace\">    embedding_layer_5: torch.Size([196, 768]) dtype=torch.float32\n",
       "</pre>\n"
      ],
      "text/plain": [
       "    embedding_layer_5: torch.Size([196, 768]) dtype=torch.float32\n"
      ]
     },
     "metadata": {},
     "output_type": "display_data"
    },
    {
     "data": {
      "text/html": [
       "<pre style=\"white-space:pre;overflow-x:auto;line-height:normal;font-family:Menlo,'DejaVu Sans Mono',consolas,'Courier New',monospace\">    embedding_layer_8: torch.Size([196, 768]) dtype=torch.float32\n",
       "</pre>\n"
      ],
      "text/plain": [
       "    embedding_layer_8: torch.Size([196, 768]) dtype=torch.float32\n"
      ]
     },
     "metadata": {},
     "output_type": "display_data"
    },
    {
     "data": {
      "text/html": [
       "<pre style=\"white-space:pre;overflow-x:auto;line-height:normal;font-family:Menlo,'DejaVu Sans Mono',consolas,'Courier New',monospace\">    embedding_layer_11: torch.Size([196, 768]) dtype=torch.float32\n",
       "</pre>\n"
      ],
      "text/plain": [
       "    embedding_layer_11: torch.Size([196, 768]) dtype=torch.float32\n"
      ]
     },
     "metadata": {},
     "output_type": "display_data"
    },
    {
     "data": {
      "text/html": [
       "<pre style=\"white-space:pre;overflow-x:auto;line-height:normal;font-family:Menlo,'DejaVu Sans Mono',consolas,'Courier New',monospace\">4\n",
       "</pre>\n"
      ],
      "text/plain": [
       "4\n"
      ]
     },
     "metadata": {},
     "output_type": "display_data"
    },
    {
     "data": {
      "text/html": [
       "<pre style=\"white-space:pre;overflow-x:auto;line-height:normal;font-family:Menlo,'DejaVu Sans Mono',consolas,'Courier New',monospace\">torch.Size([224, 224])\n",
       "</pre>\n"
      ],
      "text/plain": [
       "torch.Size([224, 224])\n"
      ]
     },
     "metadata": {},
     "output_type": "display_data"
    },
    {
     "data": {
      "text/html": [
       "<pre style=\"white-space:pre;overflow-x:auto;line-height:normal;font-family:Menlo,'DejaVu Sans Mono',consolas,'Courier New',monospace\">tensor(12.)\n",
       "</pre>\n"
      ],
      "text/plain": [
       "tensor(12.)\n"
      ]
     },
     "metadata": {},
     "output_type": "display_data"
    },
    {
     "data": {
      "text/html": [
       "<pre style=\"white-space:pre;overflow-x:auto;line-height:normal;font-family:Menlo,'DejaVu Sans Mono',consolas,'Courier New',monospace\">sentinel_stack_S2A_MSIL2A_20200912T100031_N0500_R122_T34VEH_20230311T210416_embedding.parquet\n",
       "</pre>\n"
      ],
      "text/plain": [
       "sentinel_stack_S2A_MSIL2A_20200912T100031_N0500_R122_T34VEH_20230311T210416_embedding.parquet\n"
      ]
     },
     "metadata": {},
     "output_type": "display_data"
    },
    {
     "data": {
      "text/html": [
       "<pre style=\"white-space:pre;overflow-x:auto;line-height:normal;font-family:Menlo,'DejaVu Sans Mono',consolas,'Courier New',monospace\">[EmbeddingRowDataset] GET 1109\n",
       "</pre>\n"
      ],
      "text/plain": [
       "[EmbeddingRowDataset] GET 1109\n"
      ]
     },
     "metadata": {},
     "output_type": "display_data"
    },
    {
     "data": {
      "text/html": [
       "<pre style=\"white-space:pre;overflow-x:auto;line-height:normal;font-family:Menlo,'DejaVu Sans Mono',consolas,'Courier New',monospace\">  -&gt; file 0, row group 0, in_rg 1109\n",
       "</pre>\n"
      ],
      "text/plain": [
       "  -> file 0, row group 0, in_rg 1109\n"
      ]
     },
     "metadata": {},
     "output_type": "display_data"
    },
    {
     "data": {
      "text/html": [
       "<pre style=\"white-space:pre;overflow-x:auto;line-height:normal;font-family:Menlo,'DejaVu Sans Mono',consolas,'Courier New',monospace\">    embedding_layer_2: torch.Size([196, 768]) dtype=torch.float32\n",
       "</pre>\n"
      ],
      "text/plain": [
       "    embedding_layer_2: torch.Size([196, 768]) dtype=torch.float32\n"
      ]
     },
     "metadata": {},
     "output_type": "display_data"
    },
    {
     "data": {
      "text/html": [
       "<pre style=\"white-space:pre;overflow-x:auto;line-height:normal;font-family:Menlo,'DejaVu Sans Mono',consolas,'Courier New',monospace\">    embedding_layer_5: torch.Size([196, 768]) dtype=torch.float32\n",
       "</pre>\n"
      ],
      "text/plain": [
       "    embedding_layer_5: torch.Size([196, 768]) dtype=torch.float32\n"
      ]
     },
     "metadata": {},
     "output_type": "display_data"
    },
    {
     "data": {
      "text/html": [
       "<pre style=\"white-space:pre;overflow-x:auto;line-height:normal;font-family:Menlo,'DejaVu Sans Mono',consolas,'Courier New',monospace\">    embedding_layer_8: torch.Size([196, 768]) dtype=torch.float32\n",
       "</pre>\n"
      ],
      "text/plain": [
       "    embedding_layer_8: torch.Size([196, 768]) dtype=torch.float32\n"
      ]
     },
     "metadata": {},
     "output_type": "display_data"
    },
    {
     "data": {
      "text/html": [
       "<pre style=\"white-space:pre;overflow-x:auto;line-height:normal;font-family:Menlo,'DejaVu Sans Mono',consolas,'Courier New',monospace\">    embedding_layer_11: torch.Size([196, 768]) dtype=torch.float32\n",
       "</pre>\n"
      ],
      "text/plain": [
       "    embedding_layer_11: torch.Size([196, 768]) dtype=torch.float32\n"
      ]
     },
     "metadata": {},
     "output_type": "display_data"
    },
    {
     "data": {
      "text/html": [
       "<pre style=\"white-space:pre;overflow-x:auto;line-height:normal;font-family:Menlo,'DejaVu Sans Mono',consolas,'Courier New',monospace\">4\n",
       "</pre>\n"
      ],
      "text/plain": [
       "4\n"
      ]
     },
     "metadata": {},
     "output_type": "display_data"
    },
    {
     "data": {
      "text/html": [
       "<pre style=\"white-space:pre;overflow-x:auto;line-height:normal;font-family:Menlo,'DejaVu Sans Mono',consolas,'Courier New',monospace\">torch.Size([224, 224])\n",
       "</pre>\n"
      ],
      "text/plain": [
       "torch.Size([224, 224])\n"
      ]
     },
     "metadata": {},
     "output_type": "display_data"
    },
    {
     "data": {
      "text/html": [
       "<pre style=\"white-space:pre;overflow-x:auto;line-height:normal;font-family:Menlo,'DejaVu Sans Mono',consolas,'Courier New',monospace\">tensor(12.)\n",
       "</pre>\n"
      ],
      "text/plain": [
       "tensor(12.)\n"
      ]
     },
     "metadata": {},
     "output_type": "display_data"
    },
    {
     "data": {
      "text/html": [
       "<pre style=\"white-space:pre;overflow-x:auto;line-height:normal;font-family:Menlo,'DejaVu Sans Mono',consolas,'Courier New',monospace\">sentinel_stack_S2A_MSIL2A_20200912T100031_N0500_R122_T34VEH_20230311T210416_embedding.parquet\n",
       "</pre>\n"
      ],
      "text/plain": [
       "sentinel_stack_S2A_MSIL2A_20200912T100031_N0500_R122_T34VEH_20230311T210416_embedding.parquet\n"
      ]
     },
     "metadata": {},
     "output_type": "display_data"
    },
    {
     "data": {
      "text/html": [
       "<pre style=\"white-space:pre;overflow-x:auto;line-height:normal;font-family:Menlo,'DejaVu Sans Mono',consolas,'Courier New',monospace\">[EmbeddingRowDataset] GET 1302\n",
       "</pre>\n"
      ],
      "text/plain": [
       "[EmbeddingRowDataset] GET 1302\n"
      ]
     },
     "metadata": {},
     "output_type": "display_data"
    },
    {
     "data": {
      "text/html": [
       "<pre style=\"white-space:pre;overflow-x:auto;line-height:normal;font-family:Menlo,'DejaVu Sans Mono',consolas,'Courier New',monospace\">  -&gt; file 0, row group 0, in_rg 1302\n",
       "</pre>\n"
      ],
      "text/plain": [
       "  -> file 0, row group 0, in_rg 1302\n"
      ]
     },
     "metadata": {},
     "output_type": "display_data"
    },
    {
     "data": {
      "text/html": [
       "<pre style=\"white-space:pre;overflow-x:auto;line-height:normal;font-family:Menlo,'DejaVu Sans Mono',consolas,'Courier New',monospace\">    embedding_layer_2: torch.Size([196, 768]) dtype=torch.float32\n",
       "</pre>\n"
      ],
      "text/plain": [
       "    embedding_layer_2: torch.Size([196, 768]) dtype=torch.float32\n"
      ]
     },
     "metadata": {},
     "output_type": "display_data"
    },
    {
     "data": {
      "text/html": [
       "<pre style=\"white-space:pre;overflow-x:auto;line-height:normal;font-family:Menlo,'DejaVu Sans Mono',consolas,'Courier New',monospace\">    embedding_layer_5: torch.Size([196, 768]) dtype=torch.float32\n",
       "</pre>\n"
      ],
      "text/plain": [
       "    embedding_layer_5: torch.Size([196, 768]) dtype=torch.float32\n"
      ]
     },
     "metadata": {},
     "output_type": "display_data"
    },
    {
     "data": {
      "text/html": [
       "<pre style=\"white-space:pre;overflow-x:auto;line-height:normal;font-family:Menlo,'DejaVu Sans Mono',consolas,'Courier New',monospace\">    embedding_layer_8: torch.Size([196, 768]) dtype=torch.float32\n",
       "</pre>\n"
      ],
      "text/plain": [
       "    embedding_layer_8: torch.Size([196, 768]) dtype=torch.float32\n"
      ]
     },
     "metadata": {},
     "output_type": "display_data"
    },
    {
     "data": {
      "text/html": [
       "<pre style=\"white-space:pre;overflow-x:auto;line-height:normal;font-family:Menlo,'DejaVu Sans Mono',consolas,'Courier New',monospace\">    embedding_layer_11: torch.Size([196, 768]) dtype=torch.float32\n",
       "</pre>\n"
      ],
      "text/plain": [
       "    embedding_layer_11: torch.Size([196, 768]) dtype=torch.float32\n"
      ]
     },
     "metadata": {},
     "output_type": "display_data"
    },
    {
     "data": {
      "text/html": [
       "<pre style=\"white-space:pre;overflow-x:auto;line-height:normal;font-family:Menlo,'DejaVu Sans Mono',consolas,'Courier New',monospace\">4\n",
       "</pre>\n"
      ],
      "text/plain": [
       "4\n"
      ]
     },
     "metadata": {},
     "output_type": "display_data"
    },
    {
     "data": {
      "text/html": [
       "<pre style=\"white-space:pre;overflow-x:auto;line-height:normal;font-family:Menlo,'DejaVu Sans Mono',consolas,'Courier New',monospace\">torch.Size([224, 224])\n",
       "</pre>\n"
      ],
      "text/plain": [
       "torch.Size([224, 224])\n"
      ]
     },
     "metadata": {},
     "output_type": "display_data"
    },
    {
     "data": {
      "text/html": [
       "<pre style=\"white-space:pre;overflow-x:auto;line-height:normal;font-family:Menlo,'DejaVu Sans Mono',consolas,'Courier New',monospace\">tensor(12.)\n",
       "</pre>\n"
      ],
      "text/plain": [
       "tensor(12.)\n"
      ]
     },
     "metadata": {},
     "output_type": "display_data"
    },
    {
     "data": {
      "text/html": [
       "<pre style=\"white-space:pre;overflow-x:auto;line-height:normal;font-family:Menlo,'DejaVu Sans Mono',consolas,'Courier New',monospace\">sentinel_stack_S2A_MSIL2A_20200912T100031_N0500_R122_T34VEH_20230311T210416_embedding.parquet\n",
       "</pre>\n"
      ],
      "text/plain": [
       "sentinel_stack_S2A_MSIL2A_20200912T100031_N0500_R122_T34VEH_20230311T210416_embedding.parquet\n"
      ]
     },
     "metadata": {},
     "output_type": "display_data"
    },
    {
     "data": {
      "text/html": [
       "<pre style=\"white-space:pre;overflow-x:auto;line-height:normal;font-family:Menlo,'DejaVu Sans Mono',consolas,'Courier New',monospace\">[EmbeddingRowDataset] GET 1577\n",
       "</pre>\n"
      ],
      "text/plain": [
       "[EmbeddingRowDataset] GET 1577\n"
      ]
     },
     "metadata": {},
     "output_type": "display_data"
    },
    {
     "data": {
      "text/html": [
       "<pre style=\"white-space:pre;overflow-x:auto;line-height:normal;font-family:Menlo,'DejaVu Sans Mono',consolas,'Courier New',monospace\">  -&gt; file 0, row group 0, in_rg 1577\n",
       "</pre>\n"
      ],
      "text/plain": [
       "  -> file 0, row group 0, in_rg 1577\n"
      ]
     },
     "metadata": {},
     "output_type": "display_data"
    },
    {
     "data": {
      "text/html": [
       "<pre style=\"white-space:pre;overflow-x:auto;line-height:normal;font-family:Menlo,'DejaVu Sans Mono',consolas,'Courier New',monospace\">    embedding_layer_2: torch.Size([196, 768]) dtype=torch.float32\n",
       "</pre>\n"
      ],
      "text/plain": [
       "    embedding_layer_2: torch.Size([196, 768]) dtype=torch.float32\n"
      ]
     },
     "metadata": {},
     "output_type": "display_data"
    },
    {
     "data": {
      "text/html": [
       "<pre style=\"white-space:pre;overflow-x:auto;line-height:normal;font-family:Menlo,'DejaVu Sans Mono',consolas,'Courier New',monospace\">    embedding_layer_5: torch.Size([196, 768]) dtype=torch.float32\n",
       "</pre>\n"
      ],
      "text/plain": [
       "    embedding_layer_5: torch.Size([196, 768]) dtype=torch.float32\n"
      ]
     },
     "metadata": {},
     "output_type": "display_data"
    },
    {
     "data": {
      "text/html": [
       "<pre style=\"white-space:pre;overflow-x:auto;line-height:normal;font-family:Menlo,'DejaVu Sans Mono',consolas,'Courier New',monospace\">    embedding_layer_8: torch.Size([196, 768]) dtype=torch.float32\n",
       "</pre>\n"
      ],
      "text/plain": [
       "    embedding_layer_8: torch.Size([196, 768]) dtype=torch.float32\n"
      ]
     },
     "metadata": {},
     "output_type": "display_data"
    },
    {
     "data": {
      "text/html": [
       "<pre style=\"white-space:pre;overflow-x:auto;line-height:normal;font-family:Menlo,'DejaVu Sans Mono',consolas,'Courier New',monospace\">    embedding_layer_11: torch.Size([196, 768]) dtype=torch.float32\n",
       "</pre>\n"
      ],
      "text/plain": [
       "    embedding_layer_11: torch.Size([196, 768]) dtype=torch.float32\n"
      ]
     },
     "metadata": {},
     "output_type": "display_data"
    },
    {
     "data": {
      "text/html": [
       "<pre style=\"white-space:pre;overflow-x:auto;line-height:normal;font-family:Menlo,'DejaVu Sans Mono',consolas,'Courier New',monospace\">4\n",
       "</pre>\n"
      ],
      "text/plain": [
       "4\n"
      ]
     },
     "metadata": {},
     "output_type": "display_data"
    },
    {
     "data": {
      "text/html": [
       "<pre style=\"white-space:pre;overflow-x:auto;line-height:normal;font-family:Menlo,'DejaVu Sans Mono',consolas,'Courier New',monospace\">torch.Size([224, 224])\n",
       "</pre>\n"
      ],
      "text/plain": [
       "torch.Size([224, 224])\n"
      ]
     },
     "metadata": {},
     "output_type": "display_data"
    },
    {
     "data": {
      "text/html": [
       "<pre style=\"white-space:pre;overflow-x:auto;line-height:normal;font-family:Menlo,'DejaVu Sans Mono',consolas,'Courier New',monospace\">tensor(12.)\n",
       "</pre>\n"
      ],
      "text/plain": [
       "tensor(12.)\n"
      ]
     },
     "metadata": {},
     "output_type": "display_data"
    },
    {
     "data": {
      "text/html": [
       "<pre style=\"white-space:pre;overflow-x:auto;line-height:normal;font-family:Menlo,'DejaVu Sans Mono',consolas,'Courier New',monospace\">sentinel_stack_S2A_MSIL2A_20200912T100031_N0500_R122_T34VEH_20230311T210416_embedding.parquet\n",
       "</pre>\n"
      ],
      "text/plain": [
       "sentinel_stack_S2A_MSIL2A_20200912T100031_N0500_R122_T34VEH_20230311T210416_embedding.parquet\n"
      ]
     },
     "metadata": {},
     "output_type": "display_data"
    },
    {
     "data": {
      "text/html": [
       "<pre style=\"white-space:pre;overflow-x:auto;line-height:normal;font-family:Menlo,'DejaVu Sans Mono',consolas,'Courier New',monospace\">[EmbeddingRowDataset] GET 198\n",
       "</pre>\n"
      ],
      "text/plain": [
       "[EmbeddingRowDataset] GET 198\n"
      ]
     },
     "metadata": {},
     "output_type": "display_data"
    },
    {
     "data": {
      "text/html": [
       "<pre style=\"white-space:pre;overflow-x:auto;line-height:normal;font-family:Menlo,'DejaVu Sans Mono',consolas,'Courier New',monospace\">  -&gt; file 0, row group 0, in_rg 198\n",
       "</pre>\n"
      ],
      "text/plain": [
       "  -> file 0, row group 0, in_rg 198\n"
      ]
     },
     "metadata": {},
     "output_type": "display_data"
    },
    {
     "name": "stderr",
     "output_type": "stream",
     "text": [
      "INFO: \n",
      "Detected KeyboardInterrupt, attempting graceful shutdown ...\n",
      "INFO:lightning.pytorch.utilities.rank_zero:\n",
      "Detected KeyboardInterrupt, attempting graceful shutdown ...\n"
     ]
    },
    {
     "data": {
      "text/html": [
       "<pre style=\"white-space:pre;overflow-x:auto;line-height:normal;font-family:Menlo,'DejaVu Sans Mono',consolas,'Courier New',monospace\"></pre>\n"
      ],
      "text/plain": []
     },
     "metadata": {},
     "output_type": "display_data"
    },
    {
     "ename": "NameError",
     "evalue": "name 'exit' is not defined",
     "output_type": "error",
     "traceback": [
      "\u001b[31m---------------------------------------------------------------------------\u001b[39m",
      "\u001b[31mKeyboardInterrupt\u001b[39m                         Traceback (most recent call last)",
      "\u001b[36mFile \u001b[39m\u001b[32m~/Documents/Code/CF_Demo/cf_demo/lib/python3.13/site-packages/lightning/pytorch/trainer/call.py:48\u001b[39m, in \u001b[36m_call_and_handle_interrupt\u001b[39m\u001b[34m(trainer, trainer_fn, *args, **kwargs)\u001b[39m\n\u001b[32m     47\u001b[39m         \u001b[38;5;28;01mreturn\u001b[39;00m trainer.strategy.launcher.launch(trainer_fn, *args, trainer=trainer, **kwargs)\n\u001b[32m---> \u001b[39m\u001b[32m48\u001b[39m     \u001b[38;5;28;01mreturn\u001b[39;00m \u001b[43mtrainer_fn\u001b[49m\u001b[43m(\u001b[49m\u001b[43m*\u001b[49m\u001b[43margs\u001b[49m\u001b[43m,\u001b[49m\u001b[43m \u001b[49m\u001b[43m*\u001b[49m\u001b[43m*\u001b[49m\u001b[43mkwargs\u001b[49m\u001b[43m)\u001b[49m\n\u001b[32m     50\u001b[39m \u001b[38;5;28;01mexcept\u001b[39;00m _TunerExitException:\n",
      "\u001b[36mFile \u001b[39m\u001b[32m~/Documents/Code/CF_Demo/cf_demo/lib/python3.13/site-packages/lightning/pytorch/trainer/trainer.py:599\u001b[39m, in \u001b[36mTrainer._fit_impl\u001b[39m\u001b[34m(self, model, train_dataloaders, val_dataloaders, datamodule, ckpt_path)\u001b[39m\n\u001b[32m    593\u001b[39m ckpt_path = \u001b[38;5;28mself\u001b[39m._checkpoint_connector._select_ckpt_path(\n\u001b[32m    594\u001b[39m     \u001b[38;5;28mself\u001b[39m.state.fn,\n\u001b[32m    595\u001b[39m     ckpt_path,\n\u001b[32m    596\u001b[39m     model_provided=\u001b[38;5;28;01mTrue\u001b[39;00m,\n\u001b[32m    597\u001b[39m     model_connected=\u001b[38;5;28mself\u001b[39m.lightning_module \u001b[38;5;129;01mis\u001b[39;00m \u001b[38;5;129;01mnot\u001b[39;00m \u001b[38;5;28;01mNone\u001b[39;00m,\n\u001b[32m    598\u001b[39m )\n\u001b[32m--> \u001b[39m\u001b[32m599\u001b[39m \u001b[38;5;28;43mself\u001b[39;49m\u001b[43m.\u001b[49m\u001b[43m_run\u001b[49m\u001b[43m(\u001b[49m\u001b[43mmodel\u001b[49m\u001b[43m,\u001b[49m\u001b[43m \u001b[49m\u001b[43mckpt_path\u001b[49m\u001b[43m=\u001b[49m\u001b[43mckpt_path\u001b[49m\u001b[43m)\u001b[49m\n\u001b[32m    601\u001b[39m \u001b[38;5;28;01massert\u001b[39;00m \u001b[38;5;28mself\u001b[39m.state.stopped\n",
      "\u001b[36mFile \u001b[39m\u001b[32m~/Documents/Code/CF_Demo/cf_demo/lib/python3.13/site-packages/lightning/pytorch/trainer/trainer.py:1012\u001b[39m, in \u001b[36mTrainer._run\u001b[39m\u001b[34m(self, model, ckpt_path)\u001b[39m\n\u001b[32m   1009\u001b[39m \u001b[38;5;66;03m# ----------------------------\u001b[39;00m\n\u001b[32m   1010\u001b[39m \u001b[38;5;66;03m# RUN THE TRAINER\u001b[39;00m\n\u001b[32m   1011\u001b[39m \u001b[38;5;66;03m# ----------------------------\u001b[39;00m\n\u001b[32m-> \u001b[39m\u001b[32m1012\u001b[39m results = \u001b[38;5;28;43mself\u001b[39;49m\u001b[43m.\u001b[49m\u001b[43m_run_stage\u001b[49m\u001b[43m(\u001b[49m\u001b[43m)\u001b[49m\n\u001b[32m   1014\u001b[39m \u001b[38;5;66;03m# ----------------------------\u001b[39;00m\n\u001b[32m   1015\u001b[39m \u001b[38;5;66;03m# POST-Training CLEAN UP\u001b[39;00m\n\u001b[32m   1016\u001b[39m \u001b[38;5;66;03m# ----------------------------\u001b[39;00m\n",
      "\u001b[36mFile \u001b[39m\u001b[32m~/Documents/Code/CF_Demo/cf_demo/lib/python3.13/site-packages/lightning/pytorch/trainer/trainer.py:1056\u001b[39m, in \u001b[36mTrainer._run_stage\u001b[39m\u001b[34m(self)\u001b[39m\n\u001b[32m   1055\u001b[39m \u001b[38;5;28;01mwith\u001b[39;00m torch.autograd.set_detect_anomaly(\u001b[38;5;28mself\u001b[39m._detect_anomaly):\n\u001b[32m-> \u001b[39m\u001b[32m1056\u001b[39m     \u001b[38;5;28;43mself\u001b[39;49m\u001b[43m.\u001b[49m\u001b[43mfit_loop\u001b[49m\u001b[43m.\u001b[49m\u001b[43mrun\u001b[49m\u001b[43m(\u001b[49m\u001b[43m)\u001b[49m\n\u001b[32m   1057\u001b[39m \u001b[38;5;28;01mreturn\u001b[39;00m \u001b[38;5;28;01mNone\u001b[39;00m\n",
      "\u001b[36mFile \u001b[39m\u001b[32m~/Documents/Code/CF_Demo/cf_demo/lib/python3.13/site-packages/lightning/pytorch/loops/fit_loop.py:216\u001b[39m, in \u001b[36m_FitLoop.run\u001b[39m\u001b[34m(self)\u001b[39m\n\u001b[32m    215\u001b[39m \u001b[38;5;28mself\u001b[39m.on_advance_start()\n\u001b[32m--> \u001b[39m\u001b[32m216\u001b[39m \u001b[38;5;28;43mself\u001b[39;49m\u001b[43m.\u001b[49m\u001b[43madvance\u001b[49m\u001b[43m(\u001b[49m\u001b[43m)\u001b[49m\n\u001b[32m    217\u001b[39m \u001b[38;5;28mself\u001b[39m.on_advance_end()\n",
      "\u001b[36mFile \u001b[39m\u001b[32m~/Documents/Code/CF_Demo/cf_demo/lib/python3.13/site-packages/lightning/pytorch/loops/fit_loop.py:455\u001b[39m, in \u001b[36m_FitLoop.advance\u001b[39m\u001b[34m(self)\u001b[39m\n\u001b[32m    454\u001b[39m \u001b[38;5;28;01massert\u001b[39;00m \u001b[38;5;28mself\u001b[39m._data_fetcher \u001b[38;5;129;01mis\u001b[39;00m \u001b[38;5;129;01mnot\u001b[39;00m \u001b[38;5;28;01mNone\u001b[39;00m\n\u001b[32m--> \u001b[39m\u001b[32m455\u001b[39m \u001b[38;5;28;43mself\u001b[39;49m\u001b[43m.\u001b[49m\u001b[43mepoch_loop\u001b[49m\u001b[43m.\u001b[49m\u001b[43mrun\u001b[49m\u001b[43m(\u001b[49m\u001b[38;5;28;43mself\u001b[39;49m\u001b[43m.\u001b[49m\u001b[43m_data_fetcher\u001b[49m\u001b[43m)\u001b[49m\n",
      "\u001b[36mFile \u001b[39m\u001b[32m~/Documents/Code/CF_Demo/cf_demo/lib/python3.13/site-packages/lightning/pytorch/loops/training_epoch_loop.py:150\u001b[39m, in \u001b[36m_TrainingEpochLoop.run\u001b[39m\u001b[34m(self, data_fetcher)\u001b[39m\n\u001b[32m    149\u001b[39m \u001b[38;5;28;01mtry\u001b[39;00m:\n\u001b[32m--> \u001b[39m\u001b[32m150\u001b[39m     \u001b[38;5;28;43mself\u001b[39;49m\u001b[43m.\u001b[49m\u001b[43madvance\u001b[49m\u001b[43m(\u001b[49m\u001b[43mdata_fetcher\u001b[49m\u001b[43m)\u001b[49m\n\u001b[32m    151\u001b[39m     \u001b[38;5;28mself\u001b[39m.on_advance_end(data_fetcher)\n",
      "\u001b[36mFile \u001b[39m\u001b[32m~/Documents/Code/CF_Demo/cf_demo/lib/python3.13/site-packages/lightning/pytorch/loops/training_epoch_loop.py:282\u001b[39m, in \u001b[36m_TrainingEpochLoop.advance\u001b[39m\u001b[34m(self, data_fetcher)\u001b[39m\n\u001b[32m    281\u001b[39m dataloader_iter = \u001b[38;5;28;01mNone\u001b[39;00m\n\u001b[32m--> \u001b[39m\u001b[32m282\u001b[39m batch, _, __ = \u001b[38;5;28;43mnext\u001b[39;49m\u001b[43m(\u001b[49m\u001b[43mdata_fetcher\u001b[49m\u001b[43m)\u001b[49m\n\u001b[32m    283\u001b[39m \u001b[38;5;66;03m# TODO: we should instead use the batch_idx returned by the fetcher, however, that will require saving the\u001b[39;00m\n\u001b[32m    284\u001b[39m \u001b[38;5;66;03m# fetcher state so that the batch_idx is correct after restarting\u001b[39;00m\n",
      "\u001b[36mFile \u001b[39m\u001b[32m~/Documents/Code/CF_Demo/cf_demo/lib/python3.13/site-packages/lightning/pytorch/loops/fetchers.py:134\u001b[39m, in \u001b[36m_PrefetchDataFetcher.__next__\u001b[39m\u001b[34m(self)\u001b[39m\n\u001b[32m    132\u001b[39m \u001b[38;5;28;01melif\u001b[39;00m \u001b[38;5;129;01mnot\u001b[39;00m \u001b[38;5;28mself\u001b[39m.done:\n\u001b[32m    133\u001b[39m     \u001b[38;5;66;03m# this will run only when no pre-fetching was done.\u001b[39;00m\n\u001b[32m--> \u001b[39m\u001b[32m134\u001b[39m     batch = \u001b[38;5;28;43msuper\u001b[39;49m\u001b[43m(\u001b[49m\u001b[43m)\u001b[49m\u001b[43m.\u001b[49m\u001b[34;43m__next__\u001b[39;49m\u001b[43m(\u001b[49m\u001b[43m)\u001b[49m\n\u001b[32m    135\u001b[39m \u001b[38;5;28;01melse\u001b[39;00m:\n\u001b[32m    136\u001b[39m     \u001b[38;5;66;03m# the iterator is empty\u001b[39;00m\n",
      "\u001b[36mFile \u001b[39m\u001b[32m~/Documents/Code/CF_Demo/cf_demo/lib/python3.13/site-packages/lightning/pytorch/loops/fetchers.py:61\u001b[39m, in \u001b[36m_DataFetcher.__next__\u001b[39m\u001b[34m(self)\u001b[39m\n\u001b[32m     60\u001b[39m \u001b[38;5;28;01mtry\u001b[39;00m:\n\u001b[32m---> \u001b[39m\u001b[32m61\u001b[39m     batch = \u001b[38;5;28;43mnext\u001b[39;49m\u001b[43m(\u001b[49m\u001b[38;5;28;43mself\u001b[39;49m\u001b[43m.\u001b[49m\u001b[43miterator\u001b[49m\u001b[43m)\u001b[49m\n\u001b[32m     62\u001b[39m \u001b[38;5;28;01mexcept\u001b[39;00m \u001b[38;5;167;01mStopIteration\u001b[39;00m:\n",
      "\u001b[36mFile \u001b[39m\u001b[32m~/Documents/Code/CF_Demo/cf_demo/lib/python3.13/site-packages/lightning/pytorch/utilities/combined_loader.py:341\u001b[39m, in \u001b[36mCombinedLoader.__next__\u001b[39m\u001b[34m(self)\u001b[39m\n\u001b[32m    340\u001b[39m \u001b[38;5;28;01massert\u001b[39;00m \u001b[38;5;28mself\u001b[39m._iterator \u001b[38;5;129;01mis\u001b[39;00m \u001b[38;5;129;01mnot\u001b[39;00m \u001b[38;5;28;01mNone\u001b[39;00m\n\u001b[32m--> \u001b[39m\u001b[32m341\u001b[39m out = \u001b[38;5;28;43mnext\u001b[39;49m\u001b[43m(\u001b[49m\u001b[38;5;28;43mself\u001b[39;49m\u001b[43m.\u001b[49m\u001b[43m_iterator\u001b[49m\u001b[43m)\u001b[49m\n\u001b[32m    342\u001b[39m \u001b[38;5;28;01mif\u001b[39;00m \u001b[38;5;28misinstance\u001b[39m(\u001b[38;5;28mself\u001b[39m._iterator, _Sequential):\n",
      "\u001b[36mFile \u001b[39m\u001b[32m~/Documents/Code/CF_Demo/cf_demo/lib/python3.13/site-packages/lightning/pytorch/utilities/combined_loader.py:78\u001b[39m, in \u001b[36m_MaxSizeCycle.__next__\u001b[39m\u001b[34m(self)\u001b[39m\n\u001b[32m     77\u001b[39m \u001b[38;5;28;01mtry\u001b[39;00m:\n\u001b[32m---> \u001b[39m\u001b[32m78\u001b[39m     out[i] = \u001b[38;5;28;43mnext\u001b[39;49m\u001b[43m(\u001b[49m\u001b[38;5;28;43mself\u001b[39;49m\u001b[43m.\u001b[49m\u001b[43miterators\u001b[49m\u001b[43m[\u001b[49m\u001b[43mi\u001b[49m\u001b[43m]\u001b[49m\u001b[43m)\u001b[49m\n\u001b[32m     79\u001b[39m \u001b[38;5;28;01mexcept\u001b[39;00m \u001b[38;5;167;01mStopIteration\u001b[39;00m:\n",
      "\u001b[36mFile \u001b[39m\u001b[32m~/Documents/Code/CF_Demo/cf_demo/lib/python3.13/site-packages/torch/utils/data/dataloader.py:734\u001b[39m, in \u001b[36m_BaseDataLoaderIter.__next__\u001b[39m\u001b[34m(self)\u001b[39m\n\u001b[32m    733\u001b[39m     \u001b[38;5;28mself\u001b[39m._reset()  \u001b[38;5;66;03m# type: ignore[call-arg]\u001b[39;00m\n\u001b[32m--> \u001b[39m\u001b[32m734\u001b[39m data = \u001b[38;5;28;43mself\u001b[39;49m\u001b[43m.\u001b[49m\u001b[43m_next_data\u001b[49m\u001b[43m(\u001b[49m\u001b[43m)\u001b[49m\n\u001b[32m    735\u001b[39m \u001b[38;5;28mself\u001b[39m._num_yielded += \u001b[32m1\u001b[39m\n",
      "\u001b[36mFile \u001b[39m\u001b[32m~/Documents/Code/CF_Demo/cf_demo/lib/python3.13/site-packages/torch/utils/data/dataloader.py:790\u001b[39m, in \u001b[36m_SingleProcessDataLoaderIter._next_data\u001b[39m\u001b[34m(self)\u001b[39m\n\u001b[32m    789\u001b[39m index = \u001b[38;5;28mself\u001b[39m._next_index()  \u001b[38;5;66;03m# may raise StopIteration\u001b[39;00m\n\u001b[32m--> \u001b[39m\u001b[32m790\u001b[39m data = \u001b[38;5;28;43mself\u001b[39;49m\u001b[43m.\u001b[49m\u001b[43m_dataset_fetcher\u001b[49m\u001b[43m.\u001b[49m\u001b[43mfetch\u001b[49m\u001b[43m(\u001b[49m\u001b[43mindex\u001b[49m\u001b[43m)\u001b[49m  \u001b[38;5;66;03m# may raise StopIteration\u001b[39;00m\n\u001b[32m    791\u001b[39m \u001b[38;5;28;01mif\u001b[39;00m \u001b[38;5;28mself\u001b[39m._pin_memory:\n",
      "\u001b[36mFile \u001b[39m\u001b[32m~/Documents/Code/CF_Demo/cf_demo/lib/python3.13/site-packages/torch/utils/data/_utils/fetch.py:52\u001b[39m, in \u001b[36m_MapDatasetFetcher.fetch\u001b[39m\u001b[34m(self, possibly_batched_index)\u001b[39m\n\u001b[32m     51\u001b[39m     \u001b[38;5;28;01melse\u001b[39;00m:\n\u001b[32m---> \u001b[39m\u001b[32m52\u001b[39m         data = [\u001b[38;5;28;43mself\u001b[39;49m\u001b[43m.\u001b[49m\u001b[43mdataset\u001b[49m\u001b[43m[\u001b[49m\u001b[43midx\u001b[49m\u001b[43m]\u001b[49m \u001b[38;5;28;01mfor\u001b[39;00m idx \u001b[38;5;129;01min\u001b[39;00m possibly_batched_index]\n\u001b[32m     53\u001b[39m \u001b[38;5;28;01melse\u001b[39;00m:\n",
      "\u001b[36mFile \u001b[39m\u001b[32m~/Documents/Code/CF_Demo/cf_demo/lib/python3.13/site-packages/terratorch/datasets/generic_embedding_dataset.py:178\u001b[39m, in \u001b[36mGenericEmbeddingDataset.__getitem__\u001b[39m\u001b[34m(self, idx)\u001b[39m\n\u001b[32m    177\u001b[39m pf = pq.ParquetFile(fpath)\n\u001b[32m--> \u001b[39m\u001b[32m178\u001b[39m tbl = \u001b[43mpf\u001b[49m\u001b[43m.\u001b[49m\u001b[43mread_row_group\u001b[49m\u001b[43m(\u001b[49m\u001b[43mrg_idx\u001b[49m\u001b[43m)\u001b[49m\n\u001b[32m    180\u001b[39m sample: Dict[\u001b[38;5;28mstr\u001b[39m, Any] = {}\n",
      "\u001b[36mFile \u001b[39m\u001b[32m~/Documents/Code/CF_Demo/cf_demo/lib/python3.13/site-packages/pyarrow/parquet/core.py:480\u001b[39m, in \u001b[36mParquetFile.read_row_group\u001b[39m\u001b[34m(self, i, columns, use_threads, use_pandas_metadata)\u001b[39m\n\u001b[32m    478\u001b[39m column_indices = \u001b[38;5;28mself\u001b[39m._get_column_indices(\n\u001b[32m    479\u001b[39m     columns, use_pandas_metadata=use_pandas_metadata)\n\u001b[32m--> \u001b[39m\u001b[32m480\u001b[39m \u001b[38;5;28;01mreturn\u001b[39;00m \u001b[38;5;28;43mself\u001b[39;49m\u001b[43m.\u001b[49m\u001b[43mreader\u001b[49m\u001b[43m.\u001b[49m\u001b[43mread_row_group\u001b[49m\u001b[43m(\u001b[49m\u001b[43mi\u001b[49m\u001b[43m,\u001b[49m\u001b[43m \u001b[49m\u001b[43mcolumn_indices\u001b[49m\u001b[43m=\u001b[49m\u001b[43mcolumn_indices\u001b[49m\u001b[43m,\u001b[49m\n\u001b[32m    481\u001b[39m \u001b[43m                                  \u001b[49m\u001b[43muse_threads\u001b[49m\u001b[43m=\u001b[49m\u001b[43muse_threads\u001b[49m\u001b[43m)\u001b[49m\n",
      "\u001b[31mKeyboardInterrupt\u001b[39m: ",
      "\nDuring handling of the above exception, another exception occurred:\n",
      "\u001b[31mNameError\u001b[39m                                 Traceback (most recent call last)",
      "\u001b[36mCell\u001b[39m\u001b[36m \u001b[39m\u001b[32mIn[5]\u001b[39m\u001b[32m, line 1\u001b[39m\n\u001b[32m----> \u001b[39m\u001b[32m1\u001b[39m \u001b[43mtrainer\u001b[49m\u001b[43m.\u001b[49m\u001b[43mfit\u001b[49m\u001b[43m(\u001b[49m\u001b[43mmodel\u001b[49m\u001b[43m,\u001b[49m\u001b[43m \u001b[49m\u001b[43mdatamodule\u001b[49m\u001b[43m=\u001b[49m\u001b[43mdatamodule\u001b[49m\u001b[43m)\u001b[49m\n",
      "\u001b[36mFile \u001b[39m\u001b[32m~/Documents/Code/CF_Demo/cf_demo/lib/python3.13/site-packages/lightning/pytorch/trainer/trainer.py:561\u001b[39m, in \u001b[36mTrainer.fit\u001b[39m\u001b[34m(self, model, train_dataloaders, val_dataloaders, datamodule, ckpt_path)\u001b[39m\n\u001b[32m    559\u001b[39m \u001b[38;5;28mself\u001b[39m.training = \u001b[38;5;28;01mTrue\u001b[39;00m\n\u001b[32m    560\u001b[39m \u001b[38;5;28mself\u001b[39m.should_stop = \u001b[38;5;28;01mFalse\u001b[39;00m\n\u001b[32m--> \u001b[39m\u001b[32m561\u001b[39m \u001b[43mcall\u001b[49m\u001b[43m.\u001b[49m\u001b[43m_call_and_handle_interrupt\u001b[49m\u001b[43m(\u001b[49m\n\u001b[32m    562\u001b[39m \u001b[43m    \u001b[49m\u001b[38;5;28;43mself\u001b[39;49m\u001b[43m,\u001b[49m\u001b[43m \u001b[49m\u001b[38;5;28;43mself\u001b[39;49m\u001b[43m.\u001b[49m\u001b[43m_fit_impl\u001b[49m\u001b[43m,\u001b[49m\u001b[43m \u001b[49m\u001b[43mmodel\u001b[49m\u001b[43m,\u001b[49m\u001b[43m \u001b[49m\u001b[43mtrain_dataloaders\u001b[49m\u001b[43m,\u001b[49m\u001b[43m \u001b[49m\u001b[43mval_dataloaders\u001b[49m\u001b[43m,\u001b[49m\u001b[43m \u001b[49m\u001b[43mdatamodule\u001b[49m\u001b[43m,\u001b[49m\u001b[43m \u001b[49m\u001b[43mckpt_path\u001b[49m\n\u001b[32m    563\u001b[39m \u001b[43m\u001b[49m\u001b[43m)\u001b[49m\n",
      "\u001b[36mFile \u001b[39m\u001b[32m~/Documents/Code/CF_Demo/cf_demo/lib/python3.13/site-packages/lightning/pytorch/trainer/call.py:65\u001b[39m, in \u001b[36m_call_and_handle_interrupt\u001b[39m\u001b[34m(trainer, trainer_fn, *args, **kwargs)\u001b[39m\n\u001b[32m     63\u001b[39m     \u001b[38;5;28;01mif\u001b[39;00m \u001b[38;5;28misinstance\u001b[39m(launcher, _SubprocessScriptLauncher):\n\u001b[32m     64\u001b[39m         launcher.kill(_get_sigkill_signal())\n\u001b[32m---> \u001b[39m\u001b[32m65\u001b[39m     \u001b[43mexit\u001b[49m(\u001b[32m1\u001b[39m)\n\u001b[32m     67\u001b[39m \u001b[38;5;28;01mexcept\u001b[39;00m \u001b[38;5;167;01mBaseException\u001b[39;00m \u001b[38;5;28;01mas\u001b[39;00m exception:\n\u001b[32m     68\u001b[39m     _interrupt(trainer, exception)\n",
      "\u001b[31mNameError\u001b[39m: name 'exit' is not defined"
     ]
    }
   ],
   "source": [
    "trainer.fit(model, datamodule=datamodule)"
   ]
  }
 ],
 "metadata": {
  "kernelspec": {
   "display_name": "base",
   "language": "python",
   "name": "python3"
  },
  "language_info": {
   "codemirror_mode": {
    "name": "ipython",
    "version": 3
   },
   "file_extension": ".py",
   "mimetype": "text/x-python",
   "name": "python",
   "nbconvert_exporter": "python",
   "pygments_lexer": "ipython3",
   "version": "3.13.2"
  }
 },
 "nbformat": 4,
 "nbformat_minor": 5
}
