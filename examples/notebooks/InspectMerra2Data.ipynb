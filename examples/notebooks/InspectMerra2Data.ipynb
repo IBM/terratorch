{
 "cells": [
  {
   "cell_type": "code",
   "id": "initial_id",
   "metadata": {
    "collapsed": true
   },
   "source": [
    "import xarray as xr\n",
    "from granitewxc.utils.config import get_config\n",
    "from granitewxc.utils.data import _get_transforms\n",
    "\n",
    "config = get_config(\"../../integrationtests/test_prithvi_wxc_model_factory_config.yaml\")"
   ],
   "outputs": [],
   "execution_count": null
  },
  {
   "metadata": {},
   "cell_type": "code",
   "source": "ds = xr.open_dataset(f'{config.data.data_path_surface}/MERRA2_sfc_19800101.nc')",
   "id": "491de2f5a1fcacc7",
   "outputs": [],
   "execution_count": null
  },
  {
   "metadata": {},
   "cell_type": "code",
   "source": "ds",
   "id": "f3aaad1bfe70c524",
   "outputs": [],
   "execution_count": null
  },
  {
   "metadata": {},
   "cell_type": "code",
   "source": "",
   "id": "45c6800d47520f1a",
   "outputs": [],
   "execution_count": null
  },
  {
   "metadata": {},
   "cell_type": "code",
   "source": [
    "from terratorch.datamodules.merra2_downscale import Merra2DownscaleNonGeoDataModule\n",
    "dm = Merra2DownscaleNonGeoDataModule(\n",
    "    time_range=('2001-01-01', '2001-01-02'),\n",
    "    data_path_surface = config.data.data_path_surface,\n",
    "    data_path_vertical = config.data.data_path_vertical,\n",
    "    climatology_path_surface = config.data.climatology_path_surface,\n",
    "    climatology_path_vertical = config.data.climatology_path_vertical,\n",
    "    input_surface_vars = config.data.input_surface_vars,\n",
    "    input_static_surface_vars = config.data.input_static_surface_vars,\n",
    "    input_vertical_vars = config.data.input_vertical_vars,\n",
    "    input_levels = config.data.input_levels,\n",
    "    n_input_timestamps = config.data.n_input_timestamps,\n",
    "    output_vars=config.data.output_vars,\n",
    "    transforms=_get_transforms(config),\n",
    ")\n",
    "dm.setup('predict')"
   ],
   "id": "25c2c082084f5070",
   "outputs": [],
   "execution_count": null
  },
  {
   "metadata": {},
   "cell_type": "code",
   "source": "item = dm.predict_dataloader().dataset[0]",
   "id": "7b49b7ab084fc7db",
   "outputs": [],
   "execution_count": null
  },
  {
   "metadata": {},
   "cell_type": "code",
   "source": "type(item)",
   "id": "c5a0d2342430727c",
   "outputs": [],
   "execution_count": null
  },
  {
   "metadata": {},
   "cell_type": "code",
   "source": "item.keys()",
   "id": "31dc81de5131fc82",
   "outputs": [],
   "execution_count": null
  },
  {
   "metadata": {},
   "cell_type": "code",
   "source": "type(item['x'])",
   "id": "d41df3dde88dc010",
   "outputs": [],
   "execution_count": null
  },
  {
   "metadata": {},
   "cell_type": "code",
   "source": "item['x'].shape",
   "id": "c1143d39a3c39cc5",
   "outputs": [],
   "execution_count": null
  },
  {
   "metadata": {},
   "cell_type": "code",
   "source": "item['y'].shape\n",
   "id": "b6a25e5b6046d9c7",
   "outputs": [],
   "execution_count": null
  },
  {
   "metadata": {},
   "cell_type": "code",
   "source": [
    "for key in item.keys():\n",
    "    print(key)\n",
    "    print(item[key].shape)"
   ],
   "id": "b491aa2e883634ab",
   "outputs": [],
   "execution_count": null
  },
  {
   "metadata": {},
   "cell_type": "code",
   "source": "ds = xr.open_dataset(f'{config.data.climatology_path_surface}/climate_surface_doy241_hour09.nc')\n",
   "id": "3b6210fb62905090",
   "outputs": [],
   "execution_count": null
  },
  {
   "metadata": {},
   "cell_type": "code",
   "source": "ds",
   "id": "e81e22919f5103d0",
   "outputs": [],
   "execution_count": null
  },
  {
   "metadata": {},
   "cell_type": "code",
   "source": "",
   "id": "a8a23c68d9b94c4b",
   "outputs": [],
   "execution_count": null
  }
 ],
 "metadata": {
  "kernelspec": {
   "display_name": "Python 3",
   "language": "python",
   "name": "python3"
  },
  "language_info": {
   "codemirror_mode": {
    "name": "ipython",
    "version": 2
   },
   "file_extension": ".py",
   "mimetype": "text/x-python",
   "name": "python",
   "nbconvert_exporter": "python",
   "pygments_lexer": "ipython2",
   "version": "2.7.6"
  }
 },
 "nbformat": 4,
 "nbformat_minor": 5
}
