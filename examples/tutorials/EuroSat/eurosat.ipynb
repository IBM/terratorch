{
 "cells": [
  {
   "cell_type": "code",
   "execution_count": null,
   "id": "4517b6cc-52e2-47a3-9cc6-f32bb9a5d281",
   "metadata": {},
   "outputs": [],
   "source": [
    "import os\n",
    "import sys\n",
    "import torch\n",
    "import torchgeo\n",
    "import terratorch\n",
    "import albumentations\n",
    "import lightning.pytorch as pl\n",
    "import matplotlib.pyplot as plt\n",
    "from pathlib import Path\n",
    "from terratorch.datamodules import GenericNonGeoSegmentationDataModule\n",
    "from terratorch.models import EncoderDecoderFactory\n",
    "from terratorch.models.decoders import IdentityDecoder\n",
    "from albumentations.pytorch import ToTensorV2\n",
    "import warnings\n",
    "\n",
    "warnings.filterwarnings('ignore')"
   ]
  },
  {
   "cell_type": "code",
   "execution_count": null,
   "id": "38d00d72-a40b-42a1-af2d-2d2f7d897030",
   "metadata": {},
   "outputs": [],
   "source": [
    "max_epochs = 1"
   ]
  },
  {
   "cell_type": "markdown",
   "id": "4c1ca611-d661-4e22-910a-3cd3611bbec4",
   "metadata": {},
   "source": [
    "### Our datamodule. "
   ]
  },
  {
   "cell_type": "code",
   "execution_count": null,
   "id": "531ac024-286d-4b9b-b4c7-976a8da47f49",
   "metadata": {},
   "outputs": [],
   "source": [
    "datamodule = terratorch.datamodules.TorchNonGeoDataModule(\n",
    "    transforms = [\n",
    "      albumentations.augmentations.geometric.resize.Resize(height=224, width=224),\n",
    "      ToTensorV2()],\n",
    "      cls=torchgeo.datamodules.EuroSATDataModule,\n",
    "      batch_size=32,\n",
    "      num_workers=8,\n",
    "      root=\"./EuroSat\",\n",
    "      download=True,\n",
    "      bands = [\"B02\",\"B03\", \"B04\", \"B8A\", \"B11\", \"B12\"]\n",
    ")\n"
   ]
  },
  {
   "cell_type": "markdown",
   "id": "cd4e6edc-ab2e-4567-998f-6f1b0a496488",
   "metadata": {},
   "source": [
    "### Instantiating the Trainer."
   ]
  },
  {
   "cell_type": "code",
   "execution_count": null,
   "id": "c96390d6-ac33-46d5-8f54-d073aeb924b2",
   "metadata": {},
   "outputs": [],
   "source": [
    "pl.seed_everything(0)\n",
    "\n",
    "checkpoint_callback = pl.callbacks.ModelCheckpoint(\n",
    "    dirpath=\"output/burnscars/checkpoints/\",\n",
    "    mode=\"max\",\n",
    "    monitor=\"val/Multiclass_Jaccard_Index\", # Variable to monitor\n",
    "    filename=\"best-{epoch:02d}\",\n",
    ")\n",
    "\n",
    "# Lightning Trainer\n",
    "trainer = pl.Trainer(\n",
    "    accelerator=\"auto\",\n",
    "    strategy=\"auto\",\n",
    "    devices=1, # Deactivate multi-gpu because it often fails in notebooks\n",
    "    precision='bf16-mixed',  # Speed up training\n",
    "    num_nodes=max_epochs,\n",
    "    logger=True,  # Uses TensorBoard by default\n",
    "    max_epochs=max_epochs, # For demos\n",
    "    log_every_n_steps=1,\n",
    "    enable_checkpointing=True,\n",
    "    #callbacks=[checkpoint_callback, pl.callbacks.RichProgressBar()],\n",
    "    default_root_dir=\"output/eurosat\",\n",
    "    detect_anomaly=True,\n",
    ")\n"
   ]
  },
  {
   "cell_type": "markdown",
   "id": "66ae6c14-70c8-492b-9497-a8b9f0f5f1d3",
   "metadata": {},
   "source": [
    "### Classification task. "
   ]
  },
  {
   "cell_type": "code",
   "execution_count": null,
   "id": "8ac70af4-dac1-40b1-a38d-5d305c43e9e7",
   "metadata": {},
   "outputs": [],
   "source": [
    "model = terratorch.tasks.ClassificationTask(\n",
    "        model_args={\n",
    "      \"decoder\": \"IdentityDecoder\",\n",
    "      \"backbone_pretrained\": True,\n",
    "      \"backbone\": \"prithvi_eo_v2_300\",\n",
    "      \"head_dim_list\": [384, 128],\n",
    "      \"backbone_bands\":\n",
    "        [\"BLUE\",\n",
    "        \"GREEN\",\n",
    "        \"RED\",\n",
    "        \"NIR_NARROW\",\n",
    "        \"SWIR_1\",\n",
    "        \"SWIR_2\"],\n",
    "      \"num_classes\": 10,\n",
    "     \"head_dropout\": 0.1\n",
    "      },\n",
    "     loss = \"ce\",\n",
    "     freeze_backbone = False,\n",
    "     model_factory = \"EncoderDecoderFactory\",\n",
    "     optimizer = \"AdamW\",\n",
    "     lr = 1.e-4,\n",
    "     scheduler_hparams = {\n",
    "         \"weight_decay\" : 0.05,\n",
    "     }\n",
    ")"
   ]
  },
  {
   "cell_type": "markdown",
   "id": "0f7c9cec-e6c2-4f43-9953-6b2b78906890",
   "metadata": {},
   "source": [
    "### Executing the training. "
   ]
  },
  {
   "cell_type": "code",
   "execution_count": null,
   "id": "b2616fdf-c973-4361-86a4-dd0cd44552c8",
   "metadata": {},
   "outputs": [],
   "source": [
    "trainer.fit(model, datamodule=datamodule)"
   ]
  },
  {
   "cell_type": "markdown",
   "id": "4284cc77-d348-47d2-98e9-fa6e5de5d2af",
   "metadata": {},
   "source": [
    "### Executing the test step. "
   ]
  },
  {
   "cell_type": "code",
   "execution_count": null,
   "id": "3baa3610-32a5-4b78-bfdc-847487a9ec64",
   "metadata": {},
   "outputs": [],
   "source": [
    "trainer.test(model, datamodule=datamodule)"
   ]
  }
 ],
 "metadata": {
  "kernelspec": {
   "display_name": "Python 3 (ipykernel)",
   "language": "python",
   "name": "python3"
  },
  "language_info": {
   "codemirror_mode": {
    "name": "ipython",
    "version": 3
   },
   "file_extension": ".py",
   "mimetype": "text/x-python",
   "name": "python",
   "nbconvert_exporter": "python",
   "pygments_lexer": "ipython3",
   "version": "3.12.1"
  }
 },
 "nbformat": 4,
 "nbformat_minor": 5
}
